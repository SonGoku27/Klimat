{
 "cells": [
  {
   "cell_type": "markdown",
   "metadata": {},
   "source": [
    "**Исследование комфортных условий в офисах в разных странах**\n",
    "\n",
    "Цель: Определить, в какой тип климатического оборудования стоит инвестировать больше, чтобы повысить удовлетворённость клиентов. Понять климатические особенности разных регионов, оценить комфорт в офисах и найти закономерности."
   ]
  },
  {
   "cell_type": "code",
   "execution_count": null,
   "metadata": {},
   "outputs": [],
   "source": [
    "# Импортируем основные библиотеки для анализа и визуализации\n",
    "import pandas as pd\n",
    "import matplotlib.pyplot as plt\n",
    "import numpy as np\n",
    "from numpy.linalg import lstsq\n",
    "import seaborn as sns\n",
    "import os\n",
    "\n",
    "# Настраиваем отображение всех колонок при выводе\n",
    "pd.set_option(\"display.max_columns\", None)\n",
    "\n",
    "# Загружаем датасет (предварительно выгруженный в формате CSV)\n",
    "df = pd.read_csv(\"Data.csv\", delimiter=\";\")\n"
   ]
  },
  {
   "cell_type": "markdown",
   "metadata": {},
   "source": [
    "Мы начинаем с загрузки данных, в которых содержатся измерения условий в офисах в разных странах, включая температуру, влажность, скорость воздуха, а также субъективные оценки комфорта.\n"
   ]
  },
  {
   "cell_type": "markdown",
   "metadata": {},
   "source": [
    "**Подготовка данных**"
   ]
  },
  {
   "cell_type": "code",
   "execution_count": null,
   "metadata": {},
   "outputs": [],
   "source": [
    "# Добавляем возрастные группы по заданным интервалам\n",
    "df[\"Возрастная группа\"] = pd.cut(\n",
    "    df[\"Возраст\"],\n",
    "    bins=[0, 18, 30, 45, 60, 120],\n",
    "    labels=[\"<18\", \"18-30\", \"30-45\", \"45-60\", \"60+\"],\n",
    "    right=False\n",
    ")\n",
    "\n",
    "# Разбиваем относительную влажность на категории\n",
    "df[\"RH комфорт\"] = pd.cut(\n",
    "    df[\"RH\"],\n",
    "    bins=[0, 30, 60, 100],\n",
    "    labels=[\"Сухо\", \"Комфорт\", \"Влажно\"],\n",
    "    right=False\n",
    ")\n",
    "\n",
    "# Убираем пробелы в названиях способов охлаждения\n",
    "df[\"Способ охлаждения\"] = df[\"Способ охлаждения\"].astype(str).str.strip()\n",
    "\n",
    "# Создаём папку для сохранения графиков, если её ещё нет\n",
    "os.makedirs(\"plots\", exist_ok=True)\n"
   ]
  },
  {
   "cell_type": "markdown",
   "metadata": {},
   "source": [
    "Эти категории помогут нам анализировать предпочтения и комфорт среди разных возрастов и условий."
   ]
  },
  {
   "cell_type": "markdown",
   "metadata": {},
   "source": [
    "**Группировка по полу и возрасту. Средние значения**"
   ]
  },
  {
   "cell_type": "code",
   "execution_count": null,
   "metadata": {},
   "outputs": [],
   "source": [
    "# Группировка по стране\n",
    "for country in df[\"Страна\"].dropna().unique():\n",
    "    df_country = df[df[\"Страна\"] == country].copy()\n",
    "\n",
    "    summary = (\n",
    "        df_country.dropna(subset=[\"Пол\", \"Возрастная группа\", \"Температура воздуха в помещении\"])\n",
    "        .groupby([\"Пол\", \"Возрастная группа\"], observed=True)\n",
    "        .agg({\n",
    "            \"Температура воздуха в помещении\": \"mean\",\n",
    "            \"Температура воздуха на улице\": \"mean\",\n",
    "            \"RH\": \"mean\"\n",
    "        })\n",
    "        .reset_index()\n",
    "        .rename(columns={\n",
    "            \"Температура воздуха в помещении\": \"Средняя температура в помещении\",\n",
    "            \"Температура воздуха на улице\": \"Средняя температура на улице\",\n",
    "            \"RH\": \"Средняя влажность\"\n",
    "        })\n",
    "    )\n",
    "\n",
    "    display(summary)\n"
   ]
  },
  {
   "cell_type": "markdown",
   "metadata": {},
   "source": [
    "Эта таблица позволяет увидеть климатический комфорт внутри и снаружи помещения, а также различия между мужчинами и женщинами разных возрастов."
   ]
  },
  {
   "cell_type": "markdown",
   "metadata": {},
   "source": [
    "**Комфортная влажность: соответствие стандарту**\n",
    "\n",
    "Согласно рекомендациям ASHRAE и ГОСТ, оптимальный уровень относительной влажности в помещениях: 30–60%."
   ]
  },
  {
   "cell_type": "code",
   "execution_count": null,
   "metadata": {},
   "outputs": [],
   "source": [
    "# Оцениваем, соответствует ли RH стандарту комфорта\n",
    "df[\"RH_стандарт\"] = df[\"RH\"].apply(lambda x: \"В норме\" if 30 <= x <= 60 else \"Отклонение\")\n"
   ]
  },
  {
   "cell_type": "markdown",
   "metadata": {},
   "source": [
    "**Корреляционный анализ**"
   ]
  },
  {
   "cell_type": "code",
   "execution_count": null,
   "metadata": {},
   "outputs": [],
   "source": [
    "corr_cols = [\n",
    "    \"Температура воздуха в помещении\",\n",
    "    \"Температура воздуха на улице\",\n",
    "    \"RH\",\n",
    "    \"Скорость воздуха\",\n",
    "    \"Оценка комфорта\",\n",
    "    \"Среднемесячная температура на улице\"\n",
    "]\n",
    "\n",
    "for country in df[\"Страна\"].dropna().unique():\n",
    "    df_country = df[df[\"Страна\"] == country].copy()\n",
    "    corr_df = df_country[corr_cols].dropna()\n",
    "\n",
    "    if not corr_df.empty:\n",
    "        corr = corr_df.corr()\n",
    "        plt.figure(figsize=(8, 6))\n",
    "        sns.heatmap(corr, annot=True, cmap=\"coolwarm\", fmt=\".2f\")\n",
    "        plt.title(f\"Корреляция ({country})\")\n",
    "        plt.tight_layout()\n",
    "        plt.savefig(f\"plots/correlation_{country}.png\")\n",
    "        plt.close()\n"
   ]
  },
  {
   "cell_type": "markdown",
   "metadata": {},
   "source": [
    "В большинстве стран наблюдается сильная положительная корреляция между температурой на улице и внутри офиса. Это означает, что системы охлаждения не всегда компенсируют внешний климат."
   ]
  },
  {
   "cell_type": "markdown",
   "metadata": {},
   "source": [
    "**Регрессионная модель: что влияет на внутреннюю температуру?**"
   ]
  },
  {
   "cell_type": "code",
   "execution_count": null,
   "metadata": {},
   "outputs": [],
   "source": [
    "for country in df[\"Страна\"].dropna().unique():\n",
    "    df_country = df[df[\"Страна\"] == country].copy()\n",
    "\n",
    "    model_cols = [\n",
    "        \"Температура воздуха в помещении\",\n",
    "        \"Температура воздуха на улице\",\n",
    "        \"RH\",\n",
    "        \"Скорость воздуха\",\n",
    "        \"Оценка комфорта\",\n",
    "        \"Способ охлаждения\"\n",
    "    ]\n",
    "    df_model = df_country[model_cols].dropna()\n",
    "\n",
    "    if not df_model.empty:\n",
    "        X = pd.concat([\n",
    "            df_model[[\"Температура воздуха на улице\", \"RH\", \"Скорость воздуха\", \"Оценка комфорта\"]],\n",
    "            pd.get_dummies(df_model[\"Способ охлаждения\"], prefix=\"Охлаждение\", dtype=float)\n",
    "        ], axis=1)\n",
    "\n",
    "        X = X.astype(float)\n",
    "        y = df_model[\"Температура воздуха в помещении\"].astype(float)\n",
    "        X.insert(0, \"Intercept\", 1.0)\n",
    "\n",
    "        beta = lstsq(X.values, y.values, rcond=None)[0]\n",
    "        y_pred = X @ beta\n",
    "        r2 = 1 - np.sum((y - y_pred) ** 2) / np.sum((y - np.mean(y)) ** 2)\n",
    "        rmse = np.sqrt(np.mean((y - y_pred) ** 2))\n",
    "\n",
    "        print(f\"=== {country} ===\")\n",
    "        print(\"Коэффициенты регрессии:\")\n",
    "        for name, coef in zip(X.columns, beta):\n",
    "            print(f\"{name}: {coef:.3f}\")\n",
    "        print(f\"R2: {r2:.4f}\")\n",
    "        print(f\"RMSE: {rmse:.4f}\")\n"
   ]
  },
  {
   "cell_type": "markdown",
   "metadata": {},
   "source": [
    "Интерпретация:\n",
    "\n",
    "Большие значения R² (близкие к 1) говорят о хорошем качестве модели.\n",
    "Значимые коэффициенты у переменных типа охлаждения могут показать, какие методы наиболее эффективны в конкретных климатических условиях."
   ]
  },
  {
   "cell_type": "markdown",
   "metadata": {},
   "source": [
    "**Выводы**"
   ]
  },
  {
   "cell_type": "markdown",
   "metadata": {},
   "source": [
    "1. Температура в офисе часто зависит от температуры на улице, особенно в странах с жарким климатом.\n",
    "2. Влажность во многих случаях отклоняется от рекомендованной — важно инвестировать в увлажнители/осушители воздуха.\n",
    "3. Тип охлаждения (например, центральный кондиционер, вентиляция и т.д.) имеет разный эффект в зависимости от региона.\n",
    "4. Рекомендация: Инвестировать больше в региональные решения, например, мощное кондиционирование в жарких странах и системы вентиляции с контролем влажности в странах с колебаниями влажности."
   ]
  }
 ],
 "metadata": {
  "kernelspec": {
   "display_name": "Python 3",
   "language": "python",
   "name": "python3"
  },
  "language_info": {
   "name": "python",
   "version": "3.11.1"
  }
 },
 "nbformat": 4,
 "nbformat_minor": 2
}
