{
  "nbformat": 4,
  "nbformat_minor": 0,
  "metadata": {
    "colab": {
      "provenance": [],
      "mount_file_id": "12ufHx4rWrSxDY1X6Afnw1QFAEzLqztqH",
      "authorship_tag": "ABX9TyPRhqnZpU7fdAsbs3RROmfq",
      "include_colab_link": true
    },
    "kernelspec": {
      "name": "python3",
      "display_name": "Python 3"
    },
    "language_info": {
      "name": "python"
    }
  },
  "cells": [
    {
      "cell_type": "markdown",
      "metadata": {
        "id": "view-in-github",
        "colab_type": "text"
      },
      "source": [
        "<a href=\"https://colab.research.google.com/github/SonGoku27/Klimat/blob/main/Climat_Neon.ipynb\" target=\"_parent\"><img src=\"https://colab.research.google.com/assets/colab-badge.svg\" alt=\"Open In Colab\"/></a>"
      ]
    },
    {
      "cell_type": "markdown",
      "source": [
        "# Исследование данных на качество и предобработка\n",
        "# Проведение расчётов и исследований Амир (Origami)\n"
      ],
      "metadata": {
        "id": "BYGEiIZTpYbe"
      }
    },
    {
      "cell_type": "code",
      "source": [
        "import pandas as pd\n",
        "import matplotlib.pyplot as plt\n",
        "import numpy as np\n",
        "df = pd.read_csv('/content/drive/MyDrive/yandex_data/data_1.csv', sep=\";\")\n",
        "def emissions(zxc):\n",
        "    for i in ['утепление', 'температура_воздуха_в_помещении', 'скорость_воздуха', 'рост',\n",
        "              'среднемесячная_температура_на_улице']:\n",
        "        zxc = zxc[(zxc[i] > zxc[i].quantile(0.01)) & (zxc[i] < zxc[i].quantile(0.99))]\n",
        "    return zxc\n",
        "\n",
        "\n",
        "def zxc(z):\n",
        "    if z <= 44:\n",
        "        return 'молодой возраст'\n",
        "    elif 45 <= z <= 59:\n",
        "        return 'средний возраст'\n",
        "    elif z > 60:\n",
        "        return 'пожилой возраст'\n",
        "\n",
        "\n",
        "def qwe(x):\n",
        "    if x <= 1:\n",
        "        return 'мало'\n",
        "    elif x == 2:\n",
        "        return 'средне'\n",
        "    elif x > 2:\n",
        "        return 'много'\n",
        "\n",
        "\n",
        "pd.set_option('display.max_columns', None)\n",
        "df.dropna()\n",
        "df.columns = df.columns.str.replace(' ', '_').str.lower()\n",
        "df['год'] = df['год'].astype('int')\n",
        "df_no_duplicates = df.drop_duplicates(\n",
        "    subset=['время_года', 'способ_охлаждения', 'режим_при_смешанном_типе_охлаждения', 'способ_обогрева', 'пол',\n",
        "            'ощущение_температуры_(bool)', 'предпочтительное_изменение_температуры', 'ощущение_движения_воздуха_(bool)',\n",
        "            'предпочтительное_изменение_движения_воздуха', 'занавески', 'вентилятор',\n",
        "            'окно', 'двери', 'отопление'],\n",
        "    keep=False)\n",
        "print()\n",
        "df['рост'] = df['рост'].fillna(df['рост'].describe().median())\n",
        "df['вес'] = df['вес'].fillna(df['вес'].describe().median())\n",
        "df['пол'].fillna('Пол не указан')\n",
        "df.loc[df['климат'] == 'Субтроп океанич', 'климат'] = 'Субтропический океанический'\n",
        "df.loc[df['способ_охлаждения'] == 'Тепле', 'способ_охлаждения'] = 'Теплее'\n",
        "df.loc[df['способ_охлаждения'] == 'Холодн', 'способ_охлаждения'] = 'Холоднее'\n",
        "df['оценка_комфорта'] = df['оценка_комфорта'].fillna(df['оценка_комфорта'].describe().loc['50%'])\n",
        "df['количество_рекламаций_кат'] = [qwe(i) for i in df['количество_рекламаций']]\n",
        "print([df['возраст']])\n",
        "df['возраст_кат'] = [zxc(i) for i in df['возраст']]\n",
        "print([df['возраст_кат']])\n",
        "print(df['количество_рекламаций_кат'])\n",
        "df1 = emissions(df)\n",
        "\n",
        "df2 = df1[['страна', 'пол', 'возраст']]\n",
        "print(df2)\n",
        "print(df2.groupby(['страна', 'пол']).mean())"
      ],
      "metadata": {
        "colab": {
          "base_uri": "https://localhost:8080/"
        },
        "id": "VjUc_OuWeQEM",
        "outputId": "4fa17d57-b9cf-4cc5-ed53-0646389af887"
      },
      "execution_count": 21,
      "outputs": [
        {
          "output_type": "stream",
          "name": "stdout",
          "text": [
            "\n",
            "[0      22.0\n",
            "1      40.0\n",
            "2      42.0\n",
            "3      27.0\n",
            "4      46.0\n",
            "       ... \n",
            "479    35.0\n",
            "480     NaN\n",
            "481     NaN\n",
            "482     NaN\n",
            "483     NaN\n",
            "Name: возраст, Length: 484, dtype: float64]\n",
            "[0      молодой возраст\n",
            "1      молодой возраст\n",
            "2      молодой возраст\n",
            "3      молодой возраст\n",
            "4      средний возраст\n",
            "            ...       \n",
            "479    молодой возраст\n",
            "480               None\n",
            "481               None\n",
            "482               None\n",
            "483               None\n",
            "Name: возраст_кат, Length: 484, dtype: object]\n",
            "0      мало\n",
            "1      мало\n",
            "2      мало\n",
            "3      мало\n",
            "4      мало\n",
            "       ... \n",
            "479    мало\n",
            "480    мало\n",
            "481    мало\n",
            "482    мало\n",
            "483    мало\n",
            "Name: количество_рекламаций_кат, Length: 484, dtype: object\n",
            "    страна      пол  возраст\n",
            "0      США      NaN     22.0\n",
            "1      США      NaN     40.0\n",
            "2      США      NaN     42.0\n",
            "5      США      NaN     27.0\n",
            "6      США      NaN     32.0\n",
            "..     ...      ...      ...\n",
            "479  Индия  Мужской     35.0\n",
            "480  Индия  Мужской      NaN\n",
            "481  Индия  Женский      NaN\n",
            "482  Индия  Женский      NaN\n",
            "483  Индия  Женский      NaN\n",
            "\n",
            "[406 rows x 3 columns]\n",
            "                     возраст\n",
            "страна    пол               \n",
            "Австралия Женский  46.219512\n",
            "          Мужской  42.570093\n",
            "Индия     Женский  33.800000\n",
            "          Мужской  37.957746\n"
          ]
        }
      ]
    },
    {
      "cell_type": "code",
      "source": [
        "print(df1['возраст_кат'].value_counts())\n",
        "print(df1['количество_рекламаций_кат'].value_counts())"
      ],
      "metadata": {
        "id": "NdYMFxOMiRP1",
        "colab": {
          "base_uri": "https://localhost:8080/"
        },
        "outputId": "c1525f37-3808-4ab5-eeac-c0e810a4fa64"
      },
      "execution_count": 22,
      "outputs": [
        {
          "output_type": "stream",
          "name": "stdout",
          "text": [
            "возраст_кат\n",
            "молодой возраст    176\n",
            "средний возраст    155\n",
            "пожилой возраст     12\n",
            "Name: count, dtype: int64\n",
            "количество_рекламаций_кат\n",
            "мало     401\n",
            "много      5\n",
            "Name: count, dtype: int64\n"
          ]
        }
      ]
    },
    {
      "cell_type": "markdown",
      "source": [
        "# Проверка гипотез Neon\n",
        "\n",
        "### Есть ли взаимосвязь между количеством рекламаций и оценкой комфорта?\n",
        "-  Н0: Взаимосвязь между количеством рекламаций и оценкой комфорта есть.\n",
        "-  Н1: Взаимосвязи между количеством рекламаций и оценкой комфорта нет.\n",
        "\n",
        "Есть отрицательная корреляция и она точно не случайна так как p-value = 0"
      ],
      "metadata": {
        "id": "OXFkLED2iXDc"
      }
    },
    {
      "cell_type": "code",
      "source": [
        "import scipy.stats as stats\n",
        "\n",
        "# Коэффициент корреляции Пирсона\n",
        "corr, p_value = stats.pearsonr( df1['количество_рекламаций'], df1['оценка_комфорта'])\n",
        "print(f'Корреляция: {round(corr, 3)}, p-value: {round(p_value, 5)}')\n"
      ],
      "metadata": {
        "id": "2oYWkuql2Tng",
        "colab": {
          "base_uri": "https://localhost:8080/"
        },
        "outputId": "27b170e9-eee7-419a-99e2-0dc890e5bcc4"
      },
      "execution_count": 23,
      "outputs": [
        {
          "output_type": "stream",
          "name": "stdout",
          "text": [
            "Корреляция: -0.492, p-value: 0.0\n"
          ]
        }
      ]
    },
    {
      "cell_type": "markdown",
      "source": [],
      "metadata": {
        "id": "CVXDqtIIF27V"
      }
    },
    {
      "cell_type": "markdown",
      "source": [
        "### Проверить гипотезу о том, что средняя оценка комфорта отличается в зависимости от страны\n",
        "- Н0: Средняя оценка комфорта отличается в зависимости от страны.\n",
        "- Н1: Средняя оценка комфорта не отличается в зависимости от страны.\n",
        "  Исходя из этих данных можем отклонить вторую гипотезу и принять первую. Т.е,\n",
        "  Средняя оценка комфорта действительно отличается в зависимости от странны. Также можем наблюдать значительно низкое среднее значение в США относительно других стран."
      ],
      "metadata": {
        "id": "zyTgX2NDjdnb"
      }
    },
    {
      "cell_type": "code",
      "source": [
        "# тест на нормальность данных\n",
        "stat, p_value = stats.shapiro(df1['оценка_комфорта'])\n",
        "print(f\"p-value: {p_value:.5f} \")\n",
        "\n",
        "\n",
        "print(df1.groupby('страна')['оценка_комфорта'].mean())\n",
        "\n",
        "\n",
        "groups = [group['оценка_комфорта'].values for name, group in df1.groupby('страна')]\n",
        "# Применим ANOVA\n",
        "f_stat, p_value = stats.f_oneway(*groups)\n",
        "print(f\"\\n F-число: {round(f_stat,3)}, p-value: {round(p_value, 5)}\")\n"
      ],
      "metadata": {
        "id": "Cb_U5tdNqyMO",
        "colab": {
          "base_uri": "https://localhost:8080/"
        },
        "outputId": "30e6c176-41eb-4057-d531-696b5a24469e"
      },
      "execution_count": 24,
      "outputs": [
        {
          "output_type": "stream",
          "name": "stdout",
          "text": [
            "p-value: 0.00000 \n",
            "страна\n",
            "Австралия    5.000000\n",
            "Индия        5.050314\n",
            "США          4.229310\n",
            "Name: оценка_комфорта, dtype: float64\n",
            "\n",
            " F-число: 27.676, p-value: 0.0\n"
          ]
        }
      ]
    },
    {
      "cell_type": "markdown",
      "source": [
        "Проверить гипотезу \"Влияет ли способ охлаждения на оценку комфорта?\"\n",
        "* Н0: способ охлаждения влияет на оценку комфорта.\n",
        "* Н1: способ охлаждения не влияет на оценку комфорта\n",
        "\n",
        "Результаты отклоняют альтернативную гипотезу, следует остановиться на первой гипотезе. Но различия минимальны."
      ],
      "metadata": {
        "id": "x9SVBYtFK1ze"
      }
    },
    {
      "cell_type": "code",
      "source": [
        "# тест на нормальность\n",
        "for name, group in df1.groupby('способ_охлаждения'):\n",
        "    stat, p = stats.shapiro(group['оценка_комфорта'])\n",
        "    print(f\"Способ охлаждения: {name}, p-value = {p:.5f}\")\n",
        "\n",
        "# Применим ANOVA\n",
        "groups = [group['оценка_комфорта'].values for name, group in df.groupby('способ_охлаждения')]\n",
        "f_stat, p_value = stats.f_oneway(*groups)\n",
        "print(f\"\\nF-статистика: {f_stat:.3f}, p-value: {p_value:.5f}\")"
      ],
      "metadata": {
        "id": "DtFMomOXkdKV",
        "colab": {
          "base_uri": "https://localhost:8080/"
        },
        "outputId": "0fcc403a-e9c1-4165-a296-433b24895d84"
      },
      "execution_count": 25,
      "outputs": [
        {
          "output_type": "stream",
          "name": "stdout",
          "text": [
            "Способ охлаждения: Вентиляция, p-value = 0.00002\n",
            "Способ охлаждения: Кондиционирование, p-value = 0.00000\n",
            "Способ охлаждения: Смешанный, p-value = 0.00000\n",
            "\n",
            "F-статистика: 7.944, p-value: 0.00040\n"
          ]
        }
      ]
    },
    {
      "cell_type": "markdown",
      "source": [
        "Проверить гипотезу \"Влияет ли пол на оценку комфорта?\"\n",
        "* Н0: пол не влияет на оценку комфорта.\n",
        "* Н1: пол влияет на оценку комфорта\n",
        "\n",
        "Результаты не дают нам оснований отклонять нулевую гипотезу. Следовательно пол не влияет на оценку комфорта."
      ],
      "metadata": {
        "id": "qlZeCkBNQUgX"
      }
    },
    {
      "cell_type": "code",
      "source": [
        "# тест на нормальность\n",
        "for name, group in df1.groupby('пол'):\n",
        "    stat, p = stats.shapiro(group['оценка_комфорта'])\n",
        "    print(f\"Пол: {name}, p-value = {p:.5f}\")\n",
        "\n",
        "# Применим метод Манна Уитни\n",
        "group_male = df1[df1['пол'] == 'Мужской']['оценка_комфорта'].values\n",
        "group_female = df1[df1['пол'] == 'Женский']['оценка_комфорта'].values\n",
        "stat, p = stats.mannwhitneyu(group_male, group_female, alternative='two-sided')\n",
        "print(f\"U-статистика: {stat:.3f}, p-value: {p:.5f}\")\n"
      ],
      "metadata": {
        "id": "7E2PQnadQgfs",
        "colab": {
          "base_uri": "https://localhost:8080/"
        },
        "outputId": "1fd8bb18-1f0a-444b-e54d-fba46d2b8f04"
      },
      "execution_count": 26,
      "outputs": [
        {
          "output_type": "stream",
          "name": "stdout",
          "text": [
            "Пол: Женский, p-value = 0.00000\n",
            "Пол: Мужской, p-value = 0.00000\n",
            "U-статистика: 15046.500, p-value: 0.15026\n"
          ]
        }
      ]
    },
    {
      "cell_type": "markdown",
      "source": [
        "Проверить гипотезу \"Влияет ли возрастная группа на оценку комфорта?\"\n",
        "* Н0: возрастная группа не влияет на оценку комфорта.\n",
        "* Н1: возрастная группа влияет на оценку комфорта\n",
        "\n",
        "Результаты не дают нам оснований отклонять нулевую гипотезу. Следовательно  возрастная группа не влияет на оценку комфорта.\n",
        "⁉"
      ],
      "metadata": {
        "id": "QQ_XGnURdZXF"
      }
    },
    {
      "cell_type": "code",
      "source": [
        "df1['количество_рекламаций_кат'].value_counts()\n",
        "\n",
        "\n",
        "# тест на нормальность\n",
        "for name, group in df1.groupby('возраст_кат'):\n",
        "    stat, p = stats.shapiro(group['оценка_комфорта'])\n",
        "    print(f\"Возрастная группа: {name}, p-value = {p:.5f}\")\n",
        "\n",
        "# разделение на группы\n",
        "young = df[df['количество_рекламаций_кат'] == 'молодая_группа']['оценка_комфорта']\n",
        "middle = df[df['количество_рекламаций_кат'] == 'средняя_группа']['оценка_комфорта']\n",
        "old = df[df['количество_рекламаций_кат'] == 'пожилая_группа']['оценка_комфорта']\n",
        "\n",
        "# Kruskal–Wallis test\n",
        "stat, p = stats.kruskal(young, middle, old)\n",
        "print(f\"Kruskal–Wallis H = {stat:.4f}, p-value = {p:.5f}\")"
      ],
      "metadata": {
        "id": "NUvdTVIDdnvT",
        "collapsed": true,
        "colab": {
          "base_uri": "https://localhost:8080/"
        },
        "outputId": "1d14c0ee-8c86-4a3e-e9b5-603cd3b84531"
      },
      "execution_count": 27,
      "outputs": [
        {
          "output_type": "stream",
          "name": "stdout",
          "text": [
            "Возрастная группа: молодой возраст, p-value = 0.00000\n",
            "Возрастная группа: пожилой возраст, p-value = 0.00000\n",
            "Возрастная группа: средний возраст, p-value = 0.00000\n",
            "Kruskal–Wallis H = nan, p-value = nan\n"
          ]
        },
        {
          "output_type": "stream",
          "name": "stderr",
          "text": [
            "<ipython-input-27-15d44e681eef>:15: SmallSampleWarning: One or more sample arguments is too small; all returned values will be NaN. See documentation for sample size requirements.\n",
            "  stat, p = stats.kruskal(young, middle, old)\n"
          ]
        }
      ]
    },
    {
      "cell_type": "markdown",
      "source": [
        "Проверить гипотезу \"Проверить гипотезу влияет ли климат на оценку комфорта\"\n",
        "* Н0: климат не влияет на оценку комфорта.\n",
        "* Н1: климат влияет на оценку комфорта\n",
        "\n",
        "Результаты дают основание отклонить нулевую гипотезу и принять альтернативную.\n",
        "Климат влияет на оценку комфорта,"
      ],
      "metadata": {
        "id": "gvOApQDXd4MM"
      }
    },
    {
      "cell_type": "code",
      "source": [
        "# тест на нормальность\n",
        "for name, group in df1.groupby('климат'):\n",
        "    stat, p = stats.shapiro(group['оценка_комфорта'])\n",
        "    print(f\"Климат: {name}, p-value = {p:.5f}\")\n",
        "\n",
        "# Применим ANOVA\n",
        "groups = [group['оценка_комфорта'].values for _, group in df1.groupby('климат')]\n",
        "f_stat, p_value = stats.f_oneway(*groups)\n",
        "print(f\"\\nF-статистика: {f_stat:.3f}, p-value: {p_value:.5f}\" )\n"
      ],
      "metadata": {
        "id": "_0jtM7zkexwu",
        "colab": {
          "base_uri": "https://localhost:8080/"
        },
        "outputId": "7559a0c2-8a1b-47d5-cf67-45a72eef5479"
      },
      "execution_count": 28,
      "outputs": [
        {
          "output_type": "stream",
          "name": "stdout",
          "text": [
            "Климат: Cубтроп океанич, p-value = nan\n",
            "Климат: Cубтропический океанический, p-value = 0.00000\n",
            "Климат: Влажный субтропический муссонный, p-value = 0.00004\n",
            "Климат: Жаркий полузасушливый, p-value = 0.00000\n",
            "Климат: Субтропическое высокогорье, p-value = 0.00000\n",
            "Климат: Тропическая влажная саванна, p-value = 0.00000\n",
            "\n",
            "F-статистика: 3.094, p-value: 0.00941\n"
          ]
        },
        {
          "output_type": "stream",
          "name": "stderr",
          "text": [
            "<ipython-input-28-49d92fb5bcbb>:3: SmallSampleWarning: One or more sample arguments is too small; all returned values will be NaN. See documentation for sample size requirements.\n",
            "  stat, p = stats.shapiro(group['оценка_комфорта'])\n"
          ]
        }
      ]
    },
    {
      "cell_type": "markdown",
      "source": [
        "Проверить гипотезу \"Проверить гипотезу влияет ли время года на оценку комфорта\"\n",
        "* Н0: время года не влияет на оценку комфорта.\n",
        "* Н1: время года влияет на оценку комфорта\n",
        "\n",
        "Результаты (p-value ≥ 0.05) дают основание принять нулевую гипотезу , и показывают что различия статистически не значимы"
      ],
      "metadata": {
        "id": "YawwfJAGpWAI"
      }
    },
    {
      "cell_type": "code",
      "source": [
        "# тест на нормальность\n",
        "for name, group in df1.groupby('время_года'):\n",
        "    stat, p = stats.shapiro(group['оценка_комфорта'])\n",
        "    print(f\"Время года: {name}, p-value = {p:.5f}\")\n",
        "# данные не нормальные\n",
        "print('данные не нормальные')\n",
        "# Применим метод краскела уолиса\n",
        "groups = [group['оценка_комфорта'].values for _, group in df1.groupby('время_года')]\n",
        "stat, p_value = stats.kruskal(*groups)\n",
        "\n",
        "print(f\"\\nKruskal-Wallis H-статистика: {stat:.3f}, p-value: {p_value:.5f}\\n\")\n",
        "\n"
      ],
      "metadata": {
        "id": "sYdYitOGpWGB",
        "colab": {
          "base_uri": "https://localhost:8080/"
        },
        "outputId": "ddedda75-13bc-4402-943c-e18dee9ee814"
      },
      "execution_count": 29,
      "outputs": [
        {
          "output_type": "stream",
          "name": "stdout",
          "text": [
            "Время года: Весна, p-value = 1.00000\n",
            "Время года: Зима, p-value = 0.00000\n",
            "Время года: Лето, p-value = 0.00000\n",
            "Время года: Осень, p-value = 1.00000\n",
            "данные не нормальные\n",
            "\n",
            "Kruskal-Wallis H-статистика: 7.607, p-value: 0.05487\n",
            "\n"
          ]
        },
        {
          "output_type": "stream",
          "name": "stderr",
          "text": [
            "/usr/local/lib/python3.11/dist-packages/scipy/stats/_axis_nan_policy.py:573: UserWarning: scipy.stats.shapiro: Input data has range zero. The results may not be accurate.\n",
            "  res = hypotest_fun_out(*samples, **kwds)\n"
          ]
        }
      ]
    },
    {
      "cell_type": "markdown",
      "source": [
        "Проверить гипотезу \"Хотят ли мужчины и женщины разного изменения температуры / движения воздуха?\"\n",
        "* Н0: Мужчины и женщины не хотят разного изменения движения воздуха?\n",
        "* Н1: Мужчины и женщины  хотят разного изменения движения воздуха?              \n",
        "Результаты p ≥ 0.05  Нет статистически значимой связи между полом и предпочтениями. Придерживаемся нулевой гипотезы\n"
      ],
      "metadata": {
        "id": "w-JdQpT41EWO"
      }
    },
    {
      "cell_type": "code",
      "source": [
        "contingency_table = pd.crosstab(df['пол'], df['предпочтительное_изменение_движения_воздуха'])\n",
        "print(contingency_table)\n",
        "chi2, p, dof, expected = stats.chi2_contingency(contingency_table)\n",
        "print(f\"X2 = {chi2:.4f}, p-value = {p:.5f}\")"
      ],
      "metadata": {
        "id": "u8-w3PI41D8u",
        "colab": {
          "base_uri": "https://localhost:8080/"
        },
        "outputId": "57a65e15-0587-491c-e899-27f45a34c226"
      },
      "execution_count": 30,
      "outputs": [
        {
          "output_type": "stream",
          "name": "stdout",
          "text": [
            "предпочтительное_изменение_движения_воздуха  Без изменений  Больше  Меньше\n",
            "пол                                                                       \n",
            "Женский                                                 94      52      12\n",
            "Мужской                                                157      89       8\n",
            "X2 = 4.1800, p-value = 0.12369\n"
          ]
        }
      ]
    },
    {
      "cell_type": "markdown",
      "source": [
        "# Регрессионное моделирование Neon\n",
        "Построить регрессионную модель температуры воздуха в помещении в зависимости от типа охлаждения и других значимых факторов. Выбор факторов - на усмотрение исполнителя.                                                                    \n",
        "Выбранные факторы кроме основных:     \n",
        " * время_года\n",
        " * отопление\n",
        " * среднемесячная_температура_на_улице\n",
        " * климат\n",
        "  Эти факторы были отобраны потому, что логически должны оказывать влияние на температуру внутри помещения\n",
        "\n",
        "    \n",
        "  Первая версия, с помощью линейной регрессии\n",
        "\n"
      ],
      "metadata": {
        "id": "8da0C-nxU4eG"
      }
    },
    {
      "cell_type": "code",
      "source": [
        "from sklearn.model_selection import train_test_split\n",
        "from sklearn.preprocessing import OneHotEncoder, StandardScaler\n",
        "from sklearn.compose import ColumnTransformer\n",
        "from sklearn.linear_model import LinearRegression\n",
        "from sklearn.pipeline import Pipeline\n",
        "from sklearn.metrics import mean_squared_error\n",
        "from sklearn.metrics import r2_score\n",
        "\n",
        "# Выбираем признаки и целевую переменную\n",
        "X = df1[['способ_охлаждения', 'время_года','отопление', 'среднемесячная_температура_на_улице', 'климат' ] ]\n",
        "         #'окно', 'двери'\n",
        "y = df1['температура_воздуха_в_помещении']\n",
        "\n",
        "numeric_features = ['среднемесячная_температура_на_улице']\n",
        "categorical_features = [\n",
        "    'время_года',\n",
        "    'способ_охлаждения',\n",
        "    'отопление',\n",
        "    'климат'\n",
        "    # 'окно', 'двери'\n",
        "]\n",
        "\n",
        "\n",
        "\n",
        "# Препроцессор: OneHotEncoder + StandardScaler\n",
        "preprocessor = ColumnTransformer(\n",
        "    transformers=[\n",
        "        ('cat', OneHotEncoder(drop='first'), categorical_features),\n",
        "        # ('num', StandardScaler(), numeric_features)\n",
        "    ]\n",
        ")\n",
        "\n",
        "# Модельный пайплайн: сначала преобразование, потом регрессия\n",
        "pipeline = Pipeline(steps=[\n",
        "    ('preprocessing', preprocessor),\n",
        "    ('regression', LinearRegression())\n",
        "])\n",
        "\n",
        "# Делим на train/test\n",
        "X_train, X_test, y_train, y_test = train_test_split(X, y, test_size=0.2, random_state=42)\n",
        "\n",
        "# Обучение\n",
        "pipeline.fit(X_train, y_train)\n",
        "\n",
        "# Предсказание\n",
        "y_pred = pipeline.predict(X_test)\n",
        "# Метрики\n",
        "print(\"R²:\", r2_score(y_test, y_pred))\n",
        "print(\"RMSE:\", mean_squared_error(y_test, y_pred) ** 0.5)"
      ],
      "metadata": {
        "id": "7VQE1LVjXUrC",
        "colab": {
          "base_uri": "https://localhost:8080/"
        },
        "outputId": "e522fb6a-527e-4da1-9eca-caddcd315c3c"
      },
      "execution_count": 31,
      "outputs": [
        {
          "output_type": "stream",
          "name": "stdout",
          "text": [
            "R²: 0.06657855429455095\n",
            "RMSE: 7.673248568397801\n"
          ]
        }
      ]
    },
    {
      "cell_type": "markdown",
      "source": [
        "Вторая версия с помощью RandomForestRegressor"
      ],
      "metadata": {
        "id": "c1plBp7ILRP8"
      }
    },
    {
      "cell_type": "code",
      "source": [
        "from sklearn.model_selection import train_test_split\n",
        "from sklearn.preprocessing import OneHotEncoder, StandardScaler\n",
        "from sklearn.compose import ColumnTransformer\n",
        "from sklearn.ensemble import RandomForestRegressor\n",
        "from sklearn.pipeline import Pipeline\n",
        "from sklearn.metrics import r2_score, mean_squared_error, mean_absolute_error\n",
        "\n",
        "\n",
        "# Выбираем признаки и целевую переменную\n",
        "X = df1[['способ_охлаждения', 'время_года','отопление', 'среднемесячная_температура_на_улице']]\n",
        "         #'окно', 'двери'\n",
        "y = df1['температура_воздуха_в_помещении']\n",
        "\n",
        "numeric_features = ['среднемесячная_температура_на_улице']\n",
        "categorical_features = [\n",
        "    'время_года',\n",
        "    'способ_охлаждения',\n",
        "    'отопление',\n",
        "    #'окно', 'двери'\n",
        "]\n",
        "\n",
        "# Преобразование признаков\n",
        "preprocessor = ColumnTransformer(transformers=[\n",
        "    ('cat', OneHotEncoder(drop='first'), categorical_features),\n",
        "    # ('num', StandardScaler(), numeric_features)\n",
        "])\n",
        "\n",
        "# Пайплайн с RandomForest\n",
        "pipeline = Pipeline(steps=[\n",
        "    ('preprocessing', preprocessor),\n",
        "    ('regressor', RandomForestRegressor(random_state=42))\n",
        "])\n",
        "\n",
        "# Разделение данных\n",
        "X_train, X_test, y_train, y_test = train_test_split(X, y, test_size=0.2, random_state=42)\n",
        "\n",
        "# Обучение модели\n",
        "pipeline.fit(X_train, y_train)\n",
        "\n",
        "# Предсказание\n",
        "y_pred = pipeline.predict(X_test)\n",
        "\n",
        "# Оценка модели\n",
        "r2 = r2_score(y_test, y_pred)\n",
        "rmse = mean_squared_error(y_test, y_pred) ** 0.5\n",
        "mae = mean_absolute_error(y_test, y_pred)\n",
        "\n",
        "# Вывод результатов\n",
        "print(f\"R²: {r2:.4f}\")\n",
        "print(f\"RMSE: {rmse:.4f}\")\n",
        "print(f\"MAE: {mae:.4f}\")\n"
      ],
      "metadata": {
        "id": "7upMvyA9LRWI",
        "colab": {
          "base_uri": "https://localhost:8080/"
        },
        "outputId": "4a7d68a0-b9e9-44a5-b67f-0d77f582f08a"
      },
      "execution_count": 32,
      "outputs": [
        {
          "output_type": "stream",
          "name": "stdout",
          "text": [
            "R²: 0.0692\n",
            "RMSE: 7.6623\n",
            "MAE: 2.6969\n"
          ]
        }
      ]
    }
  ]
}