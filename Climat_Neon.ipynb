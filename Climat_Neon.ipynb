{
  "nbformat": 4,
  "nbformat_minor": 0,
  "metadata": {
    "colab": {
      "provenance": [],
      "mount_file_id": "12ufHx4rWrSxDY1X6Afnw1QFAEzLqztqH",
      "authorship_tag": "ABX9TyPqlWa4RcSu47Fjq91n+VQX",
      "include_colab_link": true
    },
    "kernelspec": {
      "name": "python3",
      "display_name": "Python 3"
    },
    "language_info": {
      "name": "python"
    }
  },
  "cells": [
    {
      "cell_type": "markdown",
      "metadata": {
        "id": "view-in-github",
        "colab_type": "text"
      },
      "source": [
        "<a href=\"https://colab.research.google.com/github/SonGoku27/Klimat/blob/main/Climat_Neon.ipynb\" target=\"_parent\"><img src=\"https://colab.research.google.com/assets/colab-badge.svg\" alt=\"Open In Colab\"/></a>"
      ]
    },
    {
      "cell_type": "markdown",
      "source": [
        "# Анализ удовлетворенности клиентов. Исследование комфорта при работе климатического оборудования.\n",
        "### Описание проекта:\n",
        "Вы работаете аналитиком в международной компании, занимающейся производством и продажами климатического оборудования: систем кондиционирования и вентиляции. На одной из выставок, посвященной климатическому оборудованию, группа инженеров из дружественной компании предоставила результаты своего исследования: данные по использованию климатических систем в офисах разных стран, городов, а также оценочные данные от респондентов по тому, насколько им комфортно было находиться в заданных условиях.                                                \n",
        "  ** Руководство поставило вам задачу проанализировать полученные данные и предоставить выводы о том, в какой тип климатического оборудования стоит инвестировать больше, чтобы повысить удовлетворенность клиентов созданными условиями в зависимости от региона? И на что стоит обратить внимание при развитии бизнеса в разных регионах? **\n"
      ],
      "metadata": {
        "id": "qQkOMWZKuLal"
      }
    },
    {
      "cell_type": "code",
      "source": [
        "\n",
        "import pandas as pd\n",
        "import matplotlib.pyplot as plt\n",
        "import numpy as np\n",
        "import scipy.stats as stats\n",
        "\n",
        "# импорты для регресионного моделирования\n",
        "from sklearn.model_selection import train_test_split\n",
        "from sklearn.preprocessing import OneHotEncoder, StandardScaler\n",
        "from sklearn.compose import ColumnTransformer\n",
        "from sklearn.linear_model import LinearRegression\n",
        "from sklearn.pipeline import Pipeline\n",
        "from sklearn.metrics import mean_squared_error\n",
        "from sklearn.ensemble import RandomForestRegressor\n",
        "from sklearn.metrics import r2_score, mean_squared_error, mean_absolute_error\n",
        "\n",
        "df = pd.read_csv('/content/drive/MyDrive/yandex_data/data_1.csv', sep=\";\")"
      ],
      "metadata": {
        "id": "25gMlg9Stmj8"
      },
      "execution_count": 34,
      "outputs": []
    },
    {
      "cell_type": "markdown",
      "source": [
        "# Исследование данных на качество и предобработка\n",
        "# Проведение расчётов и исследований Амир (Origami)\n"
      ],
      "metadata": {
        "id": "BYGEiIZTpYbe"
      }
    },
    {
      "cell_type": "markdown",
      "source": [
        "1.Приведение названий столбцов в соответствии с PEP8"
      ],
      "metadata": {
        "id": "eWXrG7JauC6J"
      }
    },
    {
      "cell_type": "code",
      "source": [
        "df.columns = df.columns.str.replace(' ', '_').str.lower()"
      ],
      "metadata": {
        "id": "-Rr5YGeQuCe6"
      },
      "execution_count": 35,
      "outputs": []
    },
    {
      "cell_type": "markdown",
      "source": [
        "2.перевод данных к правильному типу"
      ],
      "metadata": {
        "id": "B8gvHoOAuL0B"
      }
    },
    {
      "cell_type": "code",
      "source": [
        "df['год'] = df['год'].astype('int')"
      ],
      "metadata": {
        "id": "G7mcI1RKuMDJ"
      },
      "execution_count": 36,
      "outputs": []
    },
    {
      "cell_type": "markdown",
      "source": [
        "3.обработка пропусков\n"
      ],
      "metadata": {
        "id": "G0jJWDbGvArZ"
      }
    },
    {
      "cell_type": "code",
      "source": [
        "for i in ['Женский','Мужской','Пол не указан']: # зависит от пола\n",
        "    df['пол'] = df['пол'].fillna('Пол не указан')\n",
        "    df.loc[df['пол'] == i, 'рост'] = df['рост'].fillna(df['рост'].describe().median())\n",
        "    df.loc[df['пол'] == i, 'вес'] = df['вес'].fillna(df['вес'].describe().median())\n",
        "\n",
        "df['оценка_комфорта'] = df['оценка_комфорта'].fillna(df['оценка_комфорта'].describe().loc['50%'])\n",
        "for j in ['Кондиционирование', 'Вентиляция', 'Смешанный', 'NA']:# зависит от способа охлаждения\n",
        "    df.loc[df['способ_охлаждения'] == j, 'оценка_комфорта'] = df['оценка_комфорта'].fillna(df['оценка_комфорта'].describe().median())\n"
      ],
      "metadata": {
        "id": "uPwzGJipvAx5"
      },
      "execution_count": 37,
      "outputs": []
    },
    {
      "cell_type": "markdown",
      "source": [
        "4.удаление дубликатов(категориальных данных)"
      ],
      "metadata": {
        "id": "5hRSBaqivAda"
      }
    },
    {
      "cell_type": "code",
      "source": [
        "df_no_duplicates = df.drop_duplicates(\n",
        "    subset=['время_года', 'способ_охлаждения', 'режим_при_смешанном_типе_охлаждения', 'способ_обогрева', 'пол',\n",
        "            'ощущение_температуры_(bool)', 'предпочтительное_изменение_температуры', 'ощущение_движения_воздуха_(bool)',\n",
        "            'предпочтительное_изменение_движения_воздуха', 'занавески', 'вентилятор',\n",
        "            'окно', 'двери', 'отопление'],\n",
        "    keep=False)"
      ],
      "metadata": {
        "id": "vOgdEiHYvAkB"
      },
      "execution_count": 38,
      "outputs": []
    },
    {
      "cell_type": "markdown",
      "source": [
        "6.Обработка данных на выбросы и адекватность данных - отдельная ячейка"
      ],
      "metadata": {
        "id": "jPDfYirAvA5f"
      }
    },
    {
      "cell_type": "code",
      "source": [
        "def emissions(zxc):\n",
        "    for i in ['утепление', 'температура_воздуха_в_помещении', 'скорость_воздуха', 'рост',\n",
        "              'среднемесячная_температура_на_улице']:\n",
        "        zxc = zxc[(zxc[i] > zxc[i].quantile(0.01)) & (zxc[i] < zxc[i].quantile(0.99))]\n",
        "    return zxc\n",
        "df1 = emissions(df)"
      ],
      "metadata": {
        "id": "Jasltn08vBA9"
      },
      "execution_count": 39,
      "outputs": []
    },
    {
      "cell_type": "markdown",
      "source": [
        "Неадекватные данные"
      ],
      "metadata": {
        "id": "sFwmsHo1vBGJ"
      }
    },
    {
      "cell_type": "code",
      "source": [
        "df.loc[df['климат'] == 'Субтроп океанич', 'климат'] = 'Субтропический океанический'\n",
        "df.loc[df['способ_охлаждения'] == 'Тепле', 'способ_охлаждения'] = 'Теплее'\n",
        "df.loc[df['способ_охлаждения'] == 'Холодн', 'способ_охлаждения'] = 'Холоднее'"
      ],
      "metadata": {
        "id": "XgmwfFv2vBLp"
      },
      "execution_count": 40,
      "outputs": []
    },
    {
      "cell_type": "markdown",
      "source": [
        "Дополнительный категориальный столбец - количество_рекламаций_категории - отдельная ячейка"
      ],
      "metadata": {
        "id": "voJcImkbvBTZ"
      }
    },
    {
      "cell_type": "code",
      "source": [
        "def qwe(x):\n",
        "    if x <= 1:\n",
        "        return 'мало'\n",
        "    elif x == 2:\n",
        "        return 'средне'\n",
        "    elif x > 2:\n",
        "        return 'много'\n",
        "\n",
        "\n",
        "df['количество_рекламаций_кат'] = [qwe(i) for i in df['количество_рекламаций']]"
      ],
      "metadata": {
        "id": "hXsjS7_GvBal"
      },
      "execution_count": 41,
      "outputs": []
    },
    {
      "cell_type": "markdown",
      "source": [
        "дополнительный категориальный столбец - возраст_категории - отдельная ячейка"
      ],
      "metadata": {
        "id": "QnEJQ05mwVAp"
      }
    },
    {
      "cell_type": "code",
      "source": [
        "def zxc(z):\n",
        "    if z <= 44:\n",
        "        return 'молодой возраст'\n",
        "    elif 45 <= z <= 59:\n",
        "        return 'средний возраст'\n",
        "    elif z > 60:\n",
        "        return 'пожилой возраст'\n",
        "\n",
        "\n",
        "df1['возраст_кат'] = [zxc(i) for i in df1['возраст']]\n"
      ],
      "metadata": {
        "id": "NdYMFxOMiRP1"
      },
      "execution_count": 42,
      "outputs": []
    },
    {
      "cell_type": "markdown",
      "source": [
        "средний возраст респондентов по полу и стране"
      ],
      "metadata": {
        "id": "csKsODY7wgBq"
      }
    },
    {
      "cell_type": "code",
      "source": [
        "print(df1[['страна', 'пол', 'возраст']].groupby(['страна', 'пол']).mean())"
      ],
      "metadata": {
        "colab": {
          "base_uri": "https://localhost:8080/"
        },
        "id": "LeezKtW4wgWa",
        "outputId": "a34e6c2e-0bda-44a2-e272-f5467c0837f4"
      },
      "execution_count": 43,
      "outputs": [
        {
          "output_type": "stream",
          "name": "stdout",
          "text": [
            "                           возраст\n",
            "страна    пол                     \n",
            "Австралия Женский        46.219512\n",
            "          Мужской        42.570093\n",
            "Индия     Женский        33.800000\n",
            "          Мужской        37.957746\n",
            "США       Пол не указан  35.724138\n"
          ]
        }
      ]
    },
    {
      "cell_type": "markdown",
      "source": [
        "Рассчет средней комфортной температуры в зависимости от возрастной категории - отдельная ячейка"
      ],
      "metadata": {
        "id": "SSvJ6V39wrnC"
      }
    },
    {
      "cell_type": "code",
      "source": [
        "df3 = df1[['температура_воздуха_в_помещении', 'оценка_комфорта', 'возраст_кат']]\n",
        "df3['оценка_комфорта'] = df3.loc[df3['оценка_комфорта'] == 6, 'оценка_комфорта']\n",
        "print(df3.dropna().groupby(['возраст_кат', 'оценка_комфорта']).mean())"
      ],
      "metadata": {
        "colab": {
          "base_uri": "https://localhost:8080/"
        },
        "id": "y5h-vIkNwrSK",
        "outputId": "3fb7e49f-d398-4490-9e47-63d70c8c5a51"
      },
      "execution_count": 44,
      "outputs": [
        {
          "output_type": "stream",
          "name": "stdout",
          "text": [
            "                                 температура_воздуха_в_помещении\n",
            "возраст_кат     оценка_комфорта                                 \n",
            "молодой возраст 6.0                                    26.675000\n",
            "пожилой возраст 6.0                                    29.300000\n",
            "средний возраст 6.0                                    25.651852\n"
          ]
        },
        {
          "output_type": "stream",
          "name": "stderr",
          "text": [
            "<ipython-input-44-8c5fa080045e>:2: SettingWithCopyWarning: \n",
            "A value is trying to be set on a copy of a slice from a DataFrame.\n",
            "Try using .loc[row_indexer,col_indexer] = value instead\n",
            "\n",
            "See the caveats in the documentation: https://pandas.pydata.org/pandas-docs/stable/user_guide/indexing.html#returning-a-view-versus-a-copy\n",
            "  df3['оценка_комфорта'] = df3.loc[df3['оценка_комфорта'] == 6, 'оценка_комфорта']\n"
          ]
        }
      ]
    },
    {
      "cell_type": "markdown",
      "source": [
        "# Проверка гипотез Neon\n",
        "\n",
        "### Есть ли взаимосвязь между количеством рекламаций и оценкой комфорта?\n",
        "-  Н0: Взаимосвязь между количеством рекламаций и оценкой комфорта нет.\n",
        "-  Н1: Взаимосвязи между количеством рекламаций и оценкой комфорта есть.\n",
        "\n",
        "Есть отрицательная корреляция и она точно не случайна так как p-value = 0.     \n",
        "Так как взаимосвязь есть отклоняем нулевую гипотезу."
      ],
      "metadata": {
        "id": "OXFkLED2iXDc"
      }
    },
    {
      "cell_type": "code",
      "source": [
        "# тест на нормальность\n",
        "stat, p_value = stats.shapiro(df1['количество_рекламаций'])\n",
        "print(f\"p-value: {p_value:.5f} \")  # данные не нормальные\n",
        "stat, p_value = stats.shapiro(df1['оценка_комфорта'])\n",
        "print(f\"p-value: {p_value:.5f} \") # данные не нормальные\n",
        "\n",
        "# Коэффициент корреляции Спирмена\n",
        "corr, p_value = stats.spearmanr( df1['количество_рекламаций'], df1['оценка_комфорта'])\n",
        "print(f'Корреляция: {round(corr, 3)}, p-value: {round(p_value, 5)}')\n"
      ],
      "metadata": {
        "id": "2oYWkuql2Tng",
        "colab": {
          "base_uri": "https://localhost:8080/"
        },
        "outputId": "59f35b62-f6a8-4edc-8398-98cb2521058a"
      },
      "execution_count": 45,
      "outputs": [
        {
          "output_type": "stream",
          "name": "stdout",
          "text": [
            "p-value: 0.00000 \n",
            "p-value: 0.00000 \n",
            "Корреляция: -0.482, p-value: 0.0\n"
          ]
        }
      ]
    },
    {
      "cell_type": "markdown",
      "source": [
        "### Проверить гипотезу о том, что средняя оценка комфорта отличается в зависимости от страны\n",
        "- Н0: Средняя оценка комфорта не отличается в зависимости от страны.\n",
        "- Н1: Средняя оценка комфорта отличается в зависимости от страны.\n",
        "  Исходя из этих данных можем отклонить вторую гипотезу и принять первую. Т.е,\n",
        "  Средняя оценка комфорта действительно отличается в зависимости от странны. Также можем наблюдать значительно низкое среднее значение в США относительно других стран."
      ],
      "metadata": {
        "id": "zyTgX2NDjdnb"
      }
    },
    {
      "cell_type": "code",
      "source": [
        "print(df1.groupby('страна')['оценка_комфорта'].mean())\n",
        "\n",
        "\n",
        "groups = [group['оценка_комфорта'].values for name, group in df1.groupby('страна')]\n",
        "# Применим Kruskel Wallis\n",
        "f_stat, p_value = stats.kruskal(*groups)\n",
        "print(f\"\\n H-число: {round(f_stat,3)}, p-value: {round(p_value, 5)}\")\n"
      ],
      "metadata": {
        "id": "Cb_U5tdNqyMO",
        "colab": {
          "base_uri": "https://localhost:8080/"
        },
        "outputId": "e434c1cd-92f4-4dbc-c209-9f1da29a3305"
      },
      "execution_count": 46,
      "outputs": [
        {
          "output_type": "stream",
          "name": "stdout",
          "text": [
            "страна\n",
            "Австралия    5.000000\n",
            "Индия        5.050314\n",
            "США          4.229310\n",
            "Name: оценка_комфорта, dtype: float64\n",
            "\n",
            " H-число: 38.896, p-value: 0.0\n"
          ]
        }
      ]
    },
    {
      "cell_type": "markdown",
      "source": [
        "Проверить гипотезу \"Влияет ли способ охлаждения на оценку комфорта?\"\n",
        "* Н0: способ охлаждения не влияет на оценку комфорта.\n",
        "* Н1: способ охлаждения влияет на оценку комфорта\n",
        "\n",
        "Результаты отклоняют нулевую гипотезу , способ охлаждения влияет на оценку комфорта, но различия минимальны ."
      ],
      "metadata": {
        "id": "x9SVBYtFK1ze"
      }
    },
    {
      "cell_type": "code",
      "source": [
        "# тест на нормальность\n",
        "for name, group in df1.groupby('способ_охлаждения'):\n",
        "    stat, p = stats.shapiro(group['оценка_комфорта'])\n",
        "    print(f\"Способ охлаждения: {name}, p-value = {p:.5f}\") # данные не нормальные\n",
        "\n",
        "# Применим Краскел Уолис\n",
        "groups = [group['оценка_комфорта'].values for name, group in df.groupby('способ_охлаждения')]\n",
        "h_stat, p_value = stats.kruskal(*groups)\n",
        "print(f\"\\nH-статистика: {f_stat:.3f}, p-value: {p_value:.5f}\")"
      ],
      "metadata": {
        "id": "DtFMomOXkdKV",
        "colab": {
          "base_uri": "https://localhost:8080/"
        },
        "outputId": "1f8eae33-f219-40a1-99c3-ea32b04ea0dc"
      },
      "execution_count": 47,
      "outputs": [
        {
          "output_type": "stream",
          "name": "stdout",
          "text": [
            "Способ охлаждения: Вентиляция, p-value = 0.00002\n",
            "Способ охлаждения: Кондиционирование, p-value = 0.00000\n",
            "Способ охлаждения: Смешанный, p-value = 0.00000\n",
            "\n",
            "H-статистика: 38.896, p-value: 0.00240\n"
          ]
        }
      ]
    },
    {
      "cell_type": "markdown",
      "source": [
        "Проверить гипотезу \"Влияет ли пол на оценку комфорта?\"\n",
        "* Н0: пол не влияет на оценку комфорта.\n",
        "* Н1: пол влияет на оценку комфорта\n",
        "\n",
        "Результаты не дают нам оснований отклонять нулевую гипотезу. Следовательно пол не влияет на оценку комфорта."
      ],
      "metadata": {
        "id": "qlZeCkBNQUgX"
      }
    },
    {
      "cell_type": "code",
      "source": [
        "# тест на нормальность\n",
        "for name, group in df1.groupby('пол'):\n",
        "    stat, p = stats.shapiro(group['оценка_комфорта'])\n",
        "    print(f\"Пол: {name}, p-value = {p:.5f}\") # данные не нормальные\n",
        "\n",
        "# Применим метод Манна Уитни\n",
        "group_male = df1[df1['пол'] == 'Мужской']['оценка_комфорта'].values\n",
        "group_female = df1[df1['пол'] == 'Женский']['оценка_комфорта'].values\n",
        "stat, p = stats.mannwhitneyu(group_male, group_female, alternative='two-sided')\n",
        "print(f\"U-статистика: {stat:.3f}, p-value: {p:.5f}\")\n"
      ],
      "metadata": {
        "id": "7E2PQnadQgfs",
        "colab": {
          "base_uri": "https://localhost:8080/"
        },
        "outputId": "2f8c5436-39cd-4490-f22d-fa152b05d6d4"
      },
      "execution_count": 48,
      "outputs": [
        {
          "output_type": "stream",
          "name": "stdout",
          "text": [
            "Пол: Женский, p-value = 0.00000\n",
            "Пол: Мужской, p-value = 0.00000\n",
            "Пол: Пол не указан, p-value = 0.00096\n",
            "U-статистика: 15046.500, p-value: 0.15026\n"
          ]
        }
      ]
    },
    {
      "cell_type": "markdown",
      "source": [
        "Проверить гипотезу \"Влияет ли возрастная группа на оценку комфорта?\"\n",
        "* Н0: возрастная группа не влияет на оценку комфорта.\n",
        "* Н1: возрастная группа влияет на оценку комфорта\n",
        "\n",
        "Результаты не дают нам оснований отклонять нулевую гипотезу. Следовательно  возрастная группа не влияет на оценку комфорта."
      ],
      "metadata": {
        "id": "QQ_XGnURdZXF"
      }
    },
    {
      "cell_type": "code",
      "source": [
        "column_names = df1.columns.tolist()\n",
        "# тест на нормальность\n",
        "for name, group in df1.groupby('возраст_кат'):\n",
        "    stat, p = stats.shapiro(group['оценка_комфорта'])\n",
        "    print(f\"Возрастная группа: {name}, p-value = {p:.5f}\") # данные не нормальные\n",
        "\n",
        "# разделение на\n",
        "young = df1[df1['возраст_кат'] == 'молодой возраст']['оценка_комфорта']\n",
        "middle = df1[df1['возраст_кат'] == 'средний возраст']['оценка_комфорта']\n",
        "old = df1[df1['возраст_кат'] == 'пожилой возраст']['оценка_комфорта']\n",
        "\n",
        "# Kruskal–Wallis test\n",
        "stat, p = stats.kruskal(young, middle, old)\n",
        "print(f\"Kruskal–Wallis H = {stat:.4f}, p-value = {p:.5f}\")"
      ],
      "metadata": {
        "id": "NUvdTVIDdnvT",
        "collapsed": true,
        "colab": {
          "base_uri": "https://localhost:8080/"
        },
        "outputId": "d8d0082f-dd97-4f84-8f7e-c9d14115285b"
      },
      "execution_count": 49,
      "outputs": [
        {
          "output_type": "stream",
          "name": "stdout",
          "text": [
            "Возрастная группа: молодой возраст, p-value = 0.00000\n",
            "Возрастная группа: пожилой возраст, p-value = 0.00000\n",
            "Возрастная группа: средний возраст, p-value = 0.00000\n",
            "Kruskal–Wallis H = 4.4519, p-value = 0.10797\n"
          ]
        }
      ]
    },
    {
      "cell_type": "markdown",
      "source": [
        "Проверить гипотезу \"Проверить гипотезу влияет ли климат на оценку комфорта\"\n",
        "* Н0: климат не влияет на оценку комфорта.\n",
        "* Н1: климат влияет на оценку комфорта\n",
        "\n",
        "Результаты дают основание отклонить нулевую гипотезу и принять альтернативную.\n",
        "Климат влияет на оценку комфорта,"
      ],
      "metadata": {
        "id": "gvOApQDXd4MM"
      }
    },
    {
      "cell_type": "code",
      "source": [
        "# тест на нормальность\n",
        "for name, group in df1.groupby('климат'):\n",
        "    stat, p = stats.shapiro(group['оценка_комфорта'])\n",
        "    print(f\"Климат: {name}, p-value = {p:.5f}\") # данные не нормальные\n",
        "\n",
        "# Применим Kruskil wallis test\n",
        "groups = [group['оценка_комфорта'].values for _, group in df1.groupby('климат')]\n",
        "f_stat, p_value = stats.f_oneway(*groups)\n",
        "print(f\"\\nF-статистика: {f_stat:.3f}, p-value: {p_value:.5f}\" )\n"
      ],
      "metadata": {
        "id": "_0jtM7zkexwu",
        "colab": {
          "base_uri": "https://localhost:8080/"
        },
        "outputId": "9e0cfc8b-863a-42f5-9ce4-530f0fa43abf"
      },
      "execution_count": 50,
      "outputs": [
        {
          "output_type": "stream",
          "name": "stdout",
          "text": [
            "Климат: Cубтроп океанич, p-value = nan\n",
            "Климат: Cубтропический океанический, p-value = 0.00000\n",
            "Климат: Влажный субтропический муссонный, p-value = 0.00004\n",
            "Климат: Жаркий полузасушливый, p-value = 0.00000\n",
            "Климат: Субтропическое высокогорье, p-value = 0.00000\n",
            "Климат: Тропическая влажная саванна, p-value = 0.00000\n",
            "\n",
            "F-статистика: 3.094, p-value: 0.00941\n"
          ]
        },
        {
          "output_type": "stream",
          "name": "stderr",
          "text": [
            "<ipython-input-50-dd36ee489a0c>:3: SmallSampleWarning: One or more sample arguments is too small; all returned values will be NaN. See documentation for sample size requirements.\n",
            "  stat, p = stats.shapiro(group['оценка_комфорта'])\n"
          ]
        }
      ]
    },
    {
      "cell_type": "markdown",
      "source": [
        "Проверить гипотезу \"Проверить гипотезу влияет ли время года на оценку комфорта\"\n",
        "* Н0: время года не влияет на оценку комфорта.\n",
        "* Н1: время года влияет на оценку комфорта\n",
        "\n",
        "Результаты (p-value ≥ 0.05) дают основание принять нулевую гипотезу , и показывают что различия статистически не значимы"
      ],
      "metadata": {
        "id": "YawwfJAGpWAI"
      }
    },
    {
      "cell_type": "code",
      "source": [
        "# тест на нормальность\n",
        "for name, group in df1.groupby('время_года'):\n",
        "    stat, p = stats.shapiro(group['оценка_комфорта'])\n",
        "    print(f\"Время года: {name}, p-value = {p:.5f}\") # данные не нормальные\n",
        "\n",
        "# Применим метод краскела уолиса\n",
        "groups = [group['оценка_комфорта'].values for _, group in df1.groupby('время_года')]\n",
        "stat, p_value = stats.kruskal(*groups)\n",
        "\n",
        "print(f\"\\nKruskal-Wallis H-статистика: {stat:.3f}, p-value: {p_value:.5f}\\n\")\n",
        "\n"
      ],
      "metadata": {
        "id": "sYdYitOGpWGB",
        "colab": {
          "base_uri": "https://localhost:8080/"
        },
        "outputId": "0166aeca-64f3-4cd2-aac6-b502a4a22524"
      },
      "execution_count": 51,
      "outputs": [
        {
          "output_type": "stream",
          "name": "stdout",
          "text": [
            "Время года: Весна, p-value = 1.00000\n",
            "Время года: Зима, p-value = 0.00000\n",
            "Время года: Лето, p-value = 0.00000\n",
            "Время года: Осень, p-value = 1.00000\n",
            "\n",
            "Kruskal-Wallis H-статистика: 7.607, p-value: 0.05487\n",
            "\n"
          ]
        },
        {
          "output_type": "stream",
          "name": "stderr",
          "text": [
            "/usr/local/lib/python3.11/dist-packages/scipy/stats/_axis_nan_policy.py:573: UserWarning: scipy.stats.shapiro: Input data has range zero. The results may not be accurate.\n",
            "  res = hypotest_fun_out(*samples, **kwds)\n"
          ]
        }
      ]
    },
    {
      "cell_type": "markdown",
      "source": [
        "Проверить гипотезу \"Хотят ли мужчины и женщины разного изменения температуры / движения воздуха?\"\n",
        "* Н0: Мужчины и женщины не хотят разного изменения движения воздуха?\n",
        "* Н1: Мужчины и женщины  хотят разного изменения движения воздуха?              \n",
        "Результаты p ≥ 0.05  Нет статистически значимой связи между полом и предпочтениями. Придерживаемся нулевой гипотезы\n"
      ],
      "metadata": {
        "id": "w-JdQpT41EWO"
      }
    },
    {
      "cell_type": "code",
      "source": [
        "contingency_table = pd.crosstab(df['пол'], df['предпочтительное_изменение_движения_воздуха'])\n",
        "print(contingency_table)\n",
        "chi2, p, dof, expected = stats.chi2_contingency(contingency_table)\n",
        "print(f\"X2 = {chi2:.4f}, p-value = {p:.5f}\")"
      ],
      "metadata": {
        "id": "u8-w3PI41D8u",
        "colab": {
          "base_uri": "https://localhost:8080/"
        },
        "outputId": "eb417602-ab53-4e65-f3ec-c318ee686512"
      },
      "execution_count": 52,
      "outputs": [
        {
          "output_type": "stream",
          "name": "stdout",
          "text": [
            "предпочтительное_изменение_движения_воздуха  Без изменений  Больше  Меньше\n",
            "пол                                                                       \n",
            "Женский                                                 94      52      12\n",
            "Мужской                                                157      89       8\n",
            "Пол не указан                                           40      20      12\n",
            "X2 = 17.1245, p-value = 0.00183\n"
          ]
        }
      ]
    },
    {
      "cell_type": "markdown",
      "source": [
        "# Регрессионное моделирование Neon\n",
        "Построить регрессионную модель температуры воздуха в помещении в зависимости от типа охлаждения и других значимых факторов. Выбор факторов - на усмотрение исполнителя.                                                                    \n",
        "Выбранные факторы кроме основных:     \n",
        " * время_года\n",
        " * отопление\n",
        " * среднемесячная_температура_на_улице\n",
        " * климат                                                                      \n",
        "  Эти факторы были отобраны потому, что логически должны оказывать влияние на температуру внутри помещения\n",
        "\n",
        "    \n",
        "  Первая версия, с помощью линейной регрессии\n",
        "\n",
        "  "
      ],
      "metadata": {
        "id": "8da0C-nxU4eG"
      }
    },
    {
      "cell_type": "code",
      "source": [
        "# Выбираем признаки и целевую переменную\n",
        "X = df1[['способ_охлаждения', 'время_года','отопление', 'среднемесячная_температура_на_улице', 'климат' ] ]\n",
        "         #'окно', 'двери'\n",
        "y = df1['температура_воздуха_в_помещении']\n",
        "\n",
        "numeric_features = ['среднемесячная_температура_на_улице']\n",
        "categorical_features = [\n",
        "    'время_года',\n",
        "    'способ_охлаждения',\n",
        "    'отопление',\n",
        "    'климат'\n",
        "    # 'окно', 'двери'\n",
        "]\n",
        "\n",
        "\n",
        "\n",
        "# Препроцессор: OneHotEncoder + StandardScaler\n",
        "preprocessor = ColumnTransformer(\n",
        "    transformers=[\n",
        "        ('cat', OneHotEncoder(drop='first'), categorical_features),\n",
        "        # ('num', StandardScaler(), numeric_features)\n",
        "    ]\n",
        ")\n",
        "\n",
        "# Модельный пайплайн: сначала преобразование, потом регрессия\n",
        "pipeline = Pipeline(steps=[\n",
        "    ('preprocessing', preprocessor),\n",
        "    ('regression', LinearRegression())\n",
        "])\n",
        "\n",
        "# Делим на train/test\n",
        "X_train, X_test, y_train, y_test = train_test_split(X, y, test_size=0.2, random_state=42)\n",
        "\n",
        "# Обучение\n",
        "pipeline.fit(X_train, y_train)\n",
        "\n",
        "# Предсказание\n",
        "y_pred = pipeline.predict(X_test)\n",
        "# Метрики\n",
        "print(\"R²:\", r2_score(y_test, y_pred))\n",
        "print(\"RMSE:\", mean_squared_error(y_test, y_pred) ** 0.5)"
      ],
      "metadata": {
        "id": "7VQE1LVjXUrC",
        "colab": {
          "base_uri": "https://localhost:8080/"
        },
        "outputId": "d8809b43-b923-4600-9bbd-838e009a40ca"
      },
      "execution_count": 53,
      "outputs": [
        {
          "output_type": "stream",
          "name": "stdout",
          "text": [
            "R²: 0.06657855429455095\n",
            "RMSE: 7.673248568397801\n"
          ]
        }
      ]
    },
    {
      "cell_type": "markdown",
      "source": [
        "Вторая версия с помощью RandomForestRegressor"
      ],
      "metadata": {
        "id": "c1plBp7ILRP8"
      }
    },
    {
      "cell_type": "code",
      "source": [
        "# Выбираем признаки и целевую переменную\n",
        "X = df1[['способ_охлаждения', 'время_года','отопление', 'среднемесячная_температура_на_улице']]\n",
        "         #'окно', 'двери'\n",
        "y = df1['температура_воздуха_в_помещении']\n",
        "\n",
        "numeric_features = ['среднемесячная_температура_на_улице']\n",
        "categorical_features = [\n",
        "    'время_года',\n",
        "    'способ_охлаждения',\n",
        "    'отопление',\n",
        "    #'окно', 'двери'\n",
        "]\n",
        "\n",
        "# Преобразование признаков\n",
        "preprocessor = ColumnTransformer(transformers=[\n",
        "    ('cat', OneHotEncoder(drop='first'), categorical_features),\n",
        "    # ('num', StandardScaler(), numeric_features)\n",
        "])\n",
        "\n",
        "# Пайплайн с RandomForest\n",
        "pipeline = Pipeline(steps=[\n",
        "    ('preprocessing', preprocessor),\n",
        "    ('regressor', RandomForestRegressor(random_state=42))\n",
        "])\n",
        "\n",
        "# Разделение данных\n",
        "X_train, X_test, y_train, y_test = train_test_split(X, y, test_size=0.2, random_state=42)\n",
        "\n",
        "# Обучение модели\n",
        "pipeline.fit(X_train, y_train)\n",
        "\n",
        "# Предсказание\n",
        "y_pred = pipeline.predict(X_test)\n",
        "\n",
        "# Оценка модели\n",
        "r2 = r2_score(y_test, y_pred)\n",
        "rmse = mean_squared_error(y_test, y_pred) ** 0.5\n",
        "mae = mean_absolute_error(y_test, y_pred)\n",
        "\n",
        "# Вывод результатов\n",
        "print(f\"R²: {r2:.4f}\")\n",
        "print(f\"RMSE: {rmse:.4f}\")\n",
        "print(f\"MAE: {mae:.4f}\")\n"
      ],
      "metadata": {
        "id": "7upMvyA9LRWI",
        "colab": {
          "base_uri": "https://localhost:8080/"
        },
        "outputId": "d2f2ba99-e655-44d5-8835-b38a6941db78"
      },
      "execution_count": 54,
      "outputs": [
        {
          "output_type": "stream",
          "name": "stdout",
          "text": [
            "R²: 0.0692\n",
            "RMSE: 7.6623\n",
            "MAE: 2.6969\n"
          ]
        }
      ]
    },
    {
      "cell_type": "markdown",
      "source": [
        "### Как итог этого раздела\n",
        "\n",
        "С помощью регрессионого моделирования былы созданы две модели. Метрики показывают  результы предсказания модели плохие , и их пока нельзя использовать в реальных ситуациях , т.к средняя ошибка в 7 градусов ужасно высокая. Это в основном из за малого количества данных , при большом количестве факторов . В будущем после сбора более значительных данных , планируется заного переобучить модели и затем использовать их в реальных ситуациях"
      ],
      "metadata": {
        "id": "lYAnmIDTlKTI"
      }
    }
  ]
}