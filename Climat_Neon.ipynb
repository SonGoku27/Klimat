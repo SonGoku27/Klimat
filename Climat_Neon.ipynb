{
  "nbformat": 4,
  "nbformat_minor": 0,
  "metadata": {
    "colab": {
      "provenance": []
    },
    "kernelspec": {
      "name": "python3",
      "display_name": "Python 3"
    },
    "language_info": {
      "name": "python"
    }
  },
  "cells": [
    {
      "cell_type": "code",
      "source": [
        "import pandas as pd\n",
        "import matplotlib.pyplot as plt\n",
        "import numpy as np\n",
        "df = pd.read_csv('/content/drive/MyDrive/yandex_data/data_1.csv', sep=\";\")\n",
        "\n",
        "def emissions(zxc):\n",
        "    # выбросы - утепление(max - 2.08), температура_воздуха_в_помещении(max - 77.00), скорость_воздуха(max - 63.8300),\n",
        "    # рост(min - 5.23), среднемесячная_температура_на_улице(max - 328.00)\n",
        "    #zxc = zxc[zxc['утепление'] < zxc['утепление'].quantile(0.99)]\n",
        "    #zxc = zxc[zxc['температура_воздуха_в_помещении'] < zxc['температура_воздуха_в_помещении'].quantile(0.99)]\n",
        "    #zxc = zxc[zxc['скорость_воздуха'] < zxc['скорость_воздуха'].quantile(0.99)]\n",
        "    #zxc = zxc[zxc['среднемесячная_температура_на_улице'] < zxc['среднемесячная_температура_на_улице'].quantile(0.99)]\n",
        "    #zxc = zxc[(zxc['рост'] > zxc['рост'].quantile(0.01))]\n",
        "    for i in ['утепление', 'температура_воздуха_в_помещении', 'скорость_воздуха', 'рост',\n",
        "              'среднемесячная_температура_на_улице']:\n",
        "        zxc = zxc[(zxc[i] > zxc[i].quantile(0.01)) & (zxc[i] < zxc[i].quantile(0.99))]\n",
        "    return zxc\n",
        "\n",
        "pd.set_option('display.max_columns', None)\n",
        "df.dropna()\n",
        "df.columns = df.columns.str.replace(' ', '_').str.lower()\n",
        "df['год'] = df['год'].astype('int')\n",
        "df_no_duplicates = df.drop_duplicates(\n",
        "    subset=['время_года', 'способ_охлаждения', 'режим_при_смешанном_типе_охлаждения', 'способ_обогрева', 'пол',\n",
        "            'ощущение_температуры_(bool)', 'предпочтительное_изменение_температуры', 'ощущение_движения_воздуха_(bool)',\n",
        "            'предпочтительное_изменение_движения_воздуха', 'занавески', 'вентилятор',\n",
        "            'окно', 'двери', 'отопление'],\n",
        "    keep=False)\n",
        "print()\n",
        "df['рост'] = df['рост'].fillna(df['рост'].describe().median())\n",
        "df['вес'] = df['вес'].fillna(df['вес'].describe().median())\n",
        "df['оценка_комфорта'] = df['оценка_комфорта'].fillna(df['оценка_комфорта'].describe().loc['50%'])\n",
        "\n",
        "\n",
        "df1 = emissions(df)\n",
        "print(df1.describe())\n",
        "\n",
        "print(df1)"
      ],
      "metadata": {
        "colab": {
          "base_uri": "https://localhost:8080/"
        },
        "id": "VjUc_OuWeQEM",
        "outputId": "b94c7b05-ccfc-402e-9df8-5510fe515e40"
      },
      "execution_count": null,
      "outputs": [
        {
          "output_type": "stream",
          "name": "stdout",
          "text": [
            "\n",
            "               год     возраст  ощущение_температуры  \\\n",
            "count   406.000000  343.000000            406.000000   \n",
            "mean   2010.926108   40.690962              0.211823   \n",
            "std       0.924005   10.900835              1.112403   \n",
            "min    2010.000000   22.000000             -3.000000   \n",
            "25%    2010.000000   35.000000              0.000000   \n",
            "50%    2011.000000   42.000000              0.000000   \n",
            "75%    2012.000000   45.000000              1.000000   \n",
            "max    2012.000000   65.000000              3.000000   \n",
            "\n",
            "       ощущение_температуры_(bool)  ощущение_движения_воздуха_(bool)  \\\n",
            "count                   406.000000                        189.000000   \n",
            "mean                      0.790640                          0.756614   \n",
            "std                       0.407353                          0.430266   \n",
            "min                       0.000000                          0.000000   \n",
            "25%                       1.000000                          1.000000   \n",
            "50%                       1.000000                          1.000000   \n",
            "75%                       1.000000                          1.000000   \n",
            "max                       1.000000                          1.000000   \n",
            "\n",
            "       оценка_комфорта   утепление  температура_воздуха_в_помещении  \\\n",
            "count       406.000000  406.000000                       406.000000   \n",
            "mean          4.909606    0.582463                        25.872414   \n",
            "std           0.802977    0.143642                         6.028887   \n",
            "min           1.000000    0.380000                        20.500000   \n",
            "25%           5.000000    0.460000                        24.000000   \n",
            "50%           5.000000    0.570000                        24.700000   \n",
            "75%           5.000000    0.680000                        25.800000   \n",
            "max           6.000000    1.050000                        74.900000   \n",
            "\n",
            "       температура_воздуха_на_улице          rh  скорость_воздуха        рост  \\\n",
            "count                     58.000000  406.000000        406.000000  406.000000   \n",
            "mean                      24.070690   53.855419          0.360074  163.305444   \n",
            "std                        0.611013   12.501283          2.117461    4.079106   \n",
            "min                       22.800000   26.300000          0.020000  154.900000   \n",
            "25%                       23.800000   44.050000          0.070000  162.205839   \n",
            "50%                       24.000000   54.550000          0.100000  162.205839   \n",
            "75%                       24.375000   62.575000          0.140000  162.205839   \n",
            "max                       25.500000   85.100000         26.490000  185.400000   \n",
            "\n",
            "              вес  занавески  вентилятор        окно       двери  отопление  \\\n",
            "count  406.000000  58.000000  117.000000  230.000000  147.000000  60.000000   \n",
            "mean    65.192826   0.500000    0.555556    0.260870    0.176871   0.816667   \n",
            "std      6.880758   0.504367    0.499041    0.440067    0.382864   0.390205   \n",
            "min     42.000000   0.000000    0.000000    0.000000    0.000000   0.000000   \n",
            "25%     65.235981   0.000000    0.000000    0.000000    0.000000   1.000000   \n",
            "50%     65.235981   0.500000    1.000000    0.000000    0.000000   1.000000   \n",
            "75%     65.235981   1.000000    1.000000    1.000000    0.000000   1.000000   \n",
            "max    110.000000   1.000000    1.000000    1.000000    1.000000   1.000000   \n",
            "\n",
            "       среднемесячная_температура_на_улице  количество_рекламаций  \n",
            "count                           406.000000             406.000000  \n",
            "mean                             26.736700               0.088670  \n",
            "std                               8.723116               0.393803  \n",
            "min                              18.500000               0.000000  \n",
            "25%                              22.000000               0.000000  \n",
            "50%                              22.000000               0.000000  \n",
            "75%                              30.800000               0.000000  \n",
            "max                              89.000000               3.000000  \n",
            "      год время_года                            климат       город страна  \\\n",
            "0    2011       Лето       Cубтропический океанический       Техас    США   \n",
            "1    2011       Лето       Cубтропический океанический       Техас    США   \n",
            "2    2011       Лето       Cубтропический океанический       Техас    США   \n",
            "5    2011       Лето       Cубтропический океанический       Техас    США   \n",
            "6    2011       Лето       Cубтропический океанический       Техас    США   \n",
            "..    ...        ...                               ...         ...    ...   \n",
            "479  2012       Лето  Влажный субтропический муссонный        Дели  Индия   \n",
            "480  2012       Зима       Тропическая влажная саванна      Ченнай  Индия   \n",
            "481  2012       Зима             Жаркий полузасушливый  Хайдарабад  Индия   \n",
            "482  2012       Зима             Жаркий полузасушливый  Хайдарабад  Индия   \n",
            "483  2012       Зима             Жаркий полузасушливый  Хайдарабад  Индия   \n",
            "\n",
            "     способ_охлаждения режим_при_смешанном_типе_охлаждения способ_обогрева  \\\n",
            "0    Кондиционирование                                 NaN             NaN   \n",
            "1    Кондиционирование                                 NaN             NaN   \n",
            "2    Кондиционирование                                 NaN             NaN   \n",
            "5    Кондиционирование                                 NaN             NaN   \n",
            "6    Кондиционирование                                 NaN             NaN   \n",
            "..                 ...                                 ...             ...   \n",
            "479          Смешанный                          Вентиляция             NaN   \n",
            "480          Смешанный                   Кондиционирование             NaN   \n",
            "481          Смешанный                   Кондиционирование             NaN   \n",
            "482          Смешанный                   Кондиционирование             NaN   \n",
            "483          Смешанный                   Кондиционирование             NaN   \n",
            "\n",
            "     возраст      пол  ощущение_температуры  ощущение_температуры_(bool)  \\\n",
            "0       22.0      NaN                   0.0                          1.0   \n",
            "1       40.0      NaN                  -2.0                          1.0   \n",
            "2       42.0      NaN                   1.0                          1.0   \n",
            "5       27.0      NaN                   0.0                          1.0   \n",
            "6       32.0      NaN                  -1.0                          1.0   \n",
            "..       ...      ...                   ...                          ...   \n",
            "479     35.0  Мужской                   0.0                          1.0   \n",
            "480      NaN  Мужской                  -1.0                          1.0   \n",
            "481      NaN  Женский                  -1.0                          1.0   \n",
            "482      NaN  Женский                  -1.0                          1.0   \n",
            "483      NaN  Женский                  -1.0                          1.0   \n",
            "\n",
            "    предпочтительное_изменение_температуры  ощущение_движения_воздуха_(bool)  \\\n",
            "0                            Без изменений                               NaN   \n",
            "1                            Без изменений                               NaN   \n",
            "2                            Без изменений                               NaN   \n",
            "5                            Без изменений                               NaN   \n",
            "6                                   Теплее                               NaN   \n",
            "..                                     ...                               ...   \n",
            "479                                 Теплее                               NaN   \n",
            "480                          Без изменений                               NaN   \n",
            "481                               Холоднее                               NaN   \n",
            "482                               Холоднее                               NaN   \n",
            "483                               Холоднее                               NaN   \n",
            "\n",
            "    предпочтительное_изменение_движения_воздуха  оценка_комфорта  утепление  \\\n",
            "0                                 Без изменений              3.5       0.54   \n",
            "1                                 Без изменений              6.0       0.61   \n",
            "2                                 Без изменений              5.0       0.57   \n",
            "5                                 Без изменений              5.0       0.54   \n",
            "6                                        Меньше              3.5       0.57   \n",
            "..                                          ...              ...        ...   \n",
            "479                               Без изменений              5.0       0.46   \n",
            "480                               Без изменений              5.0       0.64   \n",
            "481                                      Больше              5.0       0.74   \n",
            "482                                      Больше              5.0       0.74   \n",
            "483                                      Больше              5.0       0.74   \n",
            "\n",
            "     температура_воздуха_в_помещении  температура_воздуха_на_улице    rh  \\\n",
            "0                               22.9                          22.8  48.9   \n",
            "1                               74.8                          23.7  39.2   \n",
            "2                               25.6                          24.5  34.7   \n",
            "5                               24.0                          23.9  34.8   \n",
            "6                               24.7                          24.8  42.2   \n",
            "..                               ...                           ...   ...   \n",
            "479                             31.6                           NaN  69.1   \n",
            "480                             26.5                           NaN  61.0   \n",
            "481                             26.9                           NaN  42.0   \n",
            "482                             26.9                           NaN  42.0   \n",
            "483                             26.9                           NaN  42.0   \n",
            "\n",
            "     скорость_воздуха        рост        вес  занавески  вентилятор  окно  \\\n",
            "0                0.26  162.205839  65.235981        1.0         1.0   NaN   \n",
            "1                0.12  162.205839  65.235981        0.0         0.0   NaN   \n",
            "2                0.08  162.205839  65.235981        0.0         0.0   NaN   \n",
            "5                0.21  162.205839  65.235981        1.0         1.0   NaN   \n",
            "6                0.10  162.205839  65.235981        1.0         1.0   NaN   \n",
            "..                ...         ...        ...        ...         ...   ...   \n",
            "479              0.32  172.700000  50.000000        NaN         1.0   1.0   \n",
            "480              0.16  162.205839  65.000000        NaN         NaN   0.0   \n",
            "481              0.02  162.205839  76.000000        NaN         NaN   0.0   \n",
            "482              0.02  162.205839  76.000000        NaN         NaN   0.0   \n",
            "483              0.02  162.205839  76.000000        NaN         NaN   0.0   \n",
            "\n",
            "     двери  отопление  среднемесячная_температура_на_улице  \\\n",
            "0      NaN        NaN                                 28.9   \n",
            "1      NaN        NaN                                 84.0   \n",
            "2      NaN        NaN                                 32.8   \n",
            "5      NaN        NaN                                 28.9   \n",
            "6      NaN        NaN                                 32.8   \n",
            "..     ...        ...                                  ...   \n",
            "479    NaN        0.0                                 30.9   \n",
            "480    0.0        NaN                                 30.8   \n",
            "481    0.0        NaN                                 21.6   \n",
            "482    0.0        NaN                                 21.6   \n",
            "483    0.0        NaN                                 21.6   \n",
            "\n",
            "     количество_рекламаций  \n",
            "0                        0  \n",
            "1                        0  \n",
            "2                        0  \n",
            "5                        0  \n",
            "6                        0  \n",
            "..                     ...  \n",
            "479                      0  \n",
            "480                      0  \n",
            "481                      0  \n",
            "482                      0  \n",
            "483                      0  \n",
            "\n",
            "[406 rows x 30 columns]\n"
          ]
        }
      ]
    },
    {
      "cell_type": "markdown",
      "source": [
        "### Есть ли взаимосвязь между количеством рекламаций и оценкой комфорта?\n",
        "-  Н0: Взаимосвязь между количеством рекламаций и оценкой комфорта есть.\n",
        "-  Н1: Взаимосвязи между количеством рекламаций и оценкой комфорта нет.\n",
        "\n",
        "Есть отрицательная корреляция и она точно не случайна так как p-value = 0"
      ],
      "metadata": {
        "id": "OXFkLED2iXDc"
      }
    },
    {
      "cell_type": "code",
      "source": [
        "import scipy.stats as stats\n",
        "\n",
        "# Коэффициент корреляции Пирсона\n",
        "corr, p_value = stats.pearsonr( df1['количество_рекламаций'], df1['оценка_комфорта'])\n",
        "print(f'Корреляция: {round(corr, 3)}, p-value: {round(p_value, 5)}')\n"
      ],
      "metadata": {
        "colab": {
          "base_uri": "https://localhost:8080/"
        },
        "id": "2oYWkuql2Tng",
        "outputId": "ad4b669a-814a-4d1c-8d35-8a55948e73cc"
      },
      "execution_count": 37,
      "outputs": [
        {
          "output_type": "stream",
          "name": "stdout",
          "text": [
            "Корреляция: -0.492, p-value: 0.0\n"
          ]
        }
      ]
    },
    {
      "cell_type": "markdown",
      "source": [],
      "metadata": {
        "id": "CVXDqtIIF27V"
      }
    },
    {
      "cell_type": "markdown",
      "source": [
        "### Проверить гипотезу о том, что средняя оценка комфорта отличается в зависимости от страны\n",
        "- Н0: Средняя оценка комфорта отличается в зависимости от страны.\n",
        "- Н1: Средняя оценка комфорта не отличается в зависимости от страны.\n",
        "  Исходя из этих данных можем отклонить вторую гипотезу и принять первую. Т.е,\n",
        "  Средняя оценка комфорта действительно отличается в зависимости от странны. Также можем наблюдать значительно низкое среднее значение в США относительно других стран."
      ],
      "metadata": {
        "id": "zyTgX2NDjdnb"
      }
    },
    {
      "cell_type": "code",
      "source": [
        "# тест на нормальность данных\n",
        "stat, p_value = stats.shapiro(df1['оценка_комфорта'])\n",
        "print(f\"p-value: {p_value:.5f} \")\n",
        "\n",
        "\n",
        "print(df1.groupby('страна')['оценка_комфорта'].mean())\n",
        "\n",
        "\n",
        "groups = [group['оценка_комфорта'].values for name, group in df1.groupby('страна')]\n",
        "# Применим ANOVA\n",
        "f_stat, p_value = stats.f_oneway(*groups)\n",
        "print(f\"\\n F-число: {round(f_stat,3)}, p-value: {round(p_value, 5)}\")\n"
      ],
      "metadata": {
        "id": "Cb_U5tdNqyMO",
        "colab": {
          "base_uri": "https://localhost:8080/"
        },
        "outputId": "075fa4f3-fbbc-49eb-bbd7-26ce65114bbb"
      },
      "execution_count": null,
      "outputs": [
        {
          "output_type": "stream",
          "name": "stdout",
          "text": [
            "p-value: 0.00000 \n",
            "страна\n",
            "Австралия    5.000000\n",
            "Индия        5.050314\n",
            "США          4.229310\n",
            "Name: оценка_комфорта, dtype: float64\n",
            "\n",
            " F-число: 27.676, p-value: 0.0\n"
          ]
        }
      ]
    },
    {
      "cell_type": "markdown",
      "source": [
        "Проверить гипотезу \"Влияет ли способ охлаждения на оценку комфорта?\"\n",
        "* Н0: способ охлаждения влияет на оценку комфорта.\n",
        "* Н1: способ охлаждения не влияет на оценку комфорта\n",
        "\n",
        "Результаты отклоняют альтернативную гипотезу, следует остановиться на первой гипотезе."
      ],
      "metadata": {
        "id": "x9SVBYtFK1ze"
      }
    },
    {
      "cell_type": "code",
      "source": [
        "# тест на нормальность\n",
        "for name, group in df1.groupby('способ_охлаждения'):\n",
        "    stat, p = stats.shapiro(group['оценка_комфорта'])\n",
        "    print(f\"Способ охлаждения: {name}, p-value = {p:.5f}\")\n",
        "\n",
        "# Применим ANOVA\n",
        "groups = [group['оценка_комфорта'].values for name, group in df.groupby('способ_охлаждения')]\n",
        "f_stat, p_value = stats.f_oneway(*groups)\n",
        "print(f\"\\nF-статистика: {f_stat:.3f}, p-value: {p_value:.5f}\")"
      ],
      "metadata": {
        "colab": {
          "base_uri": "https://localhost:8080/"
        },
        "id": "DtFMomOXkdKV",
        "outputId": "42cd9b77-c906-425d-f8b0-da0b1a828c08"
      },
      "execution_count": null,
      "outputs": [
        {
          "output_type": "stream",
          "name": "stdout",
          "text": [
            "Способ охлаждения: Вентиляция, p-value = 0.00002\n",
            "Способ охлаждения: Кондиционирование, p-value = 0.00000\n",
            "Способ охлаждения: Смешанный, p-value = 0.00000\n",
            "\n",
            "F-статистика: 7.944, p-value: 0.00040\n"
          ]
        }
      ]
    },
    {
      "cell_type": "markdown",
      "source": [
        "Проверить гипотезу \"Влияет ли пол на оценку комфорта?\"\n",
        "* Н0: пол не влияет на оценку комфорта.\n",
        "* Н1: пол влияет на оценку комфорта\n",
        "\n",
        "Результаты не дают нам оснований отклонять нулевую гипотезу. Следовательно пол не влияет на оценку комфорта."
      ],
      "metadata": {
        "id": "qlZeCkBNQUgX"
      }
    },
    {
      "cell_type": "code",
      "source": [
        "# тест на нормальность\n",
        "for name, group in df1.groupby('пол'):\n",
        "    stat, p = stats.shapiro(group['оценка_комфорта'])\n",
        "    print(f\"Пол: {name}, p-value = {p:.5f}\")\n",
        "\n",
        "# Применим метод Манна Уитни\n",
        "group_male = df1[df1['пол'] == 'Мужской']['оценка_комфорта'].values\n",
        "group_female = df1[df1['пол'] == 'Женский']['оценка_комфорта'].values\n",
        "stat, p = stats.mannwhitneyu(group_male, group_female, alternative='two-sided')\n",
        "print(f\"U-статистика: {stat:.3f}, p-value: {p:.5f}\")\n"
      ],
      "metadata": {
        "colab": {
          "base_uri": "https://localhost:8080/"
        },
        "id": "7E2PQnadQgfs",
        "outputId": "b4223fd3-6c8b-42e2-a14c-0159beb440c3"
      },
      "execution_count": null,
      "outputs": [
        {
          "output_type": "stream",
          "name": "stdout",
          "text": [
            "Способ охлаждения: Женский, p-value = 0.00000\n",
            "Способ охлаждения: Мужской, p-value = 0.00000\n",
            "U-статистика: 15046.500, p-value: 0.15026\n"
          ]
        }
      ]
    },
    {
      "cell_type": "markdown",
      "source": [
        "Проверить гипотезу \"Влияет ли возрастная группа на оценку комфорта?\"\n",
        "* Н0: возрастная группа не влияет на оценку комфорта.\n",
        "* Н1: возрастная группа влияет на оценку комфорта\n",
        "\n",
        "Результаты не дают нам оснований отклонять нулевую гипотезу. Следовательно  возрастная группа не влияет на оценку комфорта."
      ],
      "metadata": {
        "id": "QQ_XGnURdZXF"
      }
    },
    {
      "cell_type": "code",
      "source": [
        "# тест на нормальность\n",
        "for name, group in df1.groupby('возрастная_группа'):\n",
        "    stat, p = stats.shapiro(group['оценка_комфорта'])\n",
        "    print(f\"Возрастная группа: {name}, p-value = {p:.5f}\")\n",
        "\n",
        "# разделение на группы\n",
        "young = df[df['возрастная_группа'] == 'молодая']['оценка_комфорта']\n",
        "middle = df[df['возрастная_группа'] == 'средняя']['оценка_комфорта']\n",
        "old = df[df['возрастная_группа'] == 'пожилая']['оценка_комфорта']\n",
        "\n",
        "# Kruskal–Wallis test\n",
        "stat, p = stats.kruskal(young, middle, old)\n",
        "print(f\"Kruskal–Wallis H = {stat:.4f}, p-value = {p:.5f}\")"
      ],
      "metadata": {
        "colab": {
          "base_uri": "https://localhost:8080/",
          "height": 547
        },
        "id": "NUvdTVIDdnvT",
        "outputId": "0f35ff44-b3e0-4c35-e7ef-1f6cb34615ce",
        "collapsed": true
      },
      "execution_count": 38,
      "outputs": [
        {
          "output_type": "error",
          "ename": "KeyError",
          "evalue": "'возрастная_группа'",
          "traceback": [
            "\u001b[0;31m---------------------------------------------------------------------------\u001b[0m",
            "\u001b[0;31mKeyError\u001b[0m                                  Traceback (most recent call last)",
            "\u001b[0;32m/usr/local/lib/python3.11/dist-packages/pandas/core/indexes/base.py\u001b[0m in \u001b[0;36mget_loc\u001b[0;34m(self, key)\u001b[0m\n\u001b[1;32m   3804\u001b[0m         \u001b[0;32mtry\u001b[0m\u001b[0;34m:\u001b[0m\u001b[0;34m\u001b[0m\u001b[0;34m\u001b[0m\u001b[0m\n\u001b[0;32m-> 3805\u001b[0;31m             \u001b[0;32mreturn\u001b[0m \u001b[0mself\u001b[0m\u001b[0;34m.\u001b[0m\u001b[0m_engine\u001b[0m\u001b[0;34m.\u001b[0m\u001b[0mget_loc\u001b[0m\u001b[0;34m(\u001b[0m\u001b[0mcasted_key\u001b[0m\u001b[0;34m)\u001b[0m\u001b[0;34m\u001b[0m\u001b[0;34m\u001b[0m\u001b[0m\n\u001b[0m\u001b[1;32m   3806\u001b[0m         \u001b[0;32mexcept\u001b[0m \u001b[0mKeyError\u001b[0m \u001b[0;32mas\u001b[0m \u001b[0merr\u001b[0m\u001b[0;34m:\u001b[0m\u001b[0;34m\u001b[0m\u001b[0;34m\u001b[0m\u001b[0m\n",
            "\u001b[0;32mindex.pyx\u001b[0m in \u001b[0;36mpandas._libs.index.IndexEngine.get_loc\u001b[0;34m()\u001b[0m\n",
            "\u001b[0;32mindex.pyx\u001b[0m in \u001b[0;36mpandas._libs.index.IndexEngine.get_loc\u001b[0;34m()\u001b[0m\n",
            "\u001b[0;32mpandas/_libs/hashtable_class_helper.pxi\u001b[0m in \u001b[0;36mpandas._libs.hashtable.PyObjectHashTable.get_item\u001b[0;34m()\u001b[0m\n",
            "\u001b[0;32mpandas/_libs/hashtable_class_helper.pxi\u001b[0m in \u001b[0;36mpandas._libs.hashtable.PyObjectHashTable.get_item\u001b[0;34m()\u001b[0m\n",
            "\u001b[0;31mKeyError\u001b[0m: 'возрастная_группа'",
            "\nThe above exception was the direct cause of the following exception:\n",
            "\u001b[0;31mKeyError\u001b[0m                                  Traceback (most recent call last)",
            "\u001b[0;32m<ipython-input-38-6e46e7de7156>\u001b[0m in \u001b[0;36m<cell line: 0>\u001b[0;34m()\u001b[0m\n\u001b[0;32m----> 1\u001b[0;31m \u001b[0myoung\u001b[0m \u001b[0;34m=\u001b[0m \u001b[0mdf\u001b[0m\u001b[0;34m[\u001b[0m\u001b[0mdf\u001b[0m\u001b[0;34m[\u001b[0m\u001b[0;34m'возрастная_группа'\u001b[0m\u001b[0;34m]\u001b[0m \u001b[0;34m==\u001b[0m \u001b[0;34m'молодая'\u001b[0m\u001b[0;34m]\u001b[0m\u001b[0;34m[\u001b[0m\u001b[0;34m'оценка_комфорта'\u001b[0m\u001b[0;34m]\u001b[0m\u001b[0;34m\u001b[0m\u001b[0;34m\u001b[0m\u001b[0m\n\u001b[0m\u001b[1;32m      2\u001b[0m \u001b[0mmiddle\u001b[0m \u001b[0;34m=\u001b[0m \u001b[0mdf\u001b[0m\u001b[0;34m[\u001b[0m\u001b[0mdf\u001b[0m\u001b[0;34m[\u001b[0m\u001b[0;34m'возрастная_группа'\u001b[0m\u001b[0;34m]\u001b[0m \u001b[0;34m==\u001b[0m \u001b[0;34m'средняя'\u001b[0m\u001b[0;34m]\u001b[0m\u001b[0;34m[\u001b[0m\u001b[0;34m'оценка_комфорта'\u001b[0m\u001b[0;34m]\u001b[0m\u001b[0;34m\u001b[0m\u001b[0;34m\u001b[0m\u001b[0m\n\u001b[1;32m      3\u001b[0m \u001b[0mold\u001b[0m \u001b[0;34m=\u001b[0m \u001b[0mdf\u001b[0m\u001b[0;34m[\u001b[0m\u001b[0mdf\u001b[0m\u001b[0;34m[\u001b[0m\u001b[0;34m'возрастная_группа'\u001b[0m\u001b[0;34m]\u001b[0m \u001b[0;34m==\u001b[0m \u001b[0;34m'пожилая'\u001b[0m\u001b[0;34m]\u001b[0m\u001b[0;34m[\u001b[0m\u001b[0;34m'оценка_комфорта'\u001b[0m\u001b[0;34m]\u001b[0m\u001b[0;34m\u001b[0m\u001b[0;34m\u001b[0m\u001b[0m\n\u001b[1;32m      4\u001b[0m \u001b[0;34m\u001b[0m\u001b[0m\n\u001b[1;32m      5\u001b[0m \u001b[0;31m# Kruskal–Wallis test\u001b[0m\u001b[0;34m\u001b[0m\u001b[0;34m\u001b[0m\u001b[0m\n",
            "\u001b[0;32m/usr/local/lib/python3.11/dist-packages/pandas/core/frame.py\u001b[0m in \u001b[0;36m__getitem__\u001b[0;34m(self, key)\u001b[0m\n\u001b[1;32m   4100\u001b[0m             \u001b[0;32mif\u001b[0m \u001b[0mself\u001b[0m\u001b[0;34m.\u001b[0m\u001b[0mcolumns\u001b[0m\u001b[0;34m.\u001b[0m\u001b[0mnlevels\u001b[0m \u001b[0;34m>\u001b[0m \u001b[0;36m1\u001b[0m\u001b[0;34m:\u001b[0m\u001b[0;34m\u001b[0m\u001b[0;34m\u001b[0m\u001b[0m\n\u001b[1;32m   4101\u001b[0m                 \u001b[0;32mreturn\u001b[0m \u001b[0mself\u001b[0m\u001b[0;34m.\u001b[0m\u001b[0m_getitem_multilevel\u001b[0m\u001b[0;34m(\u001b[0m\u001b[0mkey\u001b[0m\u001b[0;34m)\u001b[0m\u001b[0;34m\u001b[0m\u001b[0;34m\u001b[0m\u001b[0m\n\u001b[0;32m-> 4102\u001b[0;31m             \u001b[0mindexer\u001b[0m \u001b[0;34m=\u001b[0m \u001b[0mself\u001b[0m\u001b[0;34m.\u001b[0m\u001b[0mcolumns\u001b[0m\u001b[0;34m.\u001b[0m\u001b[0mget_loc\u001b[0m\u001b[0;34m(\u001b[0m\u001b[0mkey\u001b[0m\u001b[0;34m)\u001b[0m\u001b[0;34m\u001b[0m\u001b[0;34m\u001b[0m\u001b[0m\n\u001b[0m\u001b[1;32m   4103\u001b[0m             \u001b[0;32mif\u001b[0m \u001b[0mis_integer\u001b[0m\u001b[0;34m(\u001b[0m\u001b[0mindexer\u001b[0m\u001b[0;34m)\u001b[0m\u001b[0;34m:\u001b[0m\u001b[0;34m\u001b[0m\u001b[0;34m\u001b[0m\u001b[0m\n\u001b[1;32m   4104\u001b[0m                 \u001b[0mindexer\u001b[0m \u001b[0;34m=\u001b[0m \u001b[0;34m[\u001b[0m\u001b[0mindexer\u001b[0m\u001b[0;34m]\u001b[0m\u001b[0;34m\u001b[0m\u001b[0;34m\u001b[0m\u001b[0m\n",
            "\u001b[0;32m/usr/local/lib/python3.11/dist-packages/pandas/core/indexes/base.py\u001b[0m in \u001b[0;36mget_loc\u001b[0;34m(self, key)\u001b[0m\n\u001b[1;32m   3810\u001b[0m             ):\n\u001b[1;32m   3811\u001b[0m                 \u001b[0;32mraise\u001b[0m \u001b[0mInvalidIndexError\u001b[0m\u001b[0;34m(\u001b[0m\u001b[0mkey\u001b[0m\u001b[0;34m)\u001b[0m\u001b[0;34m\u001b[0m\u001b[0;34m\u001b[0m\u001b[0m\n\u001b[0;32m-> 3812\u001b[0;31m             \u001b[0;32mraise\u001b[0m \u001b[0mKeyError\u001b[0m\u001b[0;34m(\u001b[0m\u001b[0mkey\u001b[0m\u001b[0;34m)\u001b[0m \u001b[0;32mfrom\u001b[0m \u001b[0merr\u001b[0m\u001b[0;34m\u001b[0m\u001b[0;34m\u001b[0m\u001b[0m\n\u001b[0m\u001b[1;32m   3813\u001b[0m         \u001b[0;32mexcept\u001b[0m \u001b[0mTypeError\u001b[0m\u001b[0;34m:\u001b[0m\u001b[0;34m\u001b[0m\u001b[0;34m\u001b[0m\u001b[0m\n\u001b[1;32m   3814\u001b[0m             \u001b[0;31m# If we have a listlike key, _check_indexing_error will raise\u001b[0m\u001b[0;34m\u001b[0m\u001b[0;34m\u001b[0m\u001b[0m\n",
            "\u001b[0;31mKeyError\u001b[0m: 'возрастная_группа'"
          ]
        }
      ]
    },
    {
      "cell_type": "markdown",
      "source": [
        "Проверить гипотезу \"Проверить гипотезу влияет ли климат на оценку комфорта\"\n",
        "* Н0: климат не влияет на оценку комфорта.\n",
        "* Н1: климат влияет на оценку комфорта\n",
        "\n",
        "Результаты дают основание отклонить нулевую гипотезу и принять альтернативную.\n",
        "Климат влияет на оценку комфорта,"
      ],
      "metadata": {
        "id": "gvOApQDXd4MM"
      }
    },
    {
      "cell_type": "code",
      "source": [
        "# тест на нормальность\n",
        "for name, group in df1.groupby('климат'):\n",
        "    stat, p = stats.shapiro(group['оценка_комфорта'])\n",
        "    print(f\"Климат: {name}, p-value = {p:.5f}\")\n",
        "\n",
        "# Применим ANOVA\n",
        "groups = [group['оценка_комфорта'].values for _, group in df1.groupby('климат')]\n",
        "f_stat, p_value = stats.f_oneway(*groups)\n",
        "print(f\"\\nF-статистика: {f_stat:.3f}, p-value: {p_value:.5f}\" )\n"
      ],
      "metadata": {
        "colab": {
          "base_uri": "https://localhost:8080/"
        },
        "id": "_0jtM7zkexwu",
        "outputId": "ca150728-4245-4a56-8c35-1bdacb2e76b2"
      },
      "execution_count": null,
      "outputs": [
        {
          "output_type": "stream",
          "name": "stdout",
          "text": [
            "Климат: Cубтроп океанич, p-value = nan\n",
            "Климат: Cубтропический океанический, p-value = 0.00000\n",
            "Климат: Влажный субтропический муссонный, p-value = 0.00004\n",
            "Климат: Жаркий полузасушливый, p-value = 0.00000\n",
            "Климат: Субтропическое высокогорье, p-value = 0.00000\n",
            "Климат: Тропическая влажная саванна, p-value = 0.00000\n",
            "\n",
            "F-статистика: 3.094, p-value: 0.00941\n",
            "климат\n",
            "Субтропическое высокогорье          5.600000\n",
            "Тропическая влажная саванна         5.073529\n",
            "Влажный субтропический муссонный    5.055556\n",
            "Жаркий полузасушливый               4.936508\n",
            "Cубтропический океанический         4.822358\n",
            "Cубтроп океанич                     4.000000\n",
            "Name: оценка_комфорта, dtype: float64\n"
          ]
        },
        {
          "output_type": "stream",
          "name": "stderr",
          "text": [
            "<ipython-input-21-1e4fe534d7dd>:3: SmallSampleWarning: One or more sample arguments is too small; all returned values will be NaN. See documentation for sample size requirements.\n",
            "  stat, p = stats.shapiro(group['оценка_комфорта'])\n"
          ]
        }
      ]
    },
    {
      "cell_type": "markdown",
      "source": [
        "Проверить гипотезу \"Проверить гипотезу влияет ли время года на оценку комфорта\"\n",
        "* Н0: время года не влияет на оценку комфорта.\n",
        "* Н1: время года влияет на оценку комфорта\n",
        "\n",
        "Результаты (p-value ≥ 0.05) дают основание принять нулевую гипотезу , и показывают что различия статистически не значимы"
      ],
      "metadata": {
        "id": "YawwfJAGpWAI"
      }
    },
    {
      "cell_type": "code",
      "source": [
        "# тест на нормальность\n",
        "for name, group in df1.groupby('время_года'):\n",
        "    stat, p = stats.shapiro(group['оценка_комфорта'])\n",
        "    print(f\"Время года: {name}, p-value = {p:.5f}\")\n",
        "# данные не нормальные\n",
        "print('данные не нормальные')\n",
        "# Применим метод краскела уолиса\n",
        "groups = [group['оценка_комфорта'].values for _, group in df1.groupby('время_года')]\n",
        "stat, p_value = stats.kruskal(*groups)\n",
        "\n",
        "print(f\"\\nKruskal-Wallis H-статистика: {stat:.3f}, p-value: {p_value:.5f}\\n\")\n"
      ],
      "metadata": {
        "colab": {
          "base_uri": "https://localhost:8080/"
        },
        "id": "sYdYitOGpWGB",
        "outputId": "23cd94e7-7865-46a6-ea6a-0043e2caea99"
      },
      "execution_count": null,
      "outputs": [
        {
          "output_type": "stream",
          "name": "stdout",
          "text": [
            "Время года: Весна, p-value = 1.00000\n",
            "Время года: Зима, p-value = 0.00000\n",
            "Время года: Лето, p-value = 0.00000\n",
            "Время года: Осень, p-value = 1.00000\n",
            "данные не нормальные\n",
            "\n",
            "Kruskal-Wallis H-статистика: 7.607, p-value: 0.05487\n",
            "\n"
          ]
        },
        {
          "output_type": "stream",
          "name": "stderr",
          "text": [
            "/usr/local/lib/python3.11/dist-packages/scipy/stats/_axis_nan_policy.py:573: UserWarning: scipy.stats.shapiro: Input data has range zero. The results may not be accurate.\n",
            "  res = hypotest_fun_out(*samples, **kwds)\n"
          ]
        }
      ]
    },
    {
      "cell_type": "markdown",
      "source": [
        "Проверить гипотезу \"Хотят ли мужчины и женщины разного изменения температуры / движения воздуха?\"\n",
        "* Н0: Мужчины и женщины не хотят разного изменения движения воздуха?\n",
        "* Н1: Мужчины и женщины  хотят разного изменения движения воздуха?              \n",
        "Результаты p ≥ 0.05  Нет статистически значимой связи между полом и предпочтениями. Придерживаемся нудевой гипотезы\n"
      ],
      "metadata": {
        "id": "w-JdQpT41EWO"
      }
    },
    {
      "cell_type": "code",
      "source": [
        "contingency_table = pd.crosstab(df['пол'], df['предпочтительное_изменение_движения_воздуха'])\n",
        "print(contingency_table)\n",
        "chi2, p, dof, expected = stats.chi2_contingency(contingency_table)\n",
        "print(f\"X2 = {chi2:.4f}, p-value = {p:.5f}\")"
      ],
      "metadata": {
        "colab": {
          "base_uri": "https://localhost:8080/"
        },
        "id": "u8-w3PI41D8u",
        "outputId": "db9fd2c2-a820-4d91-864d-c27e5c02fda3"
      },
      "execution_count": null,
      "outputs": [
        {
          "output_type": "stream",
          "name": "stdout",
          "text": [
            "предпочтительное_изменение_движения_воздуха  Без изменений  Больше  Меньше\n",
            "пол                                                                       \n",
            "Женский                                                 94      52      12\n",
            "Мужской                                                157      89       8\n",
            "X2 = 4.1800, p-value = 0.12369\n"
          ]
        }
      ]
    }
  ]
}