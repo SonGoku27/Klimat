{
  "nbformat": 4,
  "nbformat_minor": 0,
  "metadata": {
    "colab": {
      "provenance": [],
      "mount_file_id": "12ufHx4rWrSxDY1X6Afnw1QFAEzLqztqH",
      "authorship_tag": "ABX9TyN3zMJasAGQ5tirc4OwHa7r",
      "include_colab_link": true
    },
    "kernelspec": {
      "name": "python3",
      "display_name": "Python 3"
    },
    "language_info": {
      "name": "python"
    }
  },
  "cells": [
    {
      "cell_type": "markdown",
      "metadata": {
        "id": "view-in-github",
        "colab_type": "text"
      },
      "source": [
        "<a href=\"https://colab.research.google.com/github/SonGoku27/Klimat/blob/main/Climat_Neon.ipynb\" target=\"_parent\"><img src=\"https://colab.research.google.com/assets/colab-badge.svg\" alt=\"Open In Colab\"/></a>"
      ]
    },
    {
      "cell_type": "code",
      "source": [
        "import pandas as pd\n",
        "import matplotlib.pyplot as plt\n",
        "import numpy as np\n",
        "df = pd.read_csv('/content/drive/MyDrive/yandex_data/data_1.csv', sep=\";\")\n",
        "\n",
        "def emissions(zxc):\n",
        "    for i in ['утепление', 'температура_воздуха_в_помещении', 'скорость_воздуха', 'рост',\n",
        "              'среднемесячная_температура_на_улице']:\n",
        "        zxc = zxc[(zxc[i] > zxc[i].quantile(0.01)) & (zxc[i] < zxc[i].quantile(0.99))]\n",
        "    return zxc\n",
        "\n",
        "def zxc(z):\n",
        "    if z >= 44:\n",
        "        return 'молодой возраст'\n",
        "    elif 45 <= z <= 59 :\n",
        "        return 'средний возраст'\n",
        "    elif z > 60:\n",
        "        return 'пожилой возраст'\n",
        "\n",
        "def qwe(x):\n",
        "    if x <= 1:\n",
        "        return 'мало'\n",
        "    elif x == 2:\n",
        "        return 'средне'\n",
        "    elif x > 2:\n",
        "        return 'много'\n",
        "\n",
        "pd.set_option('display.max_columns', None)\n",
        "df.dropna()\n",
        "df.columns = df.columns.str.replace(' ', '_').str.lower()\n",
        "df['год'] = df['год'].astype('int')\n",
        "df_no_duplicates = df.drop_duplicates(\n",
        "    subset=['время_года', 'способ_охлаждения', 'режим_при_смешанном_типе_охлаждения', 'способ_обогрева', 'пол',\n",
        "            'ощущение_температуры_(bool)', 'предпочтительное_изменение_температуры', 'ощущение_движения_воздуха_(bool)',\n",
        "            'предпочтительное_изменение_движения_воздуха', 'занавески', 'вентилятор',\n",
        "            'окно', 'двери', 'отопление'],\n",
        "    keep=False)\n",
        "print()\n",
        "df['рост'] = df['рост'].fillna(df['рост'].describe().median())\n",
        "df['вес'] = df['вес'].fillna(df['вес'].describe().median())\n",
        "df['оценка_комфорта'] = df['оценка_комфорта'].fillna(df['оценка_комфорта'].describe().loc['50%'])\n",
        "df.loc[df['климат'] == 'Субтроп океанич', 'климат'] = 'Субтропический океанический'\n",
        "df['количество_рекламаций_кат'] = [zxc(i) for i in df['количество_рекламаций']]\n",
        "df['возраст_кат'] = [qwe(i) for i in df['возраст']]\n",
        "df1 = emissions(df)\n",
        "print(df1.describe())\n",
        "\n",
        "print(df1)"
      ],
      "metadata": {
        "colab": {
          "base_uri": "https://localhost:8080/"
        },
        "id": "VjUc_OuWeQEM",
        "outputId": "b25e85f0-eb44-49d4-8ba8-f4d3cbaa54d3"
      },
      "execution_count": 53,
      "outputs": [
        {
          "output_type": "stream",
          "name": "stdout",
          "text": [
            "\n",
            "               год     возраст  ощущение_температуры  \\\n",
            "count   406.000000  343.000000            406.000000   \n",
            "mean   2010.926108   40.690962              0.211823   \n",
            "std       0.924005   10.900835              1.112403   \n",
            "min    2010.000000   22.000000             -3.000000   \n",
            "25%    2010.000000   35.000000              0.000000   \n",
            "50%    2011.000000   42.000000              0.000000   \n",
            "75%    2012.000000   45.000000              1.000000   \n",
            "max    2012.000000   65.000000              3.000000   \n",
            "\n",
            "       ощущение_температуры_(bool)  ощущение_движения_воздуха_(bool)  \\\n",
            "count                   406.000000                        189.000000   \n",
            "mean                      0.790640                          0.756614   \n",
            "std                       0.407353                          0.430266   \n",
            "min                       0.000000                          0.000000   \n",
            "25%                       1.000000                          1.000000   \n",
            "50%                       1.000000                          1.000000   \n",
            "75%                       1.000000                          1.000000   \n",
            "max                       1.000000                          1.000000   \n",
            "\n",
            "       оценка_комфорта   утепление  температура_воздуха_в_помещении  \\\n",
            "count       406.000000  406.000000                       406.000000   \n",
            "mean          4.909606    0.582463                        25.872414   \n",
            "std           0.802977    0.143642                         6.028887   \n",
            "min           1.000000    0.380000                        20.500000   \n",
            "25%           5.000000    0.460000                        24.000000   \n",
            "50%           5.000000    0.570000                        24.700000   \n",
            "75%           5.000000    0.680000                        25.800000   \n",
            "max           6.000000    1.050000                        74.900000   \n",
            "\n",
            "       температура_воздуха_на_улице          rh  скорость_воздуха        рост  \\\n",
            "count                     58.000000  406.000000        406.000000  406.000000   \n",
            "mean                      24.070690   53.855419          0.360074  163.305444   \n",
            "std                        0.611013   12.501283          2.117461    4.079106   \n",
            "min                       22.800000   26.300000          0.020000  154.900000   \n",
            "25%                       23.800000   44.050000          0.070000  162.205839   \n",
            "50%                       24.000000   54.550000          0.100000  162.205839   \n",
            "75%                       24.375000   62.575000          0.140000  162.205839   \n",
            "max                       25.500000   85.100000         26.490000  185.400000   \n",
            "\n",
            "              вес  занавески  вентилятор        окно       двери  отопление  \\\n",
            "count  406.000000  58.000000  117.000000  230.000000  147.000000  60.000000   \n",
            "mean    65.192826   0.500000    0.555556    0.260870    0.176871   0.816667   \n",
            "std      6.880758   0.504367    0.499041    0.440067    0.382864   0.390205   \n",
            "min     42.000000   0.000000    0.000000    0.000000    0.000000   0.000000   \n",
            "25%     65.235981   0.000000    0.000000    0.000000    0.000000   1.000000   \n",
            "50%     65.235981   0.500000    1.000000    0.000000    0.000000   1.000000   \n",
            "75%     65.235981   1.000000    1.000000    1.000000    0.000000   1.000000   \n",
            "max    110.000000   1.000000    1.000000    1.000000    1.000000   1.000000   \n",
            "\n",
            "       среднемесячная_температура_на_улице  количество_рекламаций  \n",
            "count                           406.000000             406.000000  \n",
            "mean                             26.736700               0.088670  \n",
            "std                               8.723116               0.393803  \n",
            "min                              18.500000               0.000000  \n",
            "25%                              22.000000               0.000000  \n",
            "50%                              22.000000               0.000000  \n",
            "75%                              30.800000               0.000000  \n",
            "max                              89.000000               3.000000  \n",
            "      год время_года                            климат       город страна  \\\n",
            "0    2011       Лето       Cубтропический океанический       Техас    США   \n",
            "1    2011       Лето       Cубтропический океанический       Техас    США   \n",
            "2    2011       Лето       Cубтропический океанический       Техас    США   \n",
            "5    2011       Лето       Cубтропический океанический       Техас    США   \n",
            "6    2011       Лето       Cубтропический океанический       Техас    США   \n",
            "..    ...        ...                               ...         ...    ...   \n",
            "479  2012       Лето  Влажный субтропический муссонный        Дели  Индия   \n",
            "480  2012       Зима       Тропическая влажная саванна      Ченнай  Индия   \n",
            "481  2012       Зима             Жаркий полузасушливый  Хайдарабад  Индия   \n",
            "482  2012       Зима             Жаркий полузасушливый  Хайдарабад  Индия   \n",
            "483  2012       Зима             Жаркий полузасушливый  Хайдарабад  Индия   \n",
            "\n",
            "     способ_охлаждения режим_при_смешанном_типе_охлаждения способ_обогрева  \\\n",
            "0    Кондиционирование                                 NaN             NaN   \n",
            "1    Кондиционирование                                 NaN             NaN   \n",
            "2    Кондиционирование                                 NaN             NaN   \n",
            "5    Кондиционирование                                 NaN             NaN   \n",
            "6    Кондиционирование                                 NaN             NaN   \n",
            "..                 ...                                 ...             ...   \n",
            "479          Смешанный                          Вентиляция             NaN   \n",
            "480          Смешанный                   Кондиционирование             NaN   \n",
            "481          Смешанный                   Кондиционирование             NaN   \n",
            "482          Смешанный                   Кондиционирование             NaN   \n",
            "483          Смешанный                   Кондиционирование             NaN   \n",
            "\n",
            "     возраст      пол  ощущение_температуры  ощущение_температуры_(bool)  \\\n",
            "0       22.0      NaN                   0.0                          1.0   \n",
            "1       40.0      NaN                  -2.0                          1.0   \n",
            "2       42.0      NaN                   1.0                          1.0   \n",
            "5       27.0      NaN                   0.0                          1.0   \n",
            "6       32.0      NaN                  -1.0                          1.0   \n",
            "..       ...      ...                   ...                          ...   \n",
            "479     35.0  Мужской                   0.0                          1.0   \n",
            "480      NaN  Мужской                  -1.0                          1.0   \n",
            "481      NaN  Женский                  -1.0                          1.0   \n",
            "482      NaN  Женский                  -1.0                          1.0   \n",
            "483      NaN  Женский                  -1.0                          1.0   \n",
            "\n",
            "    предпочтительное_изменение_температуры  ощущение_движения_воздуха_(bool)  \\\n",
            "0                            Без изменений                               NaN   \n",
            "1                            Без изменений                               NaN   \n",
            "2                            Без изменений                               NaN   \n",
            "5                            Без изменений                               NaN   \n",
            "6                                   Теплее                               NaN   \n",
            "..                                     ...                               ...   \n",
            "479                                 Теплее                               NaN   \n",
            "480                          Без изменений                               NaN   \n",
            "481                               Холоднее                               NaN   \n",
            "482                               Холоднее                               NaN   \n",
            "483                               Холоднее                               NaN   \n",
            "\n",
            "    предпочтительное_изменение_движения_воздуха  оценка_комфорта  утепление  \\\n",
            "0                                 Без изменений              3.5       0.54   \n",
            "1                                 Без изменений              6.0       0.61   \n",
            "2                                 Без изменений              5.0       0.57   \n",
            "5                                 Без изменений              5.0       0.54   \n",
            "6                                        Меньше              3.5       0.57   \n",
            "..                                          ...              ...        ...   \n",
            "479                               Без изменений              5.0       0.46   \n",
            "480                               Без изменений              5.0       0.64   \n",
            "481                                      Больше              5.0       0.74   \n",
            "482                                      Больше              5.0       0.74   \n",
            "483                                      Больше              5.0       0.74   \n",
            "\n",
            "     температура_воздуха_в_помещении  температура_воздуха_на_улице    rh  \\\n",
            "0                               22.9                          22.8  48.9   \n",
            "1                               74.8                          23.7  39.2   \n",
            "2                               25.6                          24.5  34.7   \n",
            "5                               24.0                          23.9  34.8   \n",
            "6                               24.7                          24.8  42.2   \n",
            "..                               ...                           ...   ...   \n",
            "479                             31.6                           NaN  69.1   \n",
            "480                             26.5                           NaN  61.0   \n",
            "481                             26.9                           NaN  42.0   \n",
            "482                             26.9                           NaN  42.0   \n",
            "483                             26.9                           NaN  42.0   \n",
            "\n",
            "     скорость_воздуха        рост        вес  занавески  вентилятор  окно  \\\n",
            "0                0.26  162.205839  65.235981        1.0         1.0   NaN   \n",
            "1                0.12  162.205839  65.235981        0.0         0.0   NaN   \n",
            "2                0.08  162.205839  65.235981        0.0         0.0   NaN   \n",
            "5                0.21  162.205839  65.235981        1.0         1.0   NaN   \n",
            "6                0.10  162.205839  65.235981        1.0         1.0   NaN   \n",
            "..                ...         ...        ...        ...         ...   ...   \n",
            "479              0.32  172.700000  50.000000        NaN         1.0   1.0   \n",
            "480              0.16  162.205839  65.000000        NaN         NaN   0.0   \n",
            "481              0.02  162.205839  76.000000        NaN         NaN   0.0   \n",
            "482              0.02  162.205839  76.000000        NaN         NaN   0.0   \n",
            "483              0.02  162.205839  76.000000        NaN         NaN   0.0   \n",
            "\n",
            "     двери  отопление  среднемесячная_температура_на_улице  \\\n",
            "0      NaN        NaN                                 28.9   \n",
            "1      NaN        NaN                                 84.0   \n",
            "2      NaN        NaN                                 32.8   \n",
            "5      NaN        NaN                                 28.9   \n",
            "6      NaN        NaN                                 32.8   \n",
            "..     ...        ...                                  ...   \n",
            "479    NaN        0.0                                 30.9   \n",
            "480    0.0        NaN                                 30.8   \n",
            "481    0.0        NaN                                 21.6   \n",
            "482    0.0        NaN                                 21.6   \n",
            "483    0.0        NaN                                 21.6   \n",
            "\n",
            "     количество_рекламаций количество_рекламаций_кат возраст_кат  \n",
            "0                        0                      None       много  \n",
            "1                        0                      None       много  \n",
            "2                        0                      None       много  \n",
            "5                        0                      None       много  \n",
            "6                        0                      None       много  \n",
            "..                     ...                       ...         ...  \n",
            "479                      0                      None       много  \n",
            "480                      0                      None        None  \n",
            "481                      0                      None        None  \n",
            "482                      0                      None        None  \n",
            "483                      0                      None        None  \n",
            "\n",
            "[406 rows x 32 columns]\n"
          ]
        }
      ]
    },
    {
      "cell_type": "code",
      "source": [
        "print(df1['возраст_кат'].value_counts())\n",
        "print(df1['количество_рекламаций_кат'].value_counts())"
      ],
      "metadata": {
        "colab": {
          "base_uri": "https://localhost:8080/"
        },
        "id": "NdYMFxOMiRP1",
        "outputId": "3898355c-06de-491e-9a55-4ccd8a8a547e"
      },
      "execution_count": 54,
      "outputs": [
        {
          "output_type": "stream",
          "name": "stdout",
          "text": [
            "возраст_кат\n",
            "много    343\n",
            "Name: count, dtype: int64\n",
            "Series([], Name: count, dtype: int64)\n"
          ]
        }
      ]
    },
    {
      "cell_type": "markdown",
      "source": [
        "# Проверка гипотез Neon\n",
        "\n",
        "### Есть ли взаимосвязь между количеством рекламаций и оценкой комфорта?\n",
        "-  Н0: Взаимосвязь между количеством рекламаций и оценкой комфорта есть.\n",
        "-  Н1: Взаимосвязи между количеством рекламаций и оценкой комфорта нет.\n",
        "\n",
        "Есть отрицательная корреляция и она точно не случайна так как p-value = 0"
      ],
      "metadata": {
        "id": "OXFkLED2iXDc"
      }
    },
    {
      "cell_type": "code",
      "source": [
        "import scipy.stats as stats\n",
        "\n",
        "# Коэффициент корреляции Пирсона\n",
        "corr, p_value = stats.pearsonr( df1['количество_рекламаций'], df1['оценка_комфорта'])\n",
        "print(f'Корреляция: {round(corr, 3)}, p-value: {round(p_value, 5)}')\n"
      ],
      "metadata": {
        "colab": {
          "base_uri": "https://localhost:8080/"
        },
        "id": "2oYWkuql2Tng",
        "outputId": "d237cda1-d5b6-4716-e367-bd1c44b1dc2f"
      },
      "execution_count": 55,
      "outputs": [
        {
          "output_type": "stream",
          "name": "stdout",
          "text": [
            "Корреляция: -0.492, p-value: 0.0\n"
          ]
        }
      ]
    },
    {
      "cell_type": "markdown",
      "source": [],
      "metadata": {
        "id": "CVXDqtIIF27V"
      }
    },
    {
      "cell_type": "markdown",
      "source": [
        "### Проверить гипотезу о том, что средняя оценка комфорта отличается в зависимости от страны\n",
        "- Н0: Средняя оценка комфорта отличается в зависимости от страны.\n",
        "- Н1: Средняя оценка комфорта не отличается в зависимости от страны.\n",
        "  Исходя из этих данных можем отклонить вторую гипотезу и принять первую. Т.е,\n",
        "  Средняя оценка комфорта действительно отличается в зависимости от странны. Также можем наблюдать значительно низкое среднее значение в США относительно других стран."
      ],
      "metadata": {
        "id": "zyTgX2NDjdnb"
      }
    },
    {
      "cell_type": "code",
      "source": [
        "# тест на нормальность данных\n",
        "stat, p_value = stats.shapiro(df1['оценка_комфорта'])\n",
        "print(f\"p-value: {p_value:.5f} \")\n",
        "\n",
        "\n",
        "print(df1.groupby('страна')['оценка_комфорта'].mean())\n",
        "\n",
        "\n",
        "groups = [group['оценка_комфорта'].values for name, group in df1.groupby('страна')]\n",
        "# Применим ANOVA\n",
        "f_stat, p_value = stats.f_oneway(*groups)\n",
        "print(f\"\\n F-число: {round(f_stat,3)}, p-value: {round(p_value, 5)}\")\n"
      ],
      "metadata": {
        "id": "Cb_U5tdNqyMO",
        "colab": {
          "base_uri": "https://localhost:8080/"
        },
        "outputId": "d9c4a1b7-ca16-4c1e-8715-2f786f4136e7"
      },
      "execution_count": 56,
      "outputs": [
        {
          "output_type": "stream",
          "name": "stdout",
          "text": [
            "p-value: 0.00000 \n",
            "страна\n",
            "Австралия    5.000000\n",
            "Индия        5.050314\n",
            "США          4.229310\n",
            "Name: оценка_комфорта, dtype: float64\n",
            "\n",
            " F-число: 27.676, p-value: 0.0\n"
          ]
        }
      ]
    },
    {
      "cell_type": "markdown",
      "source": [
        "Проверить гипотезу \"Влияет ли способ охлаждения на оценку комфорта?\"\n",
        "* Н0: способ охлаждения влияет на оценку комфорта.\n",
        "* Н1: способ охлаждения не влияет на оценку комфорта\n",
        "\n",
        "Результаты отклоняют альтернативную гипотезу, следует остановиться на первой гипотезе."
      ],
      "metadata": {
        "id": "x9SVBYtFK1ze"
      }
    },
    {
      "cell_type": "code",
      "source": [
        "# тест на нормальность\n",
        "for name, group in df1.groupby('способ_охлаждения'):\n",
        "    stat, p = stats.shapiro(group['оценка_комфорта'])\n",
        "    print(f\"Способ охлаждения: {name}, p-value = {p:.5f}\")\n",
        "\n",
        "# Применим ANOVA\n",
        "groups = [group['оценка_комфорта'].values for name, group in df.groupby('способ_охлаждения')]\n",
        "f_stat, p_value = stats.f_oneway(*groups)\n",
        "print(f\"\\nF-статистика: {f_stat:.3f}, p-value: {p_value:.5f}\")"
      ],
      "metadata": {
        "colab": {
          "base_uri": "https://localhost:8080/"
        },
        "id": "DtFMomOXkdKV",
        "outputId": "13d65128-774c-4854-8803-dbac3481cdf4"
      },
      "execution_count": 57,
      "outputs": [
        {
          "output_type": "stream",
          "name": "stdout",
          "text": [
            "Способ охлаждения: Вентиляция, p-value = 0.00002\n",
            "Способ охлаждения: Кондиционирование, p-value = 0.00000\n",
            "Способ охлаждения: Смешанный, p-value = 0.00000\n",
            "\n",
            "F-статистика: 7.944, p-value: 0.00040\n"
          ]
        }
      ]
    },
    {
      "cell_type": "markdown",
      "source": [
        "Проверить гипотезу \"Влияет ли пол на оценку комфорта?\"\n",
        "* Н0: пол не влияет на оценку комфорта.\n",
        "* Н1: пол влияет на оценку комфорта\n",
        "\n",
        "Результаты не дают нам оснований отклонять нулевую гипотезу. Следовательно пол не влияет на оценку комфорта."
      ],
      "metadata": {
        "id": "qlZeCkBNQUgX"
      }
    },
    {
      "cell_type": "code",
      "source": [
        "# тест на нормальность\n",
        "for name, group in df1.groupby('пол'):\n",
        "    stat, p = stats.shapiro(group['оценка_комфорта'])\n",
        "    print(f\"Пол: {name}, p-value = {p:.5f}\")\n",
        "\n",
        "# Применим метод Манна Уитни\n",
        "group_male = df1[df1['пол'] == 'Мужской']['оценка_комфорта'].values\n",
        "group_female = df1[df1['пол'] == 'Женский']['оценка_комфорта'].values\n",
        "stat, p = stats.mannwhitneyu(group_male, group_female, alternative='two-sided')\n",
        "print(f\"U-статистика: {stat:.3f}, p-value: {p:.5f}\")\n"
      ],
      "metadata": {
        "colab": {
          "base_uri": "https://localhost:8080/"
        },
        "id": "7E2PQnadQgfs",
        "outputId": "d9de0f3d-abe3-4bce-eb34-78166d2c5b93"
      },
      "execution_count": 58,
      "outputs": [
        {
          "output_type": "stream",
          "name": "stdout",
          "text": [
            "Пол: Женский, p-value = 0.00000\n",
            "Пол: Мужской, p-value = 0.00000\n",
            "U-статистика: 15046.500, p-value: 0.15026\n"
          ]
        }
      ]
    },
    {
      "cell_type": "markdown",
      "source": [
        "Проверить гипотезу \"Влияет ли возрастная группа на оценку комфорта?\"\n",
        "* Н0: возрастная группа не влияет на оценку комфорта.\n",
        "* Н1: возрастная группа влияет на оценку комфорта\n",
        "\n",
        "Результаты не дают нам оснований отклонять нулевую гипотезу. Следовательно  возрастная группа не влияет на оценку комфорта.\n",
        "⁉"
      ],
      "metadata": {
        "id": "QQ_XGnURdZXF"
      }
    },
    {
      "cell_type": "code",
      "source": [
        "df1['количество_рекламаций_кат'].value_counts()\n",
        "\n",
        "\n",
        "# тест на нормальность\n",
        "for name, group in df1.groupby('возраст_кат'):\n",
        "    stat, p = stats.shapiro(group['оценка_комфорта'])\n",
        "    print(f\"Возрастная группа: {name}, p-value = {p:.5f}\")\n",
        "\n",
        "# разделение на группы\n",
        "young = df[df['количество_рекламаций_кат'] == 'молодая_группа']['оценка_комфорта']\n",
        "middle = df[df['количество_рекламаций_кат'] == 'средняя_группа']['оценка_комфорта']\n",
        "old = df[df['количество_рекламаций_кат'] == 'пожилая_группа']['оценка_комфорта']\n",
        "\n",
        "# Kruskal–Wallis test\n",
        "stat, p = stats.kruskal(young, middle, old)\n",
        "print(f\"Kruskal–Wallis H = {stat:.4f}, p-value = {p:.5f}\")"
      ],
      "metadata": {
        "colab": {
          "base_uri": "https://localhost:8080/"
        },
        "id": "NUvdTVIDdnvT",
        "outputId": "d550a497-436a-478b-8f63-3376b4e25c23",
        "collapsed": true
      },
      "execution_count": 63,
      "outputs": [
        {
          "output_type": "stream",
          "name": "stdout",
          "text": [
            "Возрастная группа: много, p-value = 0.00000\n",
            "Kruskal–Wallis H = nan, p-value = nan\n"
          ]
        },
        {
          "output_type": "stream",
          "name": "stderr",
          "text": [
            "<ipython-input-63-15d44e681eef>:15: SmallSampleWarning: One or more sample arguments is too small; all returned values will be NaN. See documentation for sample size requirements.\n",
            "  stat, p = stats.kruskal(young, middle, old)\n"
          ]
        }
      ]
    },
    {
      "cell_type": "markdown",
      "source": [
        "Проверить гипотезу \"Проверить гипотезу влияет ли климат на оценку комфорта\"\n",
        "* Н0: климат не влияет на оценку комфорта.\n",
        "* Н1: климат влияет на оценку комфорта\n",
        "\n",
        "Результаты дают основание отклонить нулевую гипотезу и принять альтернативную.\n",
        "Климат влияет на оценку комфорта,"
      ],
      "metadata": {
        "id": "gvOApQDXd4MM"
      }
    },
    {
      "cell_type": "code",
      "source": [
        "# тест на нормальность\n",
        "for name, group in df1.groupby('климат'):\n",
        "    stat, p = stats.shapiro(group['оценка_комфорта'])\n",
        "    print(f\"Климат: {name}, p-value = {p:.5f}\")\n",
        "\n",
        "# Применим ANOVA\n",
        "groups = [group['оценка_комфорта'].values for _, group in df1.groupby('климат')]\n",
        "f_stat, p_value = stats.f_oneway(*groups)\n",
        "print(f\"\\nF-статистика: {f_stat:.3f}, p-value: {p_value:.5f}\" )\n"
      ],
      "metadata": {
        "colab": {
          "base_uri": "https://localhost:8080/"
        },
        "id": "_0jtM7zkexwu",
        "outputId": "a76ee5d8-ab55-4027-efc8-3dab6dce0fc0"
      },
      "execution_count": null,
      "outputs": [
        {
          "output_type": "stream",
          "name": "stdout",
          "text": [
            "Климат: Cубтроп океанич, p-value = nan\n",
            "Климат: Cубтропический океанический, p-value = 0.00000\n",
            "Климат: Влажный субтропический муссонный, p-value = 0.00004\n",
            "Климат: Жаркий полузасушливый, p-value = 0.00000\n",
            "Климат: Субтропическое высокогорье, p-value = 0.00000\n",
            "Климат: Тропическая влажная саванна, p-value = 0.00000\n",
            "\n",
            "F-статистика: 3.094, p-value: 0.00941\n"
          ]
        },
        {
          "output_type": "stream",
          "name": "stderr",
          "text": [
            "<ipython-input-43-49d92fb5bcbb>:3: SmallSampleWarning: One or more sample arguments is too small; all returned values will be NaN. See documentation for sample size requirements.\n",
            "  stat, p = stats.shapiro(group['оценка_комфорта'])\n"
          ]
        }
      ]
    },
    {
      "cell_type": "markdown",
      "source": [
        "Проверить гипотезу \"Проверить гипотезу влияет ли время года на оценку комфорта\"\n",
        "* Н0: время года не влияет на оценку комфорта.\n",
        "* Н1: время года влияет на оценку комфорта\n",
        "\n",
        "Результаты (p-value ≥ 0.05) дают основание принять нулевую гипотезу , и показывают что различия статистически не значимы"
      ],
      "metadata": {
        "id": "YawwfJAGpWAI"
      }
    },
    {
      "cell_type": "code",
      "source": [
        "# тест на нормальность\n",
        "for name, group in df1.groupby('время_года'):\n",
        "    stat, p = stats.shapiro(group['оценка_комфорта'])\n",
        "    print(f\"Время года: {name}, p-value = {p:.5f}\")\n",
        "# данные не нормальные\n",
        "print('данные не нормальные')\n",
        "# Применим метод краскела уолиса\n",
        "groups = [group['оценка_комфорта'].values for _, group in df1.groupby('время_года')]\n",
        "stat, p_value = stats.kruskal(*groups)\n",
        "\n",
        "print(f\"\\nKruskal-Wallis H-статистика: {stat:.3f}, p-value: {p_value:.5f}\\n\")\n",
        "\n"
      ],
      "metadata": {
        "colab": {
          "base_uri": "https://localhost:8080/"
        },
        "id": "sYdYitOGpWGB",
        "outputId": "d8fb64c5-9725-4ae9-818e-d7cc6d86d750"
      },
      "execution_count": 59,
      "outputs": [
        {
          "output_type": "stream",
          "name": "stdout",
          "text": [
            "Время года: Весна, p-value = 1.00000\n",
            "Время года: Зима, p-value = 0.00000\n",
            "Время года: Лето, p-value = 0.00000\n",
            "Время года: Осень, p-value = 1.00000\n",
            "данные не нормальные\n",
            "\n",
            "Kruskal-Wallis H-статистика: 7.607, p-value: 0.05487\n",
            "\n"
          ]
        },
        {
          "output_type": "stream",
          "name": "stderr",
          "text": [
            "/usr/local/lib/python3.11/dist-packages/scipy/stats/_axis_nan_policy.py:573: UserWarning: scipy.stats.shapiro: Input data has range zero. The results may not be accurate.\n",
            "  res = hypotest_fun_out(*samples, **kwds)\n"
          ]
        }
      ]
    },
    {
      "cell_type": "markdown",
      "source": [
        "Проверить гипотезу \"Хотят ли мужчины и женщины разного изменения температуры / движения воздуха?\"\n",
        "* Н0: Мужчины и женщины не хотят разного изменения движения воздуха?\n",
        "* Н1: Мужчины и женщины  хотят разного изменения движения воздуха?              \n",
        "Результаты p ≥ 0.05  Нет статистически значимой связи между полом и предпочтениями. Придерживаемся нудевой гипотезы\n"
      ],
      "metadata": {
        "id": "w-JdQpT41EWO"
      }
    },
    {
      "cell_type": "code",
      "source": [
        "contingency_table = pd.crosstab(df['пол'], df['предпочтительное_изменение_движения_воздуха'])\n",
        "print(contingency_table)\n",
        "chi2, p, dof, expected = stats.chi2_contingency(contingency_table)\n",
        "print(f\"X2 = {chi2:.4f}, p-value = {p:.5f}\")"
      ],
      "metadata": {
        "colab": {
          "base_uri": "https://localhost:8080/"
        },
        "id": "u8-w3PI41D8u",
        "outputId": "5dddbf20-c44c-441e-f27f-53616fd39ed8"
      },
      "execution_count": 61,
      "outputs": [
        {
          "output_type": "stream",
          "name": "stdout",
          "text": [
            "предпочтительное_изменение_движения_воздуха  Без изменений  Больше  Меньше\n",
            "пол                                                                       \n",
            "Женский                                                 94      52      12\n",
            "Мужской                                                157      89       8\n",
            "X2 = 4.1800, p-value = 0.12369\n"
          ]
        }
      ]
    },
    {
      "cell_type": "markdown",
      "source": [
        "# Регрессионное моделирование Neon\n",
        "Построить регрессионную модель температуры воздуха в помещении в зависимости от типа охлаждения и других значимых факторов. Выбор факторов - на усмотрение исполнителя.                                                                    \n",
        "Выбранные факторы кроме основных:     \n",
        " * время_года\n",
        " * отопление\n",
        " * среднемесячная_температура_на_улице\n",
        " * климат\n",
        "  Эти факторы были отобраны потому, что логически должны оказывать влияние на температуру внутри помещения\n",
        "\n",
        "    \n",
        "  Первая версия, с помощью линейной регрессии\n",
        "\n"
      ],
      "metadata": {
        "id": "8da0C-nxU4eG"
      }
    },
    {
      "cell_type": "code",
      "source": [
        "from sklearn.model_selection import train_test_split\n",
        "from sklearn.preprocessing import OneHotEncoder, StandardScaler\n",
        "from sklearn.compose import ColumnTransformer\n",
        "from sklearn.linear_model import LinearRegression\n",
        "from sklearn.pipeline import Pipeline\n",
        "from sklearn.metrics import mean_squared_error\n",
        "from sklearn.metrics import r2_score\n",
        "\n",
        "# Выбираем признаки и целевую переменную\n",
        "X = df1[['способ_охлаждения', 'время_года','отопление', 'среднемесячная_температура_на_улице', 'климат' ] ]\n",
        "         #'окно', 'двери'\n",
        "y = df1['температура_воздуха_в_помещении']\n",
        "\n",
        "numeric_features = ['среднемесячная_температура_на_улице']\n",
        "categorical_features = [\n",
        "    'время_года',\n",
        "    'способ_охлаждения',\n",
        "    'отопление',\n",
        "    'климат'\n",
        "    # 'окно', 'двери'\n",
        "]\n",
        "\n",
        "\n",
        "\n",
        "# Препроцессор: OneHotEncoder + StandardScaler\n",
        "preprocessor = ColumnTransformer(\n",
        "    transformers=[\n",
        "        ('cat', OneHotEncoder(drop='first'), categorical_features),\n",
        "        # ('num', StandardScaler(), numeric_features)\n",
        "    ]\n",
        ")\n",
        "\n",
        "# Модельный пайплайн: сначала преобразование, потом регрессия\n",
        "pipeline = Pipeline(steps=[\n",
        "    ('preprocessing', preprocessor),\n",
        "    ('regression', LinearRegression())\n",
        "])\n",
        "\n",
        "# Делим на train/test\n",
        "X_train, X_test, y_train, y_test = train_test_split(X, y, test_size=0.2, random_state=42)\n",
        "\n",
        "# Обучение\n",
        "pipeline.fit(X_train, y_train)\n",
        "\n",
        "# Предсказание\n",
        "y_pred = pipeline.predict(X_test)\n",
        "# Метрики\n",
        "print(\"R²:\", r2_score(y_test, y_pred))\n",
        "print(\"RMSE:\", mean_squared_error(y_test, y_pred) ** 0.5)"
      ],
      "metadata": {
        "colab": {
          "base_uri": "https://localhost:8080/"
        },
        "id": "7VQE1LVjXUrC",
        "outputId": "d03912a3-93e9-49b0-bbeb-50125054e7e2"
      },
      "execution_count": 62,
      "outputs": [
        {
          "output_type": "stream",
          "name": "stdout",
          "text": [
            "R²: 0.06657855429455095\n",
            "RMSE: 7.673248568397801\n"
          ]
        }
      ]
    },
    {
      "cell_type": "markdown",
      "source": [
        "Вторая версия с помощью RandomForestRegressor"
      ],
      "metadata": {
        "id": "c1plBp7ILRP8"
      }
    },
    {
      "cell_type": "code",
      "source": [
        "from sklearn.model_selection import train_test_split\n",
        "from sklearn.preprocessing import OneHotEncoder, StandardScaler\n",
        "from sklearn.compose import ColumnTransformer\n",
        "from sklearn.ensemble import RandomForestRegressor\n",
        "from sklearn.pipeline import Pipeline\n",
        "from sklearn.metrics import r2_score, mean_squared_error, mean_absolute_error\n",
        "\n",
        "\n",
        "# Выбираем признаки и целевую переменную\n",
        "X = df1[['способ_охлаждения', 'время_года','отопление', 'среднемесячная_температура_на_улице']]\n",
        "         #'окно', 'двери'\n",
        "y = df1['температура_воздуха_в_помещении']\n",
        "\n",
        "numeric_features = ['среднемесячная_температура_на_улице']\n",
        "categorical_features = [\n",
        "    'время_года',\n",
        "    'способ_охлаждения',\n",
        "    'отопление',\n",
        "    #'окно', 'двери'\n",
        "]\n",
        "\n",
        "# Преобразование признаков\n",
        "preprocessor = ColumnTransformer(transformers=[\n",
        "    ('cat', OneHotEncoder(drop='first'), categorical_features),\n",
        "    # ('num', StandardScaler(), numeric_features)\n",
        "])\n",
        "\n",
        "# Пайплайн с RandomForest\n",
        "pipeline = Pipeline(steps=[\n",
        "    ('preprocessing', preprocessor),\n",
        "    ('regressor', RandomForestRegressor(random_state=42))\n",
        "])\n",
        "\n",
        "# Разделение данных\n",
        "X_train, X_test, y_train, y_test = train_test_split(X, y, test_size=0.2, random_state=42)\n",
        "\n",
        "# Обучение модели\n",
        "pipeline.fit(X_train, y_train)\n",
        "\n",
        "# Предсказание\n",
        "y_pred = pipeline.predict(X_test)\n",
        "\n",
        "# Оценка модели\n",
        "r2 = r2_score(y_test, y_pred)\n",
        "rmse = mean_squared_error(y_test, y_pred) ** 0.5\n",
        "mae = mean_absolute_error(y_test, y_pred)\n",
        "\n",
        "# Вывод результатов\n",
        "print(f\"R²: {r2:.4f}\")\n",
        "print(f\"RMSE: {rmse:.4f}\")\n",
        "print(f\"MAE: {mae:.4f}\")\n"
      ],
      "metadata": {
        "colab": {
          "base_uri": "https://localhost:8080/"
        },
        "id": "7upMvyA9LRWI",
        "outputId": "a4308b10-eac6-45ca-c72b-d29285df23d0"
      },
      "execution_count": null,
      "outputs": [
        {
          "output_type": "stream",
          "name": "stdout",
          "text": [
            "R²: 0.0692\n",
            "RMSE: 7.6623\n",
            "MAE: 2.6969\n"
          ]
        }
      ]
    }
  ]
}