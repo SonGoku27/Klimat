{
  "nbformat": 4,
  "nbformat_minor": 0,
  "metadata": {
    "colab": {
      "provenance": [],
      "mount_file_id": "12ufHx4rWrSxDY1X6Afnw1QFAEzLqztqH",
      "authorship_tag": "ABX9TyOUBdHDQKe6Ww2rrXQ3t5WO",
      "include_colab_link": true
    },
    "kernelspec": {
      "name": "python3",
      "display_name": "Python 3"
    },
    "language_info": {
      "name": "python"
    }
  },
  "cells": [
    {
      "cell_type": "markdown",
      "metadata": {
        "id": "view-in-github",
        "colab_type": "text"
      },
      "source": [
        "<a href=\"https://colab.research.google.com/github/SonGoku27/Klimat/blob/main/Climat_main.ipynb\" target=\"_parent\"><img src=\"https://colab.research.google.com/assets/colab-badge.svg\" alt=\"Open In Colab\"/></a>"
      ]
    },
    {
      "cell_type": "markdown",
      "source": [
        "# Анализ удовлетворенности клиентов. Исследование комфорта при работе климатического оборудования.\n",
        "### Описание проекта:\n",
        "Вы работаете аналитиком в международной компании, занимающейся производством и продажами климатического оборудования: систем кондиционирования и вентиляции. На одной из выставок, посвященной климатическому оборудованию, группа инженеров из дружественной компании предоставила результаты своего исследования: данные по использованию климатических систем в офисах разных стран, городов, а также оценочные данные от респондентов по тому, насколько им комфортно было находиться в заданных условиях.                                                \n",
        "  ** Руководство поставило вам задачу проанализировать полученные данные и предоставить выводы о том, в какой тип климатического оборудования стоит инвестировать больше, чтобы повысить удовлетворенность клиентов созданными условиями в зависимости от региона? И на что стоит обратить внимание при развитии бизнеса в разных регионах? **\n"
      ],
      "metadata": {
        "id": "qQkOMWZKuLal"
      }
    },
    {
      "cell_type": "code",
      "source": [
        "\n",
        "import pandas as pd\n",
        "import matplotlib.pyplot as plt\n",
        "import seaborn as sns\n",
        "import os\n",
        "import numpy as np\n",
        "import scipy.stats as stats\n",
        "from numpy.linalg import lstsq\n",
        "\n",
        "# импорты для регресионного моделирования\n",
        "from sklearn.model_selection import train_test_split\n",
        "from sklearn.preprocessing import OneHotEncoder, StandardScaler\n",
        "from sklearn.compose import ColumnTransformer\n",
        "from sklearn.linear_model import LinearRegression\n",
        "from sklearn.pipeline import Pipeline\n",
        "from sklearn.metrics import mean_squared_error\n",
        "from sklearn.ensemble import RandomForestRegressor\n",
        "from sklearn.metrics import r2_score, mean_squared_error, mean_absolute_error\n",
        "\n",
        "df = pd.read_csv('/content/drive/MyDrive/yandex_data/data_1.csv', sep=\";\")"
      ],
      "metadata": {
        "id": "25gMlg9Stmj8"
      },
      "execution_count": 124,
      "outputs": []
    },
    {
      "cell_type": "markdown",
      "source": [
        "# Исследование данных на качество и предобработка\n",
        "# Проведение расчётов и исследований Амир (Origami)\n"
      ],
      "metadata": {
        "id": "BYGEiIZTpYbe"
      }
    },
    {
      "cell_type": "markdown",
      "source": [
        "1. Приведение названий столбцов в соответствии с PEP8"
      ],
      "metadata": {
        "id": "eWXrG7JauC6J"
      }
    },
    {
      "cell_type": "code",
      "source": [
        "df.columns = df.columns.str.replace(' ', '_').str.lower()"
      ],
      "metadata": {
        "id": "-Rr5YGeQuCe6"
      },
      "execution_count": 125,
      "outputs": []
    },
    {
      "cell_type": "markdown",
      "source": [
        "2. Перевод данных к правильному типу             \n",
        "Столбец \"год\" является типом float.                \n",
        "Приведем к правильному типу, изменив его на int"
      ],
      "metadata": {
        "id": "B8gvHoOAuL0B"
      }
    },
    {
      "cell_type": "code",
      "source": [
        "print(df['год'].dtypes)\n",
        "df['год'] = df['год'].astype('int')\n",
        "print(df['год'].dtypes)"
      ],
      "metadata": {
        "id": "G7mcI1RKuMDJ",
        "colab": {
          "base_uri": "https://localhost:8080/"
        },
        "outputId": "0b4b25ff-97e8-4ef0-ea76-90790384082f"
      },
      "execution_count": 126,
      "outputs": [
        {
          "output_type": "stream",
          "name": "stdout",
          "text": [
            "float64\n",
            "int64\n"
          ]
        }
      ]
    },
    {
      "cell_type": "markdown",
      "source": [
        "3. удаление дубликатов(категориальных данных)\n"
      ],
      "metadata": {
        "id": "G0jJWDbGvArZ"
      }
    },
    {
      "cell_type": "code",
      "source": [
        "df_no_duplicates = df.drop_duplicates(\n",
        "    subset=['время_года', 'способ_охлаждения', 'режим_при_смешанном_типе_охлаждения', 'способ_обогрева', 'пол',\n",
        "            'ощущение_температуры_(bool)', 'предпочтительное_изменение_температуры', 'ощущение_движения_воздуха_(bool)',\n",
        "            'предпочтительное_изменение_движения_воздуха', 'занавески', 'вентилятор',\n",
        "            'окно', 'двери', 'отопление'],\n",
        "    keep=False)\n"
      ],
      "metadata": {
        "id": "uPwzGJipvAx5"
      },
      "execution_count": 127,
      "outputs": []
    },
    {
      "cell_type": "markdown",
      "source": [
        " 4.1 Обработка данных на адекватность данных\n",
        "\n",
        " При заполнении данных были совершены опечатки:\n",
        " * В столбце \"климат\" - \"Субтроп океанич\" вместо \"Субтропический океанический\"\n",
        " * В столбце \"способ_охлаждения\" - \"Тепле\" вместо \"Теплее\"\n",
        " * В столбце \"способ_охлаждения\" - \"Холодн\" вместо \"Холоднее\"              \n",
        " Исправим их методом loc"
      ],
      "metadata": {
        "id": "jPDfYirAvA5f"
      }
    },
    {
      "cell_type": "code",
      "source": [
        "df.loc[df['климат'] == 'Субтроп океанич', 'климат'] = 'Субтропический океанический'\n",
        "df.loc[df['способ_охлаждения'] == 'Тепле', 'способ_охлаждения'] = 'Теплее'\n",
        "df.loc[df['способ_охлаждения'] == 'Холодн', 'способ_охлаждения'] = 'Холоднее'"
      ],
      "metadata": {
        "id": "Jasltn08vBA9"
      },
      "execution_count": 128,
      "outputs": []
    },
    {
      "cell_type": "markdown",
      "source": [
        "4.2 Обработка данных на выбросы          \n",
        "Были найдены выбросы в столбцах: утепление, температура_воздуха_в_помещении, скорость_воздуха, рост, среднемесячная_температура_на_улице.\n",
        "Расмотрим их на графиках:\n",
        "Для обработки выбрасов нужно всем пропуски в таблице \"пол\" заменить на \"Пол не указан\"\n",
        "* Создадим функцию emissions, которая будет отчищать данные от выбросов"
      ],
      "metadata": {
        "id": "sFwmsHo1vBGJ"
      }
    },
    {
      "cell_type": "code",
      "source": [
        "f, a = plt.subplots(1, 5, figsize=(22, 10))\n",
        "for n, i in enumerate(['утепление', 'температура_воздуха_в_помещении', 'скорость_воздуха', 'рост',\n",
        "                       'среднемесячная_температура_на_улице']):\n",
        "    sns.boxplot(y=df[i], ax=a[n])\n",
        "plt.savefig('zxc.png') # посмотрим на изображение \"ВЫбросы.png\"\n",
        "\n",
        "# Для обработки выбрасов нужно всем пропуски в таблице \"пол\" заменить на \"Пол не указан\"\n",
        "df['пол'] = df['пол'].fillna('Пол не указан')"
      ],
      "metadata": {
        "colab": {
          "base_uri": "https://localhost:8080/",
          "height": 816
        },
        "id": "QCzy_DmOrdSl",
        "outputId": "4b092a8c-d845-4b26-a51c-d1ab3844949f"
      },
      "execution_count": 129,
      "outputs": [
        {
          "output_type": "display_data",
          "data": {
            "text/plain": [
              "<Figure size 2200x1000 with 5 Axes>"
            ],
            "image/png": "[encoded data removed]"
          },
          "metadata": {}
        }
      ]
    },
    {
      "cell_type": "code",
      "source": [
        "def emissions(zxc):\n",
        "    # Методом 3IQR для работы с выбросами.\n",
        "    for i in ['утепление', 'температура_воздуха_в_помещении', 'скорость_воздуха', 'рост',\n",
        "              'среднемесячная_температура_на_улице']:\n",
        "        Q1, Q3 = zxc[i].quantile([0.25, 0.75])\n",
        "        IQR = Q3 - Q1\n",
        "        zxc = zxc[(zxc[i] >= Q1 - 3 * IQR) & (zxc[i] <= Q3 + 3 * IQR)]\n",
        "    return zxc\n",
        "df[['утепление', 'температура_воздуха_в_помещении', 'скорость_воздуха', 'рост',\n",
        "    'среднемесячная_температура_на_улице']] = emissions(df[['утепление', 'температура_воздуха_в_помещении',\n",
        "                                                            'скорость_воздуха', 'рост',\n",
        "                                                            'среднемесячная_температура_на_улице']])"
      ],
      "metadata": {
        "id": "XgmwfFv2vBLp"
      },
      "execution_count": 130,
      "outputs": []
    },
    {
      "cell_type": "code",
      "source": [
        "f, a = plt.subplots(1, 5, figsize=(22, 10))\n",
        "for n, i in enumerate(['утепление', 'температура_воздуха_в_помещении', 'скорость_воздуха', 'рост',\n",
        "                       'среднемесячная_температура_на_улице']):\n",
        "    sns.boxplot(y=df[i], ax=a[n])\n",
        "plt.savefig('zxc2.png')"
      ],
      "metadata": {
        "colab": {
          "base_uri": "https://localhost:8080/",
          "height": 814
        },
        "id": "R3dmt2b6rkE9",
        "outputId": "f5e50ee9-23e1-4d00-a1ff-1c6e797e5235"
      },
      "execution_count": 131,
      "outputs": [
        {
          "output_type": "display_data",
          "data": {
            "text/plain": [
              "<Figure size 2200x1000 with 5 Axes>"
            ],
            "image/png": "[encoded data removed]"
          },
          "metadata": {}
        }
      ]
    },
    {
      "cell_type": "markdown",
      "source": [
        "Проанализировав график на картинке (klimat.png) можно сделать вывод, что кондиционирования зависит от состояния окна.\n",
        "Только в случае когда окно закрыто используется способ охлаждения \"Кондиционирования\".\n"
      ],
      "metadata": {
        "id": "tggBGjVJr45v"
      }
    },
    {
      "cell_type": "markdown",
      "source": [
        "5.обработка пропусков\n",
        " * Заполним пропуски необходимых нам столбцах. Столбцы \"Вес\" и \"Рост\" мы заменим медианным значением, учитывая пол респондента.\n",
        " * Так как у многих респондентов столцеб \"Пол\" полностью отсутствует(пропуски в столбеце \"Пол\" не могут обработаны), мы заполнили его значением \"Пол не указан\".\n",
        " * Респондентов с данным значением в столбце \"Пол\", мы заполним общей медианной столбца.\n",
        " * Столбец \"оценка_комфорта\" мы заменим медианным значением, учитывая способ охлаждения респондента."
      ],
      "metadata": {
        "id": "voJcImkbvBTZ"
      }
    },
    {
      "cell_type": "code",
      "source": [
        "print(df['рост'])\n",
        "# 1\n",
        "for i in ['Женский', 'Мужской']:\n",
        "    df.loc[((df['пол'] == i) & (df['вес'].isnull())), 'вес'] = df['вес'].fillna(df['вес'].describe().median())\n",
        "    df.loc[((df['пол'] == i) & (df['рост'].isnull())), 'рост'] = df['рост'].fillna(df['рост'].describe().median())\n",
        "df.loc[df['пол'] == 'Пол не указан', 'рост'] = df['рост'].fillna(df['рост'].describe().median())\n",
        "\n",
        "# 2\n",
        "for j in ['Кондиционирование', 'Вентиляция', 'Смешанный', 'NA']:  # зависит от способа охлаждения\n",
        "    df.loc[((df['способ_охлаждения'] == j) & (df['оценка_комфорта'].isnull())), 'оценка_комфорта'] = (\n",
        "        df['оценка_комфорта'].fillna(df['оценка_комфорта'].describe().mean()))\n",
        "    df.loc[((df['способ_охлаждения'] == j) & (df['температура_воздуха_в_помещении'].isnull())),\n",
        "    'температура_воздуха_в_помещении'] = (df['температура_воздуха_в_помещении'].fillna(\n",
        "        df['температура_воздуха_в_помещении'].describe().mean()))\n",
        "\n",
        "\n",
        "df1 = df  # рабочий момент :) :) :) :)\n"
      ],
      "metadata": {
        "id": "hXsjS7_GvBal",
        "colab": {
          "base_uri": "https://localhost:8080/"
        },
        "outputId": "e37d21b6-5558-4944-c3d7-5b5d2f935969"
      },
      "execution_count": 132,
      "outputs": [
        {
          "output_type": "stream",
          "name": "stdout",
          "text": [
            "0        NaN\n",
            "1        NaN\n",
            "2        NaN\n",
            "3        NaN\n",
            "4        NaN\n",
            "       ...  \n",
            "479    172.7\n",
            "480      NaN\n",
            "481      NaN\n",
            "482      NaN\n",
            "483      NaN\n",
            "Name: рост, Length: 484, dtype: float64\n"
          ]
        }
      ]
    },
    {
      "cell_type": "markdown",
      "source": [
        "Дополнительный категориальный столбец - количество_рекламаций_категории   \n",
        "Создаем функцию для создания нового столбца \"количество_рекламаций_кат\" (Категириальный тип данных)\n"
      ],
      "metadata": {
        "id": "QnEJQ05mwVAp"
      }
    },
    {
      "cell_type": "code",
      "source": [
        "def qwe(x):\n",
        "    if x <= 1:\n",
        "        return 'мало'\n",
        "    elif x == 2:\n",
        "        return 'средне'\n",
        "    elif x > 2:\n",
        "        return 'много'\n",
        "\n",
        "\n",
        "df1['количество_рекламаций_кат'] = [qwe(i) for i in df1['количество_рекламаций']]"
      ],
      "metadata": {
        "id": "NdYMFxOMiRP1"
      },
      "execution_count": 133,
      "outputs": []
    },
    {
      "cell_type": "markdown",
      "source": [
        "дополнительный категориальный столбец - возраст_категории\n",
        "\n",
        "Создаем функцию для создания нового столбца \"возраст_кат\" (Категириальный тип данных)"
      ],
      "metadata": {
        "id": "csKsODY7wgBq"
      }
    },
    {
      "cell_type": "code",
      "source": [
        "def zxc(z):\n",
        "    if z <= 44:\n",
        "        return 'молодой возраст'\n",
        "    elif 45 <= z <= 59:\n",
        "        return 'средний возраст'\n",
        "    elif z > 60:\n",
        "        return 'пожилой возраст'\n",
        "\n",
        "\n",
        "df1['возраст_кат'] = [zxc(i) for i in df1['возраст']]\n"
      ],
      "metadata": {
        "id": "LeezKtW4wgWa"
      },
      "execution_count": 134,
      "outputs": []
    },
    {
      "cell_type": "markdown",
      "source": [
        "средний возраст респондентов по полу и стране"
      ],
      "metadata": {
        "id": "SSvJ6V39wrnC"
      }
    },
    {
      "cell_type": "code",
      "source": [
        "df1[['страна', 'пол', 'возраст']].groupby(['страна', 'пол']).mean()"
      ],
      "metadata": {
        "colab": {
          "base_uri": "https://localhost:8080/",
          "height": 238
        },
        "id": "y5h-vIkNwrSK",
        "outputId": "9d771140-32de-411d-81a9-87d0190bffa8"
      },
      "execution_count": 135,
      "outputs": [
        {
          "output_type": "execute_result",
          "data": {
            "text/plain": [
              "                           возраст\n",
              "страна    пол                     \n",
              "Австралия Женский        46.348315\n",
              "          Мужской        42.614679\n",
              "Индия     Женский        36.590909\n",
              "          Мужской        38.333333\n",
              "США       Пол не указан  36.208333"
            ],
            "text/html": [
              "\n",
              "  <div id=\"df-7b01044d-dd6e-4d7b-826c-2b31f7bef2b1\" class=\"colab-df-container\">\n",
              "    <div>\n",
              "<style scoped>\n",
              "    .dataframe tbody tr th:only-of-type {\n",
              "        vertical-align: middle;\n",
              "    }\n",
              "\n",
              "    .dataframe tbody tr th {\n",
              "        vertical-align: top;\n",
              "    }\n",
              "\n",
              "    .dataframe thead th {\n",
              "        text-align: right;\n",
              "    }\n",
              "</style>\n",
              "<table border=\"1\" class=\"dataframe\">\n",
              "  <thead>\n",
              "    <tr style=\"text-align: right;\">\n",
              "      <th></th>\n",
              "      <th></th>\n",
              "      <th>возраст</th>\n",
              "    </tr>\n",
              "    <tr>\n",
              "      <th>страна</th>\n",
              "      <th>пол</th>\n",
              "      <th></th>\n",
              "    </tr>\n",
              "  </thead>\n",
              "  <tbody>\n",
              "    <tr>\n",
              "      <th rowspan=\"2\" valign=\"top\">Австралия</th>\n",
              "      <th>Женский</th>\n",
              "      <td>46.348315</td>\n",
              "    </tr>\n",
              "    <tr>\n",
              "      <th>Мужской</th>\n",
              "      <td>42.614679</td>\n",
              "    </tr>\n",
              "    <tr>\n",
              "      <th rowspan=\"2\" valign=\"top\">Индия</th>\n",
              "      <th>Женский</th>\n",
              "      <td>36.590909</td>\n",
              "    </tr>\n",
              "    <tr>\n",
              "      <th>Мужской</th>\n",
              "      <td>38.333333</td>\n",
              "    </tr>\n",
              "    <tr>\n",
              "      <th>США</th>\n",
              "      <th>Пол не указан</th>\n",
              "      <td>36.208333</td>\n",
              "    </tr>\n",
              "  </tbody>\n",
              "</table>\n",
              "</div>\n",
              "    <div class=\"colab-df-buttons\">\n",
              "\n",
              "  <div class=\"colab-df-container\">\n",
              "    <button class=\"colab-df-convert\" onclick=\"convertToInteractive('df-7b01044d-dd6e-4d7b-826c-2b31f7bef2b1')\"\n",
              "            title=\"Convert this dataframe to an interactive table.\"\n",
              "            style=\"display:none;\">\n",
              "\n",
              "  <svg xmlns=\"http://www.w3.org/2000/svg\" height=\"24px\" viewBox=\"0 -960 960 960\">\n",
              "    <path d=\"M120-120v-720h720v720H120Zm60-500h600v-160H180v160Zm220 220h160v-160H400v160Zm0 220h160v-160H400v160ZM180-400h160v-160H180v160Zm440 0h160v-160H620v160ZM180-180h160v-160H180v160Zm440 0h160v-160H620v160Z\"/>\n",
              "  </svg>\n",
              "    </button>\n",
              "\n",
              "  <style>\n",
              "    .colab-df-container {\n",
              "      display:flex;\n",
              "      gap: 12px;\n",
              "    }\n",
              "\n",
              "    .colab-df-convert {\n",
              "      background-color: #E8F0FE;\n",
              "      border: none;\n",
              "      border-radius: 50%;\n",
              "      cursor: pointer;\n",
              "      display: none;\n",
              "      fill: #1967D2;\n",
              "      height: 32px;\n",
              "      padding: 0 0 0 0;\n",
              "      width: 32px;\n",
              "    }\n",
              "\n",
              "    .colab-df-convert:hover {\n",
              "      background-color: #E2EBFA;\n",
              "      box-shadow: 0px 1px 2px rgba(60, 64, 67, 0.3), 0px 1px 3px 1px rgba(60, 64, 67, 0.15);\n",
              "      fill: #174EA6;\n",
              "    }\n",
              "\n",
              "    .colab-df-buttons div {\n",
              "      margin-bottom: 4px;\n",
              "    }\n",
              "\n",
              "    [theme=dark] .colab-df-convert {\n",
              "      background-color: #3B4455;\n",
              "      fill: #D2E3FC;\n",
              "    }\n",
              "\n",
              "    [theme=dark] .colab-df-convert:hover {\n",
              "      background-color: #434B5C;\n",
              "      box-shadow: 0px 1px 3px 1px rgba(0, 0, 0, 0.15);\n",
              "      filter: drop-shadow(0px 1px 2px rgba(0, 0, 0, 0.3));\n",
              "      fill: #FFFFFF;\n",
              "    }\n",
              "  </style>\n",
              "\n",
              "    <script>\n",
              "      const buttonEl =\n",
              "        document.querySelector('#df-7b01044d-dd6e-4d7b-826c-2b31f7bef2b1 button.colab-df-convert');\n",
              "      buttonEl.style.display =\n",
              "        google.colab.kernel.accessAllowed ? 'block' : 'none';\n",
              "\n",
              "      async function convertToInteractive(key) {\n",
              "        const element = document.querySelector('#df-7b01044d-dd6e-4d7b-826c-2b31f7bef2b1');\n",
              "        const dataTable =\n",
              "          await google.colab.kernel.invokeFunction('convertToInteractive',\n",
              "                                                    [key], {});\n",
              "        if (!dataTable) return;\n",
              "\n",
              "        const docLinkHtml = 'Like what you see? Visit the ' +\n",
              "          '<a target=\"_blank\" href=https://colab.research.google.com/notebooks/data_table.ipynb>data table notebook</a>'\n",
              "          + ' to learn more about interactive tables.';\n",
              "        element.innerHTML = '';\n",
              "        dataTable['output_type'] = 'display_data';\n",
              "        await google.colab.output.renderOutput(dataTable, element);\n",
              "        const docLink = document.createElement('div');\n",
              "        docLink.innerHTML = docLinkHtml;\n",
              "        element.appendChild(docLink);\n",
              "      }\n",
              "    </script>\n",
              "  </div>\n",
              "\n",
              "\n",
              "<div id=\"df-0610b130-1afc-4a7f-b705-45018bd96100\">\n",
              "  <button class=\"colab-df-quickchart\" onclick=\"quickchart('df-0610b130-1afc-4a7f-b705-45018bd96100')\"\n",
              "            title=\"Suggest charts\"\n",
              "            style=\"display:none;\">\n",
              "\n",
              "<svg xmlns=\"http://www.w3.org/2000/svg\" height=\"24px\"viewBox=\"0 0 24 24\"\n",
              "     width=\"24px\">\n",
              "    <g>\n",
              "        <path d=\"M19 3H5c-1.1 0-2 .9-2 2v14c0 1.1.9 2 2 2h14c1.1 0 2-.9 2-2V5c0-1.1-.9-2-2-2zM9 17H7v-7h2v7zm4 0h-2V7h2v10zm4 0h-2v-4h2v4z\"/>\n",
              "    </g>\n",
              "</svg>\n",
              "  </button>\n",
              "\n",
              "<style>\n",
              "  .colab-df-quickchart {\n",
              "      --bg-color: #E8F0FE;\n",
              "      --fill-color: #1967D2;\n",
              "      --hover-bg-color: #E2EBFA;\n",
              "      --hover-fill-color: #174EA6;\n",
              "      --disabled-fill-color: #AAA;\n",
              "      --disabled-bg-color: #DDD;\n",
              "  }\n",
              "\n",
              "  [theme=dark] .colab-df-quickchart {\n",
              "      --bg-color: #3B4455;\n",
              "      --fill-color: #D2E3FC;\n",
              "      --hover-bg-color: #434B5C;\n",
              "      --hover-fill-color: #FFFFFF;\n",
              "      --disabled-bg-color: #3B4455;\n",
              "      --disabled-fill-color: #666;\n",
              "  }\n",
              "\n",
              "  .colab-df-quickchart {\n",
              "    background-color: var(--bg-color);\n",
              "    border: none;\n",
              "    border-radius: 50%;\n",
              "    cursor: pointer;\n",
              "    display: none;\n",
              "    fill: var(--fill-color);\n",
              "    height: 32px;\n",
              "    padding: 0;\n",
              "    width: 32px;\n",
              "  }\n",
              "\n",
              "  .colab-df-quickchart:hover {\n",
              "    background-color: var(--hover-bg-color);\n",
              "    box-shadow: 0 1px 2px rgba(60, 64, 67, 0.3), 0 1px 3px 1px rgba(60, 64, 67, 0.15);\n",
              "    fill: var(--button-hover-fill-color);\n",
              "  }\n",
              "\n",
              "  .colab-df-quickchart-complete:disabled,\n",
              "  .colab-df-quickchart-complete:disabled:hover {\n",
              "    background-color: var(--disabled-bg-color);\n",
              "    fill: var(--disabled-fill-color);\n",
              "    box-shadow: none;\n",
              "  }\n",
              "\n",
              "  .colab-df-spinner {\n",
              "    border: 2px solid var(--fill-color);\n",
              "    border-color: transparent;\n",
              "    border-bottom-color: var(--fill-color);\n",
              "    animation:\n",
              "      spin 1s steps(1) infinite;\n",
              "  }\n",
              "\n",
              "  @keyframes spin {\n",
              "    0% {\n",
              "      border-color: transparent;\n",
              "      border-bottom-color: var(--fill-color);\n",
              "      border-left-color: var(--fill-color);\n",
              "    }\n",
              "    20% {\n",
              "      border-color: transparent;\n",
              "      border-left-color: var(--fill-color);\n",
              "      border-top-color: var(--fill-color);\n",
              "    }\n",
              "    30% {\n",
              "      border-color: transparent;\n",
              "      border-left-color: var(--fill-color);\n",
              "      border-top-color: var(--fill-color);\n",
              "      border-right-color: var(--fill-color);\n",
              "    }\n",
              "    40% {\n",
              "      border-color: transparent;\n",
              "      border-right-color: var(--fill-color);\n",
              "      border-top-color: var(--fill-color);\n",
              "    }\n",
              "    60% {\n",
              "      border-color: transparent;\n",
              "      border-right-color: var(--fill-color);\n",
              "    }\n",
              "    80% {\n",
              "      border-color: transparent;\n",
              "      border-right-color: var(--fill-color);\n",
              "      border-bottom-color: var(--fill-color);\n",
              "    }\n",
              "    90% {\n",
              "      border-color: transparent;\n",
              "      border-bottom-color: var(--fill-color);\n",
              "    }\n",
              "  }\n",
              "</style>\n",
              "\n",
              "  <script>\n",
              "    async function quickchart(key) {\n",
              "      const quickchartButtonEl =\n",
              "        document.querySelector('#' + key + ' button');\n",
              "      quickchartButtonEl.disabled = true;  // To prevent multiple clicks.\n",
              "      quickchartButtonEl.classList.add('colab-df-spinner');\n",
              "      try {\n",
              "        const charts = await google.colab.kernel.invokeFunction(\n",
              "            'suggestCharts', [key], {});\n",
              "      } catch (error) {\n",
              "        console.error('Error during call to suggestCharts:', error);\n",
              "      }\n",
              "      quickchartButtonEl.classList.remove('colab-df-spinner');\n",
              "      quickchartButtonEl.classList.add('colab-df-quickchart-complete');\n",
              "    }\n",
              "    (() => {\n",
              "      let quickchartButtonEl =\n",
              "        document.querySelector('#df-0610b130-1afc-4a7f-b705-45018bd96100 button');\n",
              "      quickchartButtonEl.style.display =\n",
              "        google.colab.kernel.accessAllowed ? 'block' : 'none';\n",
              "    })();\n",
              "  </script>\n",
              "</div>\n",
              "\n",
              "    </div>\n",
              "  </div>\n"
            ],
            "application/vnd.google.colaboratory.intrinsic+json": {
              "type": "dataframe",
              "summary": "{\n  \"name\": \"df1[['\\u0441\\u0442\\u0440\\u0430\\u043d\\u0430', '\\u043f\\u043e\\u043b', '\\u0432\\u043e\\u0437\\u0440\\u0430\\u0441\\u0442']]\",\n  \"rows\": 5,\n  \"fields\": [\n    {\n      \"column\": \"\\u0432\\u043e\\u0437\\u0440\\u0430\\u0441\\u0442\",\n      \"properties\": {\n        \"dtype\": \"number\",\n        \"std\": 4.356381299599183,\n        \"min\": 36.208333333333336,\n        \"max\": 46.348314606741575,\n        \"num_unique_values\": 5,\n        \"samples\": [\n          42.61467889908257,\n          36.208333333333336,\n          36.59090909090909\n        ],\n        \"semantic_type\": \"\",\n        \"description\": \"\"\n      }\n    }\n  ]\n}"
            }
          },
          "metadata": {},
          "execution_count": 135
        }
      ]
    },
    {
      "cell_type": "markdown",
      "source": [
        "Рассчитать среднюю комфортную температуру в зависимости от возрастной категории\n",
        "\n",
        "Так как не указано какой комфортной температуры воздуха идет речь, мы возьмем комфортную температуру в помещении\n",
        "\n",
        "Рассчет средней комфортной температуры в зависимости от возрастной категории"
      ],
      "metadata": {
        "id": "dSCJKBU3fN_R"
      }
    },
    {
      "cell_type": "code",
      "source": [
        "df3 = df1[['температура_воздуха_в_помещении', 'оценка_комфорта', 'возраст_кат']]\n",
        "df3 = df3.loc[df3['оценка_комфорта'] == 6]\n",
        "q2 = df3.dropna().groupby(['возраст_кат', 'оценка_комфорта']).mean()\n",
        "print(q2.round())"
      ],
      "metadata": {
        "colab": {
          "base_uri": "https://localhost:8080/"
        },
        "id": "-CdQutWNfVvW",
        "outputId": "7bac2052-1d81-40e3-8d17-832d3cd8b442"
      },
      "execution_count": 136,
      "outputs": [
        {
          "output_type": "stream",
          "name": "stdout",
          "text": [
            "                                 температура_воздуха_в_помещении\n",
            "возраст_кат     оценка_комфорта                                 \n",
            "молодой возраст 6.0                                         28.0\n",
            "пожилой возраст 6.0                                         43.0\n",
            "средний возраст 6.0                                         30.0\n"
          ]
        }
      ]
    },
    {
      "cell_type": "markdown",
      "source": [
        "Медианное значение температуры и влажности для каждого типа охлаждени"
      ],
      "metadata": {
        "id": "R43gvvfL9U2x"
      }
    },
    {
      "cell_type": "code",
      "source": [
        "q3 = df1[['температура_воздуха_в_помещении', 'rh', 'способ_охлаждения']].groupby(['способ_охлаждения']).median()\n",
        "print(q3.round())\n",
        "print(df3.dropna().groupby(['возраст_кат', 'оценка_комфорта']).mean())"
      ],
      "metadata": {
        "colab": {
          "base_uri": "https://localhost:8080/"
        },
        "id": "3V0mMBKRo8sf",
        "outputId": "e5ad8862-5701-46ab-95a1-757f165a0d57"
      },
      "execution_count": 137,
      "outputs": [
        {
          "output_type": "stream",
          "name": "stdout",
          "text": [
            "                   температура_воздуха_в_помещении    rh\n",
            "способ_охлаждения                                       \n",
            "Вентиляция                                    28.0  46.0\n",
            "Кондиционирование                             32.0  42.0\n",
            "Смешанный                                     46.0  56.0\n",
            "                                 температура_воздуха_в_помещении\n",
            "возраст_кат     оценка_комфорта                                 \n",
            "молодой возраст 6.0                                    27.941458\n",
            "пожилой возраст 6.0                                    43.080018\n",
            "средний возраст 6.0                                    30.125879\n"
          ]
        }
      ]
    },
    {
      "cell_type": "markdown",
      "source": [
        "## **Исследование комфортных условий в офисах в разных странах** Aiman\n",
        "\n",
        "Цель: Определить, в какой тип климатического оборудования стоит инвестировать больше, чтобы повысить удовлетворённость клиентов. Понять климатические особенности разных регионов, оценить комфорт в офисах и найти закономерности."
      ],
      "metadata": {
        "id": "A62wg1aL2SOr"
      }
    },
    {
      "cell_type": "markdown",
      "source": [
        "Мы начинаем с загрузки данных, в которых содержатся измерения условий в офисах в разных странах, включая температуру, влажность, скорость воздуха, а также субъективные оценки комфорта."
      ],
      "metadata": {
        "id": "sP9nYtem4kLt"
      }
    },
    {
      "cell_type": "markdown",
      "source": [
        "**Подготовка данных**"
      ],
      "metadata": {
        "id": "DeM1lp5Q4m9N"
      }
    },
    {
      "cell_type": "code",
      "source": [
        "# Добавляем возрастные группы по заданным интервалам\n",
        "df1[\"Возрастная группа\"] = pd.cut(\n",
        "    df1[\"возраст\"],\n",
        "    bins=[0, 18, 30, 45, 60, 120],\n",
        "    labels=[\"<18\", \"18-30\", \"30-45\", \"45-60\", \"60+\"],\n",
        "    right=False\n",
        ")\n",
        "\n",
        "# Разбиваем относительную влажность на категории\n",
        "df1[\"rh_комфорт\"] = pd.cut(\n",
        "    df[\"rh\"],\n",
        "    bins=[0, 30, 60, 100],\n",
        "    labels=[\"сухо\", \"комфорт\", \"влажно\"],\n",
        "    right=False\n",
        ")\n",
        "\n",
        "# Убираем пробелы в названиях способов охлаждения\n",
        "df1[\"способ_охлаждения\"] = df1[\"способ_охлаждения\"].astype(str).str.strip()"
      ],
      "metadata": {
        "id": "a6Pc6MDs4nDV"
      },
      "execution_count": 138,
      "outputs": []
    },
    {
      "cell_type": "markdown",
      "source": [
        "Эти категории помогут нам анализировать предпочтения и комфорт среди разных возрастов и условий."
      ],
      "metadata": {
        "id": "f8XQxnQK4nHf"
      }
    },
    {
      "cell_type": "markdown",
      "source": [
        "**Группировка по полу и возрасту. Средние значения**"
      ],
      "metadata": {
        "id": "om9nfO_d8yny"
      }
    },
    {
      "cell_type": "code",
      "source": [
        "# Группировка по стране\n",
        "for country in df1[\"страна\"].dropna().unique():\n",
        "    df_country = df1[df1[\"страна\"] == country].copy()\n",
        "\n",
        "    summary = (\n",
        "        df_country.dropna(subset=[\"пол\", \"возраст_кат\", \"температура_воздуха_в_помещении\"])\n",
        "        .groupby([\"пол\", \"возраст_кат\"], observed=True)\n",
        "        .agg({\n",
        "            \"температура_воздуха_в_помещении\": \"mean\",\n",
        "            \"температура_воздуха_на_улице\": \"mean\",\n",
        "            \"rh\": \"mean\"\n",
        "        })\n",
        "        .reset_index()\n",
        "        .rename(columns={\n",
        "            \"температура_воздуха_в_помещении\": \"Средняя температура в помещении\",\n",
        "            \"температура_воздуха_на_улице\": \"Средняя температура на улице\",\n",
        "            \"rh\": \"Средняя влажность\"\n",
        "        })\n",
        "    )\n",
        "\n",
        "    display(summary)\n"
      ],
      "metadata": {
        "id": "CvFgKhuJ4nMx",
        "colab": {
          "base_uri": "https://localhost:8080/",
          "height": 535
        },
        "outputId": "ee7e8068-ead1-4b65-98bc-e3191201677b"
      },
      "execution_count": 139,
      "outputs": [
        {
          "output_type": "display_data",
          "data": {
            "text/plain": [
              "             пол      возраст_кат  Средняя температура в помещении  \\\n",
              "0  Пол не указан  молодой возраст                        32.122109   \n",
              "1  Пол не указан  средний возраст                        32.122109   \n",
              "\n",
              "   Средняя температура на улице  Средняя влажность  \n",
              "0                     24.101667          38.995000  \n",
              "1                     24.116667          38.808333  "
            ],
            "text/html": [
              "\n",
              "  <div id=\"df-4df35e40-f21b-478f-a814-8eddb9838d2e\" class=\"colab-df-container\">\n",
              "    <div>\n",
              "<style scoped>\n",
              "    .dataframe tbody tr th:only-of-type {\n",
              "        vertical-align: middle;\n",
              "    }\n",
              "\n",
              "    .dataframe tbody tr th {\n",
              "        vertical-align: top;\n",
              "    }\n",
              "\n",
              "    .dataframe thead th {\n",
              "        text-align: right;\n",
              "    }\n",
              "</style>\n",
              "<table border=\"1\" class=\"dataframe\">\n",
              "  <thead>\n",
              "    <tr style=\"text-align: right;\">\n",
              "      <th></th>\n",
              "      <th>пол</th>\n",
              "      <th>возраст_кат</th>\n",
              "      <th>Средняя температура в помещении</th>\n",
              "      <th>Средняя температура на улице</th>\n",
              "      <th>Средняя влажность</th>\n",
              "    </tr>\n",
              "  </thead>\n",
              "  <tbody>\n",
              "    <tr>\n",
              "      <th>0</th>\n",
              "      <td>Пол не указан</td>\n",
              "      <td>молодой возраст</td>\n",
              "      <td>32.122109</td>\n",
              "      <td>24.101667</td>\n",
              "      <td>38.995000</td>\n",
              "    </tr>\n",
              "    <tr>\n",
              "      <th>1</th>\n",
              "      <td>Пол не указан</td>\n",
              "      <td>средний возраст</td>\n",
              "      <td>32.122109</td>\n",
              "      <td>24.116667</td>\n",
              "      <td>38.808333</td>\n",
              "    </tr>\n",
              "  </tbody>\n",
              "</table>\n",
              "</div>\n",
              "    <div class=\"colab-df-buttons\">\n",
              "\n",
              "  <div class=\"colab-df-container\">\n",
              "    <button class=\"colab-df-convert\" onclick=\"convertToInteractive('df-4df35e40-f21b-478f-a814-8eddb9838d2e')\"\n",
              "            title=\"Convert this dataframe to an interactive table.\"\n",
              "            style=\"display:none;\">\n",
              "\n",
              "  <svg xmlns=\"http://www.w3.org/2000/svg\" height=\"24px\" viewBox=\"0 -960 960 960\">\n",
              "    <path d=\"M120-120v-720h720v720H120Zm60-500h600v-160H180v160Zm220 220h160v-160H400v160Zm0 220h160v-160H400v160ZM180-400h160v-160H180v160Zm440 0h160v-160H620v160ZM180-180h160v-160H180v160Zm440 0h160v-160H620v160Z\"/>\n",
              "  </svg>\n",
              "    </button>\n",
              "\n",
              "  <style>\n",
              "    .colab-df-container {\n",
              "      display:flex;\n",
              "      gap: 12px;\n",
              "    }\n",
              "\n",
              "    .colab-df-convert {\n",
              "      background-color: #E8F0FE;\n",
              "      border: none;\n",
              "      border-radius: 50%;\n",
              "      cursor: pointer;\n",
              "      display: none;\n",
              "      fill: #1967D2;\n",
              "      height: 32px;\n",
              "      padding: 0 0 0 0;\n",
              "      width: 32px;\n",
              "    }\n",
              "\n",
              "    .colab-df-convert:hover {\n",
              "      background-color: #E2EBFA;\n",
              "      box-shadow: 0px 1px 2px rgba(60, 64, 67, 0.3), 0px 1px 3px 1px rgba(60, 64, 67, 0.15);\n",
              "      fill: #174EA6;\n",
              "    }\n",
              "\n",
              "    .colab-df-buttons div {\n",
              "      margin-bottom: 4px;\n",
              "    }\n",
              "\n",
              "    [theme=dark] .colab-df-convert {\n",
              "      background-color: #3B4455;\n",
              "      fill: #D2E3FC;\n",
              "    }\n",
              "\n",
              "    [theme=dark] .colab-df-convert:hover {\n",
              "      background-color: #434B5C;\n",
              "      box-shadow: 0px 1px 3px 1px rgba(0, 0, 0, 0.15);\n",
              "      filter: drop-shadow(0px 1px 2px rgba(0, 0, 0, 0.3));\n",
              "      fill: #FFFFFF;\n",
              "    }\n",
              "  </style>\n",
              "\n",
              "    <script>\n",
              "      const buttonEl =\n",
              "        document.querySelector('#df-4df35e40-f21b-478f-a814-8eddb9838d2e button.colab-df-convert');\n",
              "      buttonEl.style.display =\n",
              "        google.colab.kernel.accessAllowed ? 'block' : 'none';\n",
              "\n",
              "      async function convertToInteractive(key) {\n",
              "        const element = document.querySelector('#df-4df35e40-f21b-478f-a814-8eddb9838d2e');\n",
              "        const dataTable =\n",
              "          await google.colab.kernel.invokeFunction('convertToInteractive',\n",
              "                                                    [key], {});\n",
              "        if (!dataTable) return;\n",
              "\n",
              "        const docLinkHtml = 'Like what you see? Visit the ' +\n",
              "          '<a target=\"_blank\" href=https://colab.research.google.com/notebooks/data_table.ipynb>data table notebook</a>'\n",
              "          + ' to learn more about interactive tables.';\n",
              "        element.innerHTML = '';\n",
              "        dataTable['output_type'] = 'display_data';\n",
              "        await google.colab.output.renderOutput(dataTable, element);\n",
              "        const docLink = document.createElement('div');\n",
              "        docLink.innerHTML = docLinkHtml;\n",
              "        element.appendChild(docLink);\n",
              "      }\n",
              "    </script>\n",
              "  </div>\n",
              "\n",
              "\n",
              "<div id=\"df-f4a01847-de28-4d28-b7bd-55b8eb31ca46\">\n",
              "  <button class=\"colab-df-quickchart\" onclick=\"quickchart('df-f4a01847-de28-4d28-b7bd-55b8eb31ca46')\"\n",
              "            title=\"Suggest charts\"\n",
              "            style=\"display:none;\">\n",
              "\n",
              "<svg xmlns=\"http://www.w3.org/2000/svg\" height=\"24px\"viewBox=\"0 0 24 24\"\n",
              "     width=\"24px\">\n",
              "    <g>\n",
              "        <path d=\"M19 3H5c-1.1 0-2 .9-2 2v14c0 1.1.9 2 2 2h14c1.1 0 2-.9 2-2V5c0-1.1-.9-2-2-2zM9 17H7v-7h2v7zm4 0h-2V7h2v10zm4 0h-2v-4h2v4z\"/>\n",
              "    </g>\n",
              "</svg>\n",
              "  </button>\n",
              "\n",
              "<style>\n",
              "  .colab-df-quickchart {\n",
              "      --bg-color: #E8F0FE;\n",
              "      --fill-color: #1967D2;\n",
              "      --hover-bg-color: #E2EBFA;\n",
              "      --hover-fill-color: #174EA6;\n",
              "      --disabled-fill-color: #AAA;\n",
              "      --disabled-bg-color: #DDD;\n",
              "  }\n",
              "\n",
              "  [theme=dark] .colab-df-quickchart {\n",
              "      --bg-color: #3B4455;\n",
              "      --fill-color: #D2E3FC;\n",
              "      --hover-bg-color: #434B5C;\n",
              "      --hover-fill-color: #FFFFFF;\n",
              "      --disabled-bg-color: #3B4455;\n",
              "      --disabled-fill-color: #666;\n",
              "  }\n",
              "\n",
              "  .colab-df-quickchart {\n",
              "    background-color: var(--bg-color);\n",
              "    border: none;\n",
              "    border-radius: 50%;\n",
              "    cursor: pointer;\n",
              "    display: none;\n",
              "    fill: var(--fill-color);\n",
              "    height: 32px;\n",
              "    padding: 0;\n",
              "    width: 32px;\n",
              "  }\n",
              "\n",
              "  .colab-df-quickchart:hover {\n",
              "    background-color: var(--hover-bg-color);\n",
              "    box-shadow: 0 1px 2px rgba(60, 64, 67, 0.3), 0 1px 3px 1px rgba(60, 64, 67, 0.15);\n",
              "    fill: var(--button-hover-fill-color);\n",
              "  }\n",
              "\n",
              "  .colab-df-quickchart-complete:disabled,\n",
              "  .colab-df-quickchart-complete:disabled:hover {\n",
              "    background-color: var(--disabled-bg-color);\n",
              "    fill: var(--disabled-fill-color);\n",
              "    box-shadow: none;\n",
              "  }\n",
              "\n",
              "  .colab-df-spinner {\n",
              "    border: 2px solid var(--fill-color);\n",
              "    border-color: transparent;\n",
              "    border-bottom-color: var(--fill-color);\n",
              "    animation:\n",
              "      spin 1s steps(1) infinite;\n",
              "  }\n",
              "\n",
              "  @keyframes spin {\n",
              "    0% {\n",
              "      border-color: transparent;\n",
              "      border-bottom-color: var(--fill-color);\n",
              "      border-left-color: var(--fill-color);\n",
              "    }\n",
              "    20% {\n",
              "      border-color: transparent;\n",
              "      border-left-color: var(--fill-color);\n",
              "      border-top-color: var(--fill-color);\n",
              "    }\n",
              "    30% {\n",
              "      border-color: transparent;\n",
              "      border-left-color: var(--fill-color);\n",
              "      border-top-color: var(--fill-color);\n",
              "      border-right-color: var(--fill-color);\n",
              "    }\n",
              "    40% {\n",
              "      border-color: transparent;\n",
              "      border-right-color: var(--fill-color);\n",
              "      border-top-color: var(--fill-color);\n",
              "    }\n",
              "    60% {\n",
              "      border-color: transparent;\n",
              "      border-right-color: var(--fill-color);\n",
              "    }\n",
              "    80% {\n",
              "      border-color: transparent;\n",
              "      border-right-color: var(--fill-color);\n",
              "      border-bottom-color: var(--fill-color);\n",
              "    }\n",
              "    90% {\n",
              "      border-color: transparent;\n",
              "      border-bottom-color: var(--fill-color);\n",
              "    }\n",
              "  }\n",
              "</style>\n",
              "\n",
              "  <script>\n",
              "    async function quickchart(key) {\n",
              "      const quickchartButtonEl =\n",
              "        document.querySelector('#' + key + ' button');\n",
              "      quickchartButtonEl.disabled = true;  // To prevent multiple clicks.\n",
              "      quickchartButtonEl.classList.add('colab-df-spinner');\n",
              "      try {\n",
              "        const charts = await google.colab.kernel.invokeFunction(\n",
              "            'suggestCharts', [key], {});\n",
              "      } catch (error) {\n",
              "        console.error('Error during call to suggestCharts:', error);\n",
              "      }\n",
              "      quickchartButtonEl.classList.remove('colab-df-spinner');\n",
              "      quickchartButtonEl.classList.add('colab-df-quickchart-complete');\n",
              "    }\n",
              "    (() => {\n",
              "      let quickchartButtonEl =\n",
              "        document.querySelector('#df-f4a01847-de28-4d28-b7bd-55b8eb31ca46 button');\n",
              "      quickchartButtonEl.style.display =\n",
              "        google.colab.kernel.accessAllowed ? 'block' : 'none';\n",
              "    })();\n",
              "  </script>\n",
              "</div>\n",
              "\n",
              "  <div id=\"id_9b7082fc-94e4-4bba-8ef1-b4c19c0c3071\">\n",
              "    <style>\n",
              "      .colab-df-generate {\n",
              "        background-color: #E8F0FE;\n",
              "        border: none;\n",
              "        border-radius: 50%;\n",
              "        cursor: pointer;\n",
              "        display: none;\n",
              "        fill: #1967D2;\n",
              "        height: 32px;\n",
              "        padding: 0 0 0 0;\n",
              "        width: 32px;\n",
              "      }\n",
              "\n",
              "      .colab-df-generate:hover {\n",
              "        background-color: #E2EBFA;\n",
              "        box-shadow: 0px 1px 2px rgba(60, 64, 67, 0.3), 0px 1px 3px 1px rgba(60, 64, 67, 0.15);\n",
              "        fill: #174EA6;\n",
              "      }\n",
              "\n",
              "      [theme=dark] .colab-df-generate {\n",
              "        background-color: #3B4455;\n",
              "        fill: #D2E3FC;\n",
              "      }\n",
              "\n",
              "      [theme=dark] .colab-df-generate:hover {\n",
              "        background-color: #434B5C;\n",
              "        box-shadow: 0px 1px 3px 1px rgba(0, 0, 0, 0.15);\n",
              "        filter: drop-shadow(0px 1px 2px rgba(0, 0, 0, 0.3));\n",
              "        fill: #FFFFFF;\n",
              "      }\n",
              "    </style>\n",
              "    <button class=\"colab-df-generate\" onclick=\"generateWithVariable('summary')\"\n",
              "            title=\"Generate code using this dataframe.\"\n",
              "            style=\"display:none;\">\n",
              "\n",
              "  <svg xmlns=\"http://www.w3.org/2000/svg\" height=\"24px\"viewBox=\"0 0 24 24\"\n",
              "       width=\"24px\">\n",
              "    <path d=\"M7,19H8.4L18.45,9,17,7.55,7,17.6ZM5,21V16.75L18.45,3.32a2,2,0,0,1,2.83,0l1.4,1.43a1.91,1.91,0,0,1,.58,1.4,1.91,1.91,0,0,1-.58,1.4L9.25,21ZM18.45,9,17,7.55Zm-12,3A5.31,5.31,0,0,0,4.9,8.1,5.31,5.31,0,0,0,1,6.5,5.31,5.31,0,0,0,4.9,4.9,5.31,5.31,0,0,0,6.5,1,5.31,5.31,0,0,0,8.1,4.9,5.31,5.31,0,0,0,12,6.5,5.46,5.46,0,0,0,6.5,12Z\"/>\n",
              "  </svg>\n",
              "    </button>\n",
              "    <script>\n",
              "      (() => {\n",
              "      const buttonEl =\n",
              "        document.querySelector('#id_9b7082fc-94e4-4bba-8ef1-b4c19c0c3071 button.colab-df-generate');\n",
              "      buttonEl.style.display =\n",
              "        google.colab.kernel.accessAllowed ? 'block' : 'none';\n",
              "\n",
              "      buttonEl.onclick = () => {\n",
              "        google.colab.notebook.generateWithVariable('summary');\n",
              "      }\n",
              "      })();\n",
              "    </script>\n",
              "  </div>\n",
              "\n",
              "    </div>\n",
              "  </div>\n"
            ],
            "application/vnd.google.colaboratory.intrinsic+json": {
              "type": "dataframe",
              "variable_name": "summary",
              "summary": "{\n  \"name\": \"summary\",\n  \"rows\": 2,\n  \"fields\": [\n    {\n      \"column\": \"\\u043f\\u043e\\u043b\",\n      \"properties\": {\n        \"dtype\": \"string\",\n        \"num_unique_values\": 1,\n        \"samples\": [\n          \"\\u041f\\u043e\\u043b \\u043d\\u0435 \\u0443\\u043a\\u0430\\u0437\\u0430\\u043d\"\n        ],\n        \"semantic_type\": \"\",\n        \"description\": \"\"\n      }\n    },\n    {\n      \"column\": \"\\u0432\\u043e\\u0437\\u0440\\u0430\\u0441\\u0442_\\u043a\\u0430\\u0442\",\n      \"properties\": {\n        \"dtype\": \"string\",\n        \"num_unique_values\": 2,\n        \"samples\": [\n          \"\\u0441\\u0440\\u0435\\u0434\\u043d\\u0438\\u0439 \\u0432\\u043e\\u0437\\u0440\\u0430\\u0441\\u0442\"\n        ],\n        \"semantic_type\": \"\",\n        \"description\": \"\"\n      }\n    },\n    {\n      \"column\": \"\\u0421\\u0440\\u0435\\u0434\\u043d\\u044f\\u044f \\u0442\\u0435\\u043c\\u043f\\u0435\\u0440\\u0430\\u0442\\u0443\\u0440\\u0430 \\u0432 \\u043f\\u043e\\u043c\\u0435\\u0449\\u0435\\u043d\\u0438\\u0438\",\n      \"properties\": {\n        \"dtype\": \"number\",\n        \"std\": 0.0,\n        \"min\": 32.12210939391476,\n        \"max\": 32.12210939391476,\n        \"num_unique_values\": 1,\n        \"samples\": [\n          32.12210939391476\n        ],\n        \"semantic_type\": \"\",\n        \"description\": \"\"\n      }\n    },\n    {\n      \"column\": \"\\u0421\\u0440\\u0435\\u0434\\u043d\\u044f\\u044f \\u0442\\u0435\\u043c\\u043f\\u0435\\u0440\\u0430\\u0442\\u0443\\u0440\\u0430 \\u043d\\u0430 \\u0443\\u043b\\u0438\\u0446\\u0435\",\n      \"properties\": {\n        \"dtype\": \"number\",\n        \"std\": 0.010606601717796102,\n        \"min\": 24.101666666666667,\n        \"max\": 24.116666666666664,\n        \"num_unique_values\": 2,\n        \"samples\": [\n          24.116666666666664\n        ],\n        \"semantic_type\": \"\",\n        \"description\": \"\"\n      }\n    },\n    {\n      \"column\": \"\\u0421\\u0440\\u0435\\u0434\\u043d\\u044f\\u044f \\u0432\\u043b\\u0430\\u0436\\u043d\\u043e\\u0441\\u0442\\u044c\",\n      \"properties\": {\n        \"dtype\": \"number\",\n        \"std\": 0.1319932658214894,\n        \"min\": 38.80833333333333,\n        \"max\": 38.995,\n        \"num_unique_values\": 2,\n        \"samples\": [\n          38.80833333333333\n        ],\n        \"semantic_type\": \"\",\n        \"description\": \"\"\n      }\n    }\n  ]\n}"
            }
          },
          "metadata": {}
        },
        {
          "output_type": "display_data",
          "data": {
            "text/plain": [
              "       пол      возраст_кат  Средняя температура в помещении  \\\n",
              "0  Женский  молодой возраст                        46.492493   \n",
              "1  Женский  пожилой возраст                        46.492493   \n",
              "2  Женский  средний возраст                        46.492493   \n",
              "3  Мужской  молодой возраст                        46.492493   \n",
              "4  Мужской  пожилой возраст                        46.492493   \n",
              "5  Мужской  средний возраст                        46.492493   \n",
              "\n",
              "   Средняя температура на улице  Средняя влажность  \n",
              "0                           NaN          61.368000  \n",
              "1                           NaN          44.550000  \n",
              "2                           NaN          61.266071  \n",
              "3                           NaN          61.668889  \n",
              "4                           NaN          64.366667  \n",
              "5                           NaN          61.680328  "
            ],
            "text/html": [
              "\n",
              "  <div id=\"df-5ff0d415-649f-43b7-9a4f-d48028b465dd\" class=\"colab-df-container\">\n",
              "    <div>\n",
              "<style scoped>\n",
              "    .dataframe tbody tr th:only-of-type {\n",
              "        vertical-align: middle;\n",
              "    }\n",
              "\n",
              "    .dataframe tbody tr th {\n",
              "        vertical-align: top;\n",
              "    }\n",
              "\n",
              "    .dataframe thead th {\n",
              "        text-align: right;\n",
              "    }\n",
              "</style>\n",
              "<table border=\"1\" class=\"dataframe\">\n",
              "  <thead>\n",
              "    <tr style=\"text-align: right;\">\n",
              "      <th></th>\n",
              "      <th>пол</th>\n",
              "      <th>возраст_кат</th>\n",
              "      <th>Средняя температура в помещении</th>\n",
              "      <th>Средняя температура на улице</th>\n",
              "      <th>Средняя влажность</th>\n",
              "    </tr>\n",
              "  </thead>\n",
              "  <tbody>\n",
              "    <tr>\n",
              "      <th>0</th>\n",
              "      <td>Женский</td>\n",
              "      <td>молодой возраст</td>\n",
              "      <td>46.492493</td>\n",
              "      <td>NaN</td>\n",
              "      <td>61.368000</td>\n",
              "    </tr>\n",
              "    <tr>\n",
              "      <th>1</th>\n",
              "      <td>Женский</td>\n",
              "      <td>пожилой возраст</td>\n",
              "      <td>46.492493</td>\n",
              "      <td>NaN</td>\n",
              "      <td>44.550000</td>\n",
              "    </tr>\n",
              "    <tr>\n",
              "      <th>2</th>\n",
              "      <td>Женский</td>\n",
              "      <td>средний возраст</td>\n",
              "      <td>46.492493</td>\n",
              "      <td>NaN</td>\n",
              "      <td>61.266071</td>\n",
              "    </tr>\n",
              "    <tr>\n",
              "      <th>3</th>\n",
              "      <td>Мужской</td>\n",
              "      <td>молодой возраст</td>\n",
              "      <td>46.492493</td>\n",
              "      <td>NaN</td>\n",
              "      <td>61.668889</td>\n",
              "    </tr>\n",
              "    <tr>\n",
              "      <th>4</th>\n",
              "      <td>Мужской</td>\n",
              "      <td>пожилой возраст</td>\n",
              "      <td>46.492493</td>\n",
              "      <td>NaN</td>\n",
              "      <td>64.366667</td>\n",
              "    </tr>\n",
              "    <tr>\n",
              "      <th>5</th>\n",
              "      <td>Мужской</td>\n",
              "      <td>средний возраст</td>\n",
              "      <td>46.492493</td>\n",
              "      <td>NaN</td>\n",
              "      <td>61.680328</td>\n",
              "    </tr>\n",
              "  </tbody>\n",
              "</table>\n",
              "</div>\n",
              "    <div class=\"colab-df-buttons\">\n",
              "\n",
              "  <div class=\"colab-df-container\">\n",
              "    <button class=\"colab-df-convert\" onclick=\"convertToInteractive('df-5ff0d415-649f-43b7-9a4f-d48028b465dd')\"\n",
              "            title=\"Convert this dataframe to an interactive table.\"\n",
              "            style=\"display:none;\">\n",
              "\n",
              "  <svg xmlns=\"http://www.w3.org/2000/svg\" height=\"24px\" viewBox=\"0 -960 960 960\">\n",
              "    <path d=\"M120-120v-720h720v720H120Zm60-500h600v-160H180v160Zm220 220h160v-160H400v160Zm0 220h160v-160H400v160ZM180-400h160v-160H180v160Zm440 0h160v-160H620v160ZM180-180h160v-160H180v160Zm440 0h160v-160H620v160Z\"/>\n",
              "  </svg>\n",
              "    </button>\n",
              "\n",
              "  <style>\n",
              "    .colab-df-container {\n",
              "      display:flex;\n",
              "      gap: 12px;\n",
              "    }\n",
              "\n",
              "    .colab-df-convert {\n",
              "      background-color: #E8F0FE;\n",
              "      border: none;\n",
              "      border-radius: 50%;\n",
              "      cursor: pointer;\n",
              "      display: none;\n",
              "      fill: #1967D2;\n",
              "      height: 32px;\n",
              "      padding: 0 0 0 0;\n",
              "      width: 32px;\n",
              "    }\n",
              "\n",
              "    .colab-df-convert:hover {\n",
              "      background-color: #E2EBFA;\n",
              "      box-shadow: 0px 1px 2px rgba(60, 64, 67, 0.3), 0px 1px 3px 1px rgba(60, 64, 67, 0.15);\n",
              "      fill: #174EA6;\n",
              "    }\n",
              "\n",
              "    .colab-df-buttons div {\n",
              "      margin-bottom: 4px;\n",
              "    }\n",
              "\n",
              "    [theme=dark] .colab-df-convert {\n",
              "      background-color: #3B4455;\n",
              "      fill: #D2E3FC;\n",
              "    }\n",
              "\n",
              "    [theme=dark] .colab-df-convert:hover {\n",
              "      background-color: #434B5C;\n",
              "      box-shadow: 0px 1px 3px 1px rgba(0, 0, 0, 0.15);\n",
              "      filter: drop-shadow(0px 1px 2px rgba(0, 0, 0, 0.3));\n",
              "      fill: #FFFFFF;\n",
              "    }\n",
              "  </style>\n",
              "\n",
              "    <script>\n",
              "      const buttonEl =\n",
              "        document.querySelector('#df-5ff0d415-649f-43b7-9a4f-d48028b465dd button.colab-df-convert');\n",
              "      buttonEl.style.display =\n",
              "        google.colab.kernel.accessAllowed ? 'block' : 'none';\n",
              "\n",
              "      async function convertToInteractive(key) {\n",
              "        const element = document.querySelector('#df-5ff0d415-649f-43b7-9a4f-d48028b465dd');\n",
              "        const dataTable =\n",
              "          await google.colab.kernel.invokeFunction('convertToInteractive',\n",
              "                                                    [key], {});\n",
              "        if (!dataTable) return;\n",
              "\n",
              "        const docLinkHtml = 'Like what you see? Visit the ' +\n",
              "          '<a target=\"_blank\" href=https://colab.research.google.com/notebooks/data_table.ipynb>data table notebook</a>'\n",
              "          + ' to learn more about interactive tables.';\n",
              "        element.innerHTML = '';\n",
              "        dataTable['output_type'] = 'display_data';\n",
              "        await google.colab.output.renderOutput(dataTable, element);\n",
              "        const docLink = document.createElement('div');\n",
              "        docLink.innerHTML = docLinkHtml;\n",
              "        element.appendChild(docLink);\n",
              "      }\n",
              "    </script>\n",
              "  </div>\n",
              "\n",
              "\n",
              "<div id=\"df-5f96ec8f-1859-4cab-9f5c-f1b0008c6e07\">\n",
              "  <button class=\"colab-df-quickchart\" onclick=\"quickchart('df-5f96ec8f-1859-4cab-9f5c-f1b0008c6e07')\"\n",
              "            title=\"Suggest charts\"\n",
              "            style=\"display:none;\">\n",
              "\n",
              "<svg xmlns=\"http://www.w3.org/2000/svg\" height=\"24px\"viewBox=\"0 0 24 24\"\n",
              "     width=\"24px\">\n",
              "    <g>\n",
              "        <path d=\"M19 3H5c-1.1 0-2 .9-2 2v14c0 1.1.9 2 2 2h14c1.1 0 2-.9 2-2V5c0-1.1-.9-2-2-2zM9 17H7v-7h2v7zm4 0h-2V7h2v10zm4 0h-2v-4h2v4z\"/>\n",
              "    </g>\n",
              "</svg>\n",
              "  </button>\n",
              "\n",
              "<style>\n",
              "  .colab-df-quickchart {\n",
              "      --bg-color: #E8F0FE;\n",
              "      --fill-color: #1967D2;\n",
              "      --hover-bg-color: #E2EBFA;\n",
              "      --hover-fill-color: #174EA6;\n",
              "      --disabled-fill-color: #AAA;\n",
              "      --disabled-bg-color: #DDD;\n",
              "  }\n",
              "\n",
              "  [theme=dark] .colab-df-quickchart {\n",
              "      --bg-color: #3B4455;\n",
              "      --fill-color: #D2E3FC;\n",
              "      --hover-bg-color: #434B5C;\n",
              "      --hover-fill-color: #FFFFFF;\n",
              "      --disabled-bg-color: #3B4455;\n",
              "      --disabled-fill-color: #666;\n",
              "  }\n",
              "\n",
              "  .colab-df-quickchart {\n",
              "    background-color: var(--bg-color);\n",
              "    border: none;\n",
              "    border-radius: 50%;\n",
              "    cursor: pointer;\n",
              "    display: none;\n",
              "    fill: var(--fill-color);\n",
              "    height: 32px;\n",
              "    padding: 0;\n",
              "    width: 32px;\n",
              "  }\n",
              "\n",
              "  .colab-df-quickchart:hover {\n",
              "    background-color: var(--hover-bg-color);\n",
              "    box-shadow: 0 1px 2px rgba(60, 64, 67, 0.3), 0 1px 3px 1px rgba(60, 64, 67, 0.15);\n",
              "    fill: var(--button-hover-fill-color);\n",
              "  }\n",
              "\n",
              "  .colab-df-quickchart-complete:disabled,\n",
              "  .colab-df-quickchart-complete:disabled:hover {\n",
              "    background-color: var(--disabled-bg-color);\n",
              "    fill: var(--disabled-fill-color);\n",
              "    box-shadow: none;\n",
              "  }\n",
              "\n",
              "  .colab-df-spinner {\n",
              "    border: 2px solid var(--fill-color);\n",
              "    border-color: transparent;\n",
              "    border-bottom-color: var(--fill-color);\n",
              "    animation:\n",
              "      spin 1s steps(1) infinite;\n",
              "  }\n",
              "\n",
              "  @keyframes spin {\n",
              "    0% {\n",
              "      border-color: transparent;\n",
              "      border-bottom-color: var(--fill-color);\n",
              "      border-left-color: var(--fill-color);\n",
              "    }\n",
              "    20% {\n",
              "      border-color: transparent;\n",
              "      border-left-color: var(--fill-color);\n",
              "      border-top-color: var(--fill-color);\n",
              "    }\n",
              "    30% {\n",
              "      border-color: transparent;\n",
              "      border-left-color: var(--fill-color);\n",
              "      border-top-color: var(--fill-color);\n",
              "      border-right-color: var(--fill-color);\n",
              "    }\n",
              "    40% {\n",
              "      border-color: transparent;\n",
              "      border-right-color: var(--fill-color);\n",
              "      border-top-color: var(--fill-color);\n",
              "    }\n",
              "    60% {\n",
              "      border-color: transparent;\n",
              "      border-right-color: var(--fill-color);\n",
              "    }\n",
              "    80% {\n",
              "      border-color: transparent;\n",
              "      border-right-color: var(--fill-color);\n",
              "      border-bottom-color: var(--fill-color);\n",
              "    }\n",
              "    90% {\n",
              "      border-color: transparent;\n",
              "      border-bottom-color: var(--fill-color);\n",
              "    }\n",
              "  }\n",
              "</style>\n",
              "\n",
              "  <script>\n",
              "    async function quickchart(key) {\n",
              "      const quickchartButtonEl =\n",
              "        document.querySelector('#' + key + ' button');\n",
              "      quickchartButtonEl.disabled = true;  // To prevent multiple clicks.\n",
              "      quickchartButtonEl.classList.add('colab-df-spinner');\n",
              "      try {\n",
              "        const charts = await google.colab.kernel.invokeFunction(\n",
              "            'suggestCharts', [key], {});\n",
              "      } catch (error) {\n",
              "        console.error('Error during call to suggestCharts:', error);\n",
              "      }\n",
              "      quickchartButtonEl.classList.remove('colab-df-spinner');\n",
              "      quickchartButtonEl.classList.add('colab-df-quickchart-complete');\n",
              "    }\n",
              "    (() => {\n",
              "      let quickchartButtonEl =\n",
              "        document.querySelector('#df-5f96ec8f-1859-4cab-9f5c-f1b0008c6e07 button');\n",
              "      quickchartButtonEl.style.display =\n",
              "        google.colab.kernel.accessAllowed ? 'block' : 'none';\n",
              "    })();\n",
              "  </script>\n",
              "</div>\n",
              "\n",
              "  <div id=\"id_bbfa6d7b-00b9-4f0f-a78f-33792b30f51c\">\n",
              "    <style>\n",
              "      .colab-df-generate {\n",
              "        background-color: #E8F0FE;\n",
              "        border: none;\n",
              "        border-radius: 50%;\n",
              "        cursor: pointer;\n",
              "        display: none;\n",
              "        fill: #1967D2;\n",
              "        height: 32px;\n",
              "        padding: 0 0 0 0;\n",
              "        width: 32px;\n",
              "      }\n",
              "\n",
              "      .colab-df-generate:hover {\n",
              "        background-color: #E2EBFA;\n",
              "        box-shadow: 0px 1px 2px rgba(60, 64, 67, 0.3), 0px 1px 3px 1px rgba(60, 64, 67, 0.15);\n",
              "        fill: #174EA6;\n",
              "      }\n",
              "\n",
              "      [theme=dark] .colab-df-generate {\n",
              "        background-color: #3B4455;\n",
              "        fill: #D2E3FC;\n",
              "      }\n",
              "\n",
              "      [theme=dark] .colab-df-generate:hover {\n",
              "        background-color: #434B5C;\n",
              "        box-shadow: 0px 1px 3px 1px rgba(0, 0, 0, 0.15);\n",
              "        filter: drop-shadow(0px 1px 2px rgba(0, 0, 0, 0.3));\n",
              "        fill: #FFFFFF;\n",
              "      }\n",
              "    </style>\n",
              "    <button class=\"colab-df-generate\" onclick=\"generateWithVariable('summary')\"\n",
              "            title=\"Generate code using this dataframe.\"\n",
              "            style=\"display:none;\">\n",
              "\n",
              "  <svg xmlns=\"http://www.w3.org/2000/svg\" height=\"24px\"viewBox=\"0 0 24 24\"\n",
              "       width=\"24px\">\n",
              "    <path d=\"M7,19H8.4L18.45,9,17,7.55,7,17.6ZM5,21V16.75L18.45,3.32a2,2,0,0,1,2.83,0l1.4,1.43a1.91,1.91,0,0,1,.58,1.4,1.91,1.91,0,0,1-.58,1.4L9.25,21ZM18.45,9,17,7.55Zm-12,3A5.31,5.31,0,0,0,4.9,8.1,5.31,5.31,0,0,0,1,6.5,5.31,5.31,0,0,0,4.9,4.9,5.31,5.31,0,0,0,6.5,1,5.31,5.31,0,0,0,8.1,4.9,5.31,5.31,0,0,0,12,6.5,5.46,5.46,0,0,0,6.5,12Z\"/>\n",
              "  </svg>\n",
              "    </button>\n",
              "    <script>\n",
              "      (() => {\n",
              "      const buttonEl =\n",
              "        document.querySelector('#id_bbfa6d7b-00b9-4f0f-a78f-33792b30f51c button.colab-df-generate');\n",
              "      buttonEl.style.display =\n",
              "        google.colab.kernel.accessAllowed ? 'block' : 'none';\n",
              "\n",
              "      buttonEl.onclick = () => {\n",
              "        google.colab.notebook.generateWithVariable('summary');\n",
              "      }\n",
              "      })();\n",
              "    </script>\n",
              "  </div>\n",
              "\n",
              "    </div>\n",
              "  </div>\n"
            ],
            "application/vnd.google.colaboratory.intrinsic+json": {
              "type": "dataframe",
              "variable_name": "summary",
              "summary": "{\n  \"name\": \"summary\",\n  \"rows\": 6,\n  \"fields\": [\n    {\n      \"column\": \"\\u043f\\u043e\\u043b\",\n      \"properties\": {\n        \"dtype\": \"category\",\n        \"num_unique_values\": 2,\n        \"samples\": [\n          \"\\u041c\\u0443\\u0436\\u0441\\u043a\\u043e\\u0439\",\n          \"\\u0416\\u0435\\u043d\\u0441\\u043a\\u0438\\u0439\"\n        ],\n        \"semantic_type\": \"\",\n        \"description\": \"\"\n      }\n    },\n    {\n      \"column\": \"\\u0432\\u043e\\u0437\\u0440\\u0430\\u0441\\u0442_\\u043a\\u0430\\u0442\",\n      \"properties\": {\n        \"dtype\": \"string\",\n        \"num_unique_values\": 3,\n        \"samples\": [\n          \"\\u043c\\u043e\\u043b\\u043e\\u0434\\u043e\\u0439 \\u0432\\u043e\\u0437\\u0440\\u0430\\u0441\\u0442\",\n          \"\\u043f\\u043e\\u0436\\u0438\\u043b\\u043e\\u0439 \\u0432\\u043e\\u0437\\u0440\\u0430\\u0441\\u0442\"\n        ],\n        \"semantic_type\": \"\",\n        \"description\": \"\"\n      }\n    },\n    {\n      \"column\": \"\\u0421\\u0440\\u0435\\u0434\\u043d\\u044f\\u044f \\u0442\\u0435\\u043c\\u043f\\u0435\\u0440\\u0430\\u0442\\u0443\\u0440\\u0430 \\u0432 \\u043f\\u043e\\u043c\\u0435\\u0449\\u0435\\u043d\\u0438\\u0438\",\n      \"properties\": {\n        \"dtype\": \"number\",\n        \"std\": 7.105427357601002e-15,\n        \"min\": 46.49249305360708,\n        \"max\": 46.492493053607085,\n        \"num_unique_values\": 2,\n        \"samples\": [\n          46.492493053607085,\n          46.49249305360708\n        ],\n        \"semantic_type\": \"\",\n        \"description\": \"\"\n      }\n    },\n    {\n      \"column\": \"\\u0421\\u0440\\u0435\\u0434\\u043d\\u044f\\u044f \\u0442\\u0435\\u043c\\u043f\\u0435\\u0440\\u0430\\u0442\\u0443\\u0440\\u0430 \\u043d\\u0430 \\u0443\\u043b\\u0438\\u0446\\u0435\",\n      \"properties\": {\n        \"dtype\": \"number\",\n        \"std\": null,\n        \"min\": null,\n        \"max\": null,\n        \"num_unique_values\": 0,\n        \"samples\": [],\n        \"semantic_type\": \"\",\n        \"description\": \"\"\n      }\n    },\n    {\n      \"column\": \"\\u0421\\u0440\\u0435\\u0434\\u043d\\u044f\\u044f \\u0432\\u043b\\u0430\\u0436\\u043d\\u043e\\u0441\\u0442\\u044c\",\n      \"properties\": {\n        \"dtype\": \"number\",\n        \"std\": 7.2459402945379985,\n        \"min\": 44.55,\n        \"max\": 64.36666666666666,\n        \"num_unique_values\": 6,\n        \"samples\": [],\n        \"semantic_type\": \"\",\n        \"description\": \"\"\n      }\n    }\n  ]\n}"
            }
          },
          "metadata": {}
        },
        {
          "output_type": "display_data",
          "data": {
            "text/plain": [
              "       пол      возраст_кат  Средняя температура в помещении  \\\n",
              "0  Женский  молодой возраст                        29.484556   \n",
              "1  Женский  средний возраст                        30.136335   \n",
              "2  Мужской  молодой возраст                        28.218744   \n",
              "3  Мужской  пожилой возраст                        43.080018   \n",
              "4  Мужской  средний возраст                        33.241249   \n",
              "\n",
              "   Средняя температура на улице  Средняя влажность  \n",
              "0                           NaN          51.279310  \n",
              "1                           NaN          49.940000  \n",
              "2                           NaN          52.818519  \n",
              "3                           NaN          78.800000  \n",
              "4                           NaN          52.761364  "
            ],
            "text/html": [
              "\n",
              "  <div id=\"df-57657ae5-000a-4632-979e-ad1ce912cbf0\" class=\"colab-df-container\">\n",
              "    <div>\n",
              "<style scoped>\n",
              "    .dataframe tbody tr th:only-of-type {\n",
              "        vertical-align: middle;\n",
              "    }\n",
              "\n",
              "    .dataframe tbody tr th {\n",
              "        vertical-align: top;\n",
              "    }\n",
              "\n",
              "    .dataframe thead th {\n",
              "        text-align: right;\n",
              "    }\n",
              "</style>\n",
              "<table border=\"1\" class=\"dataframe\">\n",
              "  <thead>\n",
              "    <tr style=\"text-align: right;\">\n",
              "      <th></th>\n",
              "      <th>пол</th>\n",
              "      <th>возраст_кат</th>\n",
              "      <th>Средняя температура в помещении</th>\n",
              "      <th>Средняя температура на улице</th>\n",
              "      <th>Средняя влажность</th>\n",
              "    </tr>\n",
              "  </thead>\n",
              "  <tbody>\n",
              "    <tr>\n",
              "      <th>0</th>\n",
              "      <td>Женский</td>\n",
              "      <td>молодой возраст</td>\n",
              "      <td>29.484556</td>\n",
              "      <td>NaN</td>\n",
              "      <td>51.279310</td>\n",
              "    </tr>\n",
              "    <tr>\n",
              "      <th>1</th>\n",
              "      <td>Женский</td>\n",
              "      <td>средний возраст</td>\n",
              "      <td>30.136335</td>\n",
              "      <td>NaN</td>\n",
              "      <td>49.940000</td>\n",
              "    </tr>\n",
              "    <tr>\n",
              "      <th>2</th>\n",
              "      <td>Мужской</td>\n",
              "      <td>молодой возраст</td>\n",
              "      <td>28.218744</td>\n",
              "      <td>NaN</td>\n",
              "      <td>52.818519</td>\n",
              "    </tr>\n",
              "    <tr>\n",
              "      <th>3</th>\n",
              "      <td>Мужской</td>\n",
              "      <td>пожилой возраст</td>\n",
              "      <td>43.080018</td>\n",
              "      <td>NaN</td>\n",
              "      <td>78.800000</td>\n",
              "    </tr>\n",
              "    <tr>\n",
              "      <th>4</th>\n",
              "      <td>Мужской</td>\n",
              "      <td>средний возраст</td>\n",
              "      <td>33.241249</td>\n",
              "      <td>NaN</td>\n",
              "      <td>52.761364</td>\n",
              "    </tr>\n",
              "  </tbody>\n",
              "</table>\n",
              "</div>\n",
              "    <div class=\"colab-df-buttons\">\n",
              "\n",
              "  <div class=\"colab-df-container\">\n",
              "    <button class=\"colab-df-convert\" onclick=\"convertToInteractive('df-57657ae5-000a-4632-979e-ad1ce912cbf0')\"\n",
              "            title=\"Convert this dataframe to an interactive table.\"\n",
              "            style=\"display:none;\">\n",
              "\n",
              "  <svg xmlns=\"http://www.w3.org/2000/svg\" height=\"24px\" viewBox=\"0 -960 960 960\">\n",
              "    <path d=\"M120-120v-720h720v720H120Zm60-500h600v-160H180v160Zm220 220h160v-160H400v160Zm0 220h160v-160H400v160ZM180-400h160v-160H180v160Zm440 0h160v-160H620v160ZM180-180h160v-160H180v160Zm440 0h160v-160H620v160Z\"/>\n",
              "  </svg>\n",
              "    </button>\n",
              "\n",
              "  <style>\n",
              "    .colab-df-container {\n",
              "      display:flex;\n",
              "      gap: 12px;\n",
              "    }\n",
              "\n",
              "    .colab-df-convert {\n",
              "      background-color: #E8F0FE;\n",
              "      border: none;\n",
              "      border-radius: 50%;\n",
              "      cursor: pointer;\n",
              "      display: none;\n",
              "      fill: #1967D2;\n",
              "      height: 32px;\n",
              "      padding: 0 0 0 0;\n",
              "      width: 32px;\n",
              "    }\n",
              "\n",
              "    .colab-df-convert:hover {\n",
              "      background-color: #E2EBFA;\n",
              "      box-shadow: 0px 1px 2px rgba(60, 64, 67, 0.3), 0px 1px 3px 1px rgba(60, 64, 67, 0.15);\n",
              "      fill: #174EA6;\n",
              "    }\n",
              "\n",
              "    .colab-df-buttons div {\n",
              "      margin-bottom: 4px;\n",
              "    }\n",
              "\n",
              "    [theme=dark] .colab-df-convert {\n",
              "      background-color: #3B4455;\n",
              "      fill: #D2E3FC;\n",
              "    }\n",
              "\n",
              "    [theme=dark] .colab-df-convert:hover {\n",
              "      background-color: #434B5C;\n",
              "      box-shadow: 0px 1px 3px 1px rgba(0, 0, 0, 0.15);\n",
              "      filter: drop-shadow(0px 1px 2px rgba(0, 0, 0, 0.3));\n",
              "      fill: #FFFFFF;\n",
              "    }\n",
              "  </style>\n",
              "\n",
              "    <script>\n",
              "      const buttonEl =\n",
              "        document.querySelector('#df-57657ae5-000a-4632-979e-ad1ce912cbf0 button.colab-df-convert');\n",
              "      buttonEl.style.display =\n",
              "        google.colab.kernel.accessAllowed ? 'block' : 'none';\n",
              "\n",
              "      async function convertToInteractive(key) {\n",
              "        const element = document.querySelector('#df-57657ae5-000a-4632-979e-ad1ce912cbf0');\n",
              "        const dataTable =\n",
              "          await google.colab.kernel.invokeFunction('convertToInteractive',\n",
              "                                                    [key], {});\n",
              "        if (!dataTable) return;\n",
              "\n",
              "        const docLinkHtml = 'Like what you see? Visit the ' +\n",
              "          '<a target=\"_blank\" href=https://colab.research.google.com/notebooks/data_table.ipynb>data table notebook</a>'\n",
              "          + ' to learn more about interactive tables.';\n",
              "        element.innerHTML = '';\n",
              "        dataTable['output_type'] = 'display_data';\n",
              "        await google.colab.output.renderOutput(dataTable, element);\n",
              "        const docLink = document.createElement('div');\n",
              "        docLink.innerHTML = docLinkHtml;\n",
              "        element.appendChild(docLink);\n",
              "      }\n",
              "    </script>\n",
              "  </div>\n",
              "\n",
              "\n",
              "<div id=\"df-5cf42832-a9b7-4748-93c7-d98a532ff78f\">\n",
              "  <button class=\"colab-df-quickchart\" onclick=\"quickchart('df-5cf42832-a9b7-4748-93c7-d98a532ff78f')\"\n",
              "            title=\"Suggest charts\"\n",
              "            style=\"display:none;\">\n",
              "\n",
              "<svg xmlns=\"http://www.w3.org/2000/svg\" height=\"24px\"viewBox=\"0 0 24 24\"\n",
              "     width=\"24px\">\n",
              "    <g>\n",
              "        <path d=\"M19 3H5c-1.1 0-2 .9-2 2v14c0 1.1.9 2 2 2h14c1.1 0 2-.9 2-2V5c0-1.1-.9-2-2-2zM9 17H7v-7h2v7zm4 0h-2V7h2v10zm4 0h-2v-4h2v4z\"/>\n",
              "    </g>\n",
              "</svg>\n",
              "  </button>\n",
              "\n",
              "<style>\n",
              "  .colab-df-quickchart {\n",
              "      --bg-color: #E8F0FE;\n",
              "      --fill-color: #1967D2;\n",
              "      --hover-bg-color: #E2EBFA;\n",
              "      --hover-fill-color: #174EA6;\n",
              "      --disabled-fill-color: #AAA;\n",
              "      --disabled-bg-color: #DDD;\n",
              "  }\n",
              "\n",
              "  [theme=dark] .colab-df-quickchart {\n",
              "      --bg-color: #3B4455;\n",
              "      --fill-color: #D2E3FC;\n",
              "      --hover-bg-color: #434B5C;\n",
              "      --hover-fill-color: #FFFFFF;\n",
              "      --disabled-bg-color: #3B4455;\n",
              "      --disabled-fill-color: #666;\n",
              "  }\n",
              "\n",
              "  .colab-df-quickchart {\n",
              "    background-color: var(--bg-color);\n",
              "    border: none;\n",
              "    border-radius: 50%;\n",
              "    cursor: pointer;\n",
              "    display: none;\n",
              "    fill: var(--fill-color);\n",
              "    height: 32px;\n",
              "    padding: 0;\n",
              "    width: 32px;\n",
              "  }\n",
              "\n",
              "  .colab-df-quickchart:hover {\n",
              "    background-color: var(--hover-bg-color);\n",
              "    box-shadow: 0 1px 2px rgba(60, 64, 67, 0.3), 0 1px 3px 1px rgba(60, 64, 67, 0.15);\n",
              "    fill: var(--button-hover-fill-color);\n",
              "  }\n",
              "\n",
              "  .colab-df-quickchart-complete:disabled,\n",
              "  .colab-df-quickchart-complete:disabled:hover {\n",
              "    background-color: var(--disabled-bg-color);\n",
              "    fill: var(--disabled-fill-color);\n",
              "    box-shadow: none;\n",
              "  }\n",
              "\n",
              "  .colab-df-spinner {\n",
              "    border: 2px solid var(--fill-color);\n",
              "    border-color: transparent;\n",
              "    border-bottom-color: var(--fill-color);\n",
              "    animation:\n",
              "      spin 1s steps(1) infinite;\n",
              "  }\n",
              "\n",
              "  @keyframes spin {\n",
              "    0% {\n",
              "      border-color: transparent;\n",
              "      border-bottom-color: var(--fill-color);\n",
              "      border-left-color: var(--fill-color);\n",
              "    }\n",
              "    20% {\n",
              "      border-color: transparent;\n",
              "      border-left-color: var(--fill-color);\n",
              "      border-top-color: var(--fill-color);\n",
              "    }\n",
              "    30% {\n",
              "      border-color: transparent;\n",
              "      border-left-color: var(--fill-color);\n",
              "      border-top-color: var(--fill-color);\n",
              "      border-right-color: var(--fill-color);\n",
              "    }\n",
              "    40% {\n",
              "      border-color: transparent;\n",
              "      border-right-color: var(--fill-color);\n",
              "      border-top-color: var(--fill-color);\n",
              "    }\n",
              "    60% {\n",
              "      border-color: transparent;\n",
              "      border-right-color: var(--fill-color);\n",
              "    }\n",
              "    80% {\n",
              "      border-color: transparent;\n",
              "      border-right-color: var(--fill-color);\n",
              "      border-bottom-color: var(--fill-color);\n",
              "    }\n",
              "    90% {\n",
              "      border-color: transparent;\n",
              "      border-bottom-color: var(--fill-color);\n",
              "    }\n",
              "  }\n",
              "</style>\n",
              "\n",
              "  <script>\n",
              "    async function quickchart(key) {\n",
              "      const quickchartButtonEl =\n",
              "        document.querySelector('#' + key + ' button');\n",
              "      quickchartButtonEl.disabled = true;  // To prevent multiple clicks.\n",
              "      quickchartButtonEl.classList.add('colab-df-spinner');\n",
              "      try {\n",
              "        const charts = await google.colab.kernel.invokeFunction(\n",
              "            'suggestCharts', [key], {});\n",
              "      } catch (error) {\n",
              "        console.error('Error during call to suggestCharts:', error);\n",
              "      }\n",
              "      quickchartButtonEl.classList.remove('colab-df-spinner');\n",
              "      quickchartButtonEl.classList.add('colab-df-quickchart-complete');\n",
              "    }\n",
              "    (() => {\n",
              "      let quickchartButtonEl =\n",
              "        document.querySelector('#df-5cf42832-a9b7-4748-93c7-d98a532ff78f button');\n",
              "      quickchartButtonEl.style.display =\n",
              "        google.colab.kernel.accessAllowed ? 'block' : 'none';\n",
              "    })();\n",
              "  </script>\n",
              "</div>\n",
              "\n",
              "  <div id=\"id_cf22882d-a8b2-4d88-b770-1f9444bf87d3\">\n",
              "    <style>\n",
              "      .colab-df-generate {\n",
              "        background-color: #E8F0FE;\n",
              "        border: none;\n",
              "        border-radius: 50%;\n",
              "        cursor: pointer;\n",
              "        display: none;\n",
              "        fill: #1967D2;\n",
              "        height: 32px;\n",
              "        padding: 0 0 0 0;\n",
              "        width: 32px;\n",
              "      }\n",
              "\n",
              "      .colab-df-generate:hover {\n",
              "        background-color: #E2EBFA;\n",
              "        box-shadow: 0px 1px 2px rgba(60, 64, 67, 0.3), 0px 1px 3px 1px rgba(60, 64, 67, 0.15);\n",
              "        fill: #174EA6;\n",
              "      }\n",
              "\n",
              "      [theme=dark] .colab-df-generate {\n",
              "        background-color: #3B4455;\n",
              "        fill: #D2E3FC;\n",
              "      }\n",
              "\n",
              "      [theme=dark] .colab-df-generate:hover {\n",
              "        background-color: #434B5C;\n",
              "        box-shadow: 0px 1px 3px 1px rgba(0, 0, 0, 0.15);\n",
              "        filter: drop-shadow(0px 1px 2px rgba(0, 0, 0, 0.3));\n",
              "        fill: #FFFFFF;\n",
              "      }\n",
              "    </style>\n",
              "    <button class=\"colab-df-generate\" onclick=\"generateWithVariable('summary')\"\n",
              "            title=\"Generate code using this dataframe.\"\n",
              "            style=\"display:none;\">\n",
              "\n",
              "  <svg xmlns=\"http://www.w3.org/2000/svg\" height=\"24px\"viewBox=\"0 0 24 24\"\n",
              "       width=\"24px\">\n",
              "    <path d=\"M7,19H8.4L18.45,9,17,7.55,7,17.6ZM5,21V16.75L18.45,3.32a2,2,0,0,1,2.83,0l1.4,1.43a1.91,1.91,0,0,1,.58,1.4,1.91,1.91,0,0,1-.58,1.4L9.25,21ZM18.45,9,17,7.55Zm-12,3A5.31,5.31,0,0,0,4.9,8.1,5.31,5.31,0,0,0,1,6.5,5.31,5.31,0,0,0,4.9,4.9,5.31,5.31,0,0,0,6.5,1,5.31,5.31,0,0,0,8.1,4.9,5.31,5.31,0,0,0,12,6.5,5.46,5.46,0,0,0,6.5,12Z\"/>\n",
              "  </svg>\n",
              "    </button>\n",
              "    <script>\n",
              "      (() => {\n",
              "      const buttonEl =\n",
              "        document.querySelector('#id_cf22882d-a8b2-4d88-b770-1f9444bf87d3 button.colab-df-generate');\n",
              "      buttonEl.style.display =\n",
              "        google.colab.kernel.accessAllowed ? 'block' : 'none';\n",
              "\n",
              "      buttonEl.onclick = () => {\n",
              "        google.colab.notebook.generateWithVariable('summary');\n",
              "      }\n",
              "      })();\n",
              "    </script>\n",
              "  </div>\n",
              "\n",
              "    </div>\n",
              "  </div>\n"
            ],
            "application/vnd.google.colaboratory.intrinsic+json": {
              "type": "dataframe",
              "variable_name": "summary",
              "summary": "{\n  \"name\": \"summary\",\n  \"rows\": 5,\n  \"fields\": [\n    {\n      \"column\": \"\\u043f\\u043e\\u043b\",\n      \"properties\": {\n        \"dtype\": \"category\",\n        \"num_unique_values\": 2,\n        \"samples\": [\n          \"\\u041c\\u0443\\u0436\\u0441\\u043a\\u043e\\u0439\",\n          \"\\u0416\\u0435\\u043d\\u0441\\u043a\\u0438\\u0439\"\n        ],\n        \"semantic_type\": \"\",\n        \"description\": \"\"\n      }\n    },\n    {\n      \"column\": \"\\u0432\\u043e\\u0437\\u0440\\u0430\\u0441\\u0442_\\u043a\\u0430\\u0442\",\n      \"properties\": {\n        \"dtype\": \"string\",\n        \"num_unique_values\": 3,\n        \"samples\": [\n          \"\\u043c\\u043e\\u043b\\u043e\\u0434\\u043e\\u0439 \\u0432\\u043e\\u0437\\u0440\\u0430\\u0441\\u0442\",\n          \"\\u0441\\u0440\\u0435\\u0434\\u043d\\u0438\\u0439 \\u0432\\u043e\\u0437\\u0440\\u0430\\u0441\\u0442\"\n        ],\n        \"semantic_type\": \"\",\n        \"description\": \"\"\n      }\n    },\n    {\n      \"column\": \"\\u0421\\u0440\\u0435\\u0434\\u043d\\u044f\\u044f \\u0442\\u0435\\u043c\\u043f\\u0435\\u0440\\u0430\\u0442\\u0443\\u0440\\u0430 \\u0432 \\u043f\\u043e\\u043c\\u0435\\u0449\\u0435\\u043d\\u0438\\u0438\",\n      \"properties\": {\n        \"dtype\": \"number\",\n        \"std\": 6.019623975153824,\n        \"min\": 28.218743604990294,\n        \"max\": 43.080018265283215,\n        \"num_unique_values\": 5,\n        \"samples\": [\n          30.136334842518703,\n          33.24124945026436\n        ],\n        \"semantic_type\": \"\",\n        \"description\": \"\"\n      }\n    },\n    {\n      \"column\": \"\\u0421\\u0440\\u0435\\u0434\\u043d\\u044f\\u044f \\u0442\\u0435\\u043c\\u043f\\u0435\\u0440\\u0430\\u0442\\u0443\\u0440\\u0430 \\u043d\\u0430 \\u0443\\u043b\\u0438\\u0446\\u0435\",\n      \"properties\": {\n        \"dtype\": \"number\",\n        \"std\": null,\n        \"min\": null,\n        \"max\": null,\n        \"num_unique_values\": 0,\n        \"samples\": [],\n        \"semantic_type\": \"\",\n        \"description\": \"\"\n      }\n    },\n    {\n      \"column\": \"\\u0421\\u0440\\u0435\\u0434\\u043d\\u044f\\u044f \\u0432\\u043b\\u0430\\u0436\\u043d\\u043e\\u0441\\u0442\\u044c\",\n      \"properties\": {\n        \"dtype\": \"number\",\n        \"std\": 12.177734902308064,\n        \"min\": 49.940000000000005,\n        \"max\": 78.8,\n        \"num_unique_values\": 5,\n        \"samples\": [],\n        \"semantic_type\": \"\",\n        \"description\": \"\"\n      }\n    }\n  ]\n}"
            }
          },
          "metadata": {}
        }
      ]
    },
    {
      "cell_type": "markdown",
      "source": [
        "Эта таблица позволяет увидеть климатический комфорт внутри и снаружи помещения, а также различия между мужчинами и женщинами разных возрастов."
      ],
      "metadata": {
        "id": "HqPv9s0D4nRb"
      }
    },
    {
      "cell_type": "markdown",
      "source": [
        "**Комфортная влажность: соответствие стандарту**\n",
        "\n",
        "Согласно рекомендациям ASHRAE и ГОСТ, оптимальный уровень относительной влажности в помещениях: 30–60%."
      ],
      "metadata": {
        "id": "5nE7SEAM87pE"
      }
    },
    {
      "cell_type": "code",
      "source": [
        "# Оцениваем, соответствует ли RH стандарту комфорта\n",
        "df[\"rh_стандарт\"] = df[\"rh\"].apply(lambda x: \"В норме\" if 30 <= x <= 60 else \"Отклонение\")"
      ],
      "metadata": {
        "id": "2kg5FMQz4nWU"
      },
      "execution_count": 140,
      "outputs": []
    },
    {
      "cell_type": "markdown",
      "source": [
        "**Корреляционный анализ**"
      ],
      "metadata": {
        "id": "HpA9imXG9Cnm"
      }
    },
    {
      "cell_type": "code",
      "source": [
        "%matplotlib inline\n",
        "corr_cols = [\n",
        "    \"температура_воздуха_в_помещении\",\n",
        "    \"температура_воздуха_на_улице\",\n",
        "    \"rh\",\n",
        "    \"скорость_воздуха\",\n",
        "    \"оценка_комфорта\",\n",
        "    \"среднемесячная_температура_на_улице\"\n",
        "]\n",
        "print(corr_cols)\n",
        "print(df1[\"страна\"].dropna().unique())\n",
        "for country in df1[\"страна\"].dropna().unique():\n",
        "    print(f\"\\nОбрабатывается страна: {country}\")\n",
        "    df_country = df1[df1[\"страна\"] == country].copy()\n",
        "    corr_df = df_country[corr_cols].dropna()\n",
        "    print(f\"Размер данных после фильтрации: {corr_df.shape}\")\n",
        "    print(df[corr_cols].isna().sum())\n",
        "    if not corr_df.empty:\n",
        "        corr = corr_df.corr()\n",
        "        plt.figure(figsize=(8, 6))\n",
        "        sns.heatmap(corr, annot=True, cmap=\"coolwarm\", fmt=\".2f\")\n",
        "        plt.title(f\"Корреляция ({country})\")\n",
        "        plt.tight_layout()\n",
        "        plt.savefig(f\"plots/correlation_{country}.png\")  # Сохраняем до показа\n",
        "        plt.show()\n",
        "        plt.close()"
      ],
      "metadata": {
        "id": "NG_HC65i9DAl",
        "colab": {
          "base_uri": "https://localhost:8080/"
        },
        "outputId": "bc0670b8-fe1c-4e01-d484-90e700673fd4"
      },
      "execution_count": 141,
      "outputs": [
        {
          "output_type": "stream",
          "name": "stdout",
          "text": [
            "['температура_воздуха_в_помещении', 'температура_воздуха_на_улице', 'rh', 'скорость_воздуха', 'оценка_комфорта', 'среднемесячная_температура_на_улице']\n",
            "['США' 'Австралия' 'Индия']\n",
            "\n",
            "Обрабатывается страна: США\n",
            "Размер данных после фильтрации: (0, 6)\n",
            "температура_воздуха_в_помещении          0\n",
            "температура_воздуха_на_улице           412\n",
            "rh                                       0\n",
            "скорость_воздуха                       380\n",
            "оценка_комфорта                          0\n",
            "среднемесячная_температура_на_улице    380\n",
            "dtype: int64\n",
            "\n",
            "Обрабатывается страна: Австралия\n",
            "Размер данных после фильтрации: (0, 6)\n",
            "температура_воздуха_в_помещении          0\n",
            "температура_воздуха_на_улице           412\n",
            "rh                                       0\n",
            "скорость_воздуха                       380\n",
            "оценка_комфорта                          0\n",
            "среднемесячная_температура_на_улице    380\n",
            "dtype: int64\n",
            "\n",
            "Обрабатывается страна: Индия\n",
            "Размер данных после фильтрации: (0, 6)\n",
            "температура_воздуха_в_помещении          0\n",
            "температура_воздуха_на_улице           412\n",
            "rh                                       0\n",
            "скорость_воздуха                       380\n",
            "оценка_комфорта                          0\n",
            "среднемесячная_температура_на_улице    380\n",
            "dtype: int64\n"
          ]
        }
      ]
    },
    {
      "cell_type": "markdown",
      "source": [
        "В большинстве стран наблюдается сильная положительная корреляция между температурой на улице и внутри офиса. Это означает, что системы охлаждения не всегда компенсируют внешний климат."
      ],
      "metadata": {
        "id": "WNDfXtpk9MSB"
      }
    },
    {
      "cell_type": "markdown",
      "source": [
        "**Регрессионная модель: что влияет на внутреннюю температуру?**"
      ],
      "metadata": {
        "id": "93TWJrhA9Rep"
      }
    },
    {
      "cell_type": "code",
      "source": [
        "for country in df1[\"страна\"].dropna().unique():\n",
        "    df_country = df1[df1[\"страна\"] == country].copy()\n",
        "\n",
        "    model_cols = [\n",
        "        \"температура_воздуха_в_помещении\",\n",
        "        \"rh\",\n",
        "        \"скорость_воздуха\",\n",
        "        \"оценка_комфорта\",\n",
        "        \"способ_охлаждения\"\n",
        "    ]\n",
        "    df_model = df_country[model_cols].dropna()\n",
        "    if not df_model.empty:\n",
        "        X = pd.concat([\n",
        "            df_model[[\"rh\", \"скорость_воздуха\", \"оценка_комфорта\"]],\n",
        "            pd.get_dummies(df_model[\"способ_охлаждения\"], prefix=\"Охлаждение\", dtype=float)\n",
        "        ], axis=1)\n",
        "\n",
        "        X = X.astype(float)\n",
        "        y = df_model[\"температура_воздуха_в_помещении\"].astype(float)\n",
        "        X.insert(0, \"Intercept\", 1.0)\n",
        "\n",
        "        beta = lstsq(X.values, y.values, rcond=None)[0]\n",
        "        y_pred = X @ beta\n",
        "        r2 = 1 - np.sum((y - y_pred) ** 2) / np.sum((y - np.mean(y)) ** 2)\n",
        "        rmse = np.sqrt(np.mean((y - y_pred) ** 2))\n",
        "        print(f\"=== {country} ===\")\n",
        "        print(\"Коэффициенты регрессии:\")\n",
        "        for name, coef in zip(X.columns, beta):\n",
        "            print(f\"{name}: {coef:.3f}\")\n",
        "        print(f\"R2: {r2:.4f}\")\n",
        "        print(f\"RMSE: {rmse:.4f}\")"
      ],
      "metadata": {
        "id": "XfZI1Sxe9Mhd",
        "colab": {
          "base_uri": "https://localhost:8080/"
        },
        "outputId": "10d0bdd7-5660-42d7-bdf3-0674ee8178ea"
      },
      "execution_count": 158,
      "outputs": [
        {
          "output_type": "stream",
          "name": "stdout",
          "text": [
            "hello\n",
            "hello\n",
            "hello\n",
            "hello2\n",
            "=== Индия ===\n",
            "Коэффициенты регрессии:\n",
            "Intercept: 17.673\n",
            "rh: -0.012\n",
            "скорость_воздуха: 16.614\n",
            "оценка_комфорта: 0.082\n",
            "Охлаждение_Вентиляция: 6.130\n",
            "Охлаждение_Кондиционирование: 5.347\n",
            "Охлаждение_Смешанный: 6.196\n",
            "R2: 0.3336\n",
            "RMSE: 1.7552\n"
          ]
        }
      ]
    },
    {
      "cell_type": "markdown",
      "source": [
        "Интерпретация:\n",
        "\n",
        "Большие значения R² (близкие к 1) говорят о плохом качестве модели.\n",
        "Кроме этой есть еще две модели ниже"
      ],
      "metadata": {
        "id": "z3wcDLi59pAD"
      }
    },
    {
      "cell_type": "markdown",
      "source": [
        "**Выводы**"
      ],
      "metadata": {
        "id": "sxtzn9iX90KQ"
      }
    },
    {
      "cell_type": "markdown",
      "source": [
        "1. Температура в офисе часто зависит от температуры на улице, особенно в странах с жарким климатом.\n",
        "2. Влажность во многих случаях отклоняется от рекомендованной — важно инвестировать в увлажнители/осушители воздуха.\n",
        "3. Тип охлаждения (например, центральный кондиционер, вентиляция и т.д.) имеет разный эффект в зависимости от региона.\n",
        "4. Рекомендация: Инвестировать больше в региональные решения, например, мощное кондиционирование в жарких странах и системы вентиляции с контролем влажности в странах с колебаниями влажности."
      ],
      "metadata": {
        "id": "-b1y0Hqd94FC"
      }
    },
    {
      "cell_type": "markdown",
      "source": [
        "# Проверка гипотез Neon\n",
        "\n",
        "### Есть ли взаимосвязь между количеством рекламаций и оценкой комфорта?\n",
        "-  Н0: Взаимосвязь между количеством рекламаций и оценкой комфорта нет.\n",
        "-  Н1: Взаимосвязи между количеством рекламаций и оценкой комфорта есть.\n",
        "\n",
        "Есть отрицательная корреляция и она точно не случайна так как p-value = 0.     \n",
        "Так как взаимосвязь есть отклоняем нулевую гипотезу."
      ],
      "metadata": {
        "id": "OXFkLED2iXDc"
      }
    },
    {
      "cell_type": "code",
      "source": [
        "# тест на нормальность\n",
        "stat, p_value = stats.shapiro(df1['количество_рекламаций'])\n",
        "print(f\"p-value: {p_value:.5f} \")  # данные не нормальные\n",
        "stat, p_value = stats.shapiro(df1['оценка_комфорта'])\n",
        "print(f\"p-value: {p_value:.5f} \") # данные не нормальные\n",
        "\n",
        "# Коэффициент корреляции Спирмена\n",
        "corr, p_value = stats.spearmanr( df1['количество_рекламаций'], df1['оценка_комфорта'])\n",
        "print(f'Корреляция: {round(corr, 3)}, p-value: {round(p_value, 5)}')\n"
      ],
      "metadata": {
        "id": "2oYWkuql2Tng",
        "colab": {
          "base_uri": "https://localhost:8080/"
        },
        "outputId": "8053b542-7fc9-4565-df30-7e41bdb7fa2a"
      },
      "execution_count": 143,
      "outputs": [
        {
          "output_type": "stream",
          "name": "stdout",
          "text": [
            "p-value: 0.00000 \n",
            "p-value: 0.00000 \n",
            "Корреляция: -0.426, p-value: 0.0\n"
          ]
        }
      ]
    },
    {
      "cell_type": "markdown",
      "source": [
        "### Проверить гипотезу о том, что средняя оценка комфорта отличается в зависимости от страны\n",
        "- Н0: Средняя оценка комфорта не отличается в зависимости от страны.\n",
        "- Н1: Средняя оценка комфорта отличается в зависимости от страны.               \n",
        "  Исходя из этих данных можем отклонить вторую гипотезу и принять первую. Т.е,\n",
        "  Средняя оценка комфорта действительно отличается в зависимости от странны. Также можем наблюдать значительно низкое среднее значение в США относительно других стран."
      ],
      "metadata": {
        "id": "zyTgX2NDjdnb"
      }
    },
    {
      "cell_type": "code",
      "source": [
        "print(df1.groupby('страна')['оценка_комфорта'].mean())\n",
        "\n",
        "\n",
        "groups = [group['оценка_комфорта'].values for name, group in df1.groupby('страна')]\n",
        "# Применим Kruskel Wallis\n",
        "f_stat, p_value = stats.kruskal(*groups)\n",
        "print(f\"\\n H-число: {round(f_stat,3)}, p-value: {round(p_value, 5)}\")\n"
      ],
      "metadata": {
        "id": "Cb_U5tdNqyMO",
        "colab": {
          "base_uri": "https://localhost:8080/"
        },
        "outputId": "a5cf2a8d-0c79-469c-c186-f5daa0083131"
      },
      "execution_count": 144,
      "outputs": [
        {
          "output_type": "stream",
          "name": "stdout",
          "text": [
            "страна\n",
            "Австралия    30.379157\n",
            "Индия        13.462244\n",
            "США           4.194444\n",
            "Name: оценка_комфорта, dtype: float64\n",
            "\n",
            " H-число: 288.961, p-value: 0.0\n"
          ]
        }
      ]
    },
    {
      "cell_type": "markdown",
      "source": [
        "Проверить гипотезу \"Влияет ли способ охлаждения на оценку комфорта?\"\n",
        "* Н0: способ охлаждения не влияет на оценку комфорта.\n",
        "* Н1: способ охлаждения влияет на оценку комфорта\n",
        "\n",
        "Результаты отклоняют нулевую гипотезу , способ охлаждения влияет на оценку комфорта, но различия минимальны ."
      ],
      "metadata": {
        "id": "x9SVBYtFK1ze"
      }
    },
    {
      "cell_type": "code",
      "source": [
        "# тест на нормальность\n",
        "for name, group in df1.groupby('способ_охлаждения'):\n",
        "    stat, p = stats.shapiro(group['оценка_комфорта'])\n",
        "    print(f\"Способ охлаждения: {name}, p-value = {p:.5f}\") # данные не нормальные\n",
        "\n",
        "# Применим Краскел Уолис\n",
        "groups = [group['оценка_комфорта'].values for name, group in df.groupby('способ_охлаждения')]\n",
        "h_stat, p_value = stats.kruskal(*groups)\n",
        "print(f\"\\nH-статистика: {h_stat:.3f}, p-value: {p_value:.5f}\")"
      ],
      "metadata": {
        "id": "DtFMomOXkdKV",
        "colab": {
          "base_uri": "https://localhost:8080/"
        },
        "outputId": "46d4c2de-3797-4307-b33d-2b2d1d20b045"
      },
      "execution_count": 145,
      "outputs": [
        {
          "output_type": "stream",
          "name": "stdout",
          "text": [
            "Способ охлаждения: Вентиляция, p-value = 0.00000\n",
            "Способ охлаждения: Кондиционирование, p-value = 0.00000\n",
            "Способ охлаждения: Смешанный, p-value = 0.00000\n",
            "\n",
            "H-статистика: 246.040, p-value: 0.00000\n"
          ]
        }
      ]
    },
    {
      "cell_type": "markdown",
      "source": [
        "Проверить гипотезу \"Влияет ли пол на оценку комфорта?\"\n",
        "* Н0: пол не влияет на оценку комфорта.\n",
        "* Н1: пол влияет на оценку комфорта\n",
        "\n",
        "Результаты не дают нам оснований отклонять нулевую гипотезу. Следовательно пол не влияет на оценку комфорта."
      ],
      "metadata": {
        "id": "qlZeCkBNQUgX"
      }
    },
    {
      "cell_type": "code",
      "source": [
        "# тест на нормальность\n",
        "for name, group in df1.groupby('пол'):\n",
        "    stat, p = stats.shapiro(group['оценка_комфорта'])\n",
        "    print(f\"Пол: {name}, p-value = {p:.5f}\") # данные не нормальные\n",
        "\n",
        "# Применим метод Манна Уитни\n",
        "group_male = df1[df1['пол'] == 'Мужской']['оценка_комфорта'].values\n",
        "group_female = df1[df1['пол'] == 'Женский']['оценка_комфорта'].values\n",
        "stat, p = stats.mannwhitneyu(group_male, group_female, alternative='two-sided')\n",
        "print(f\"U-статистика: {stat:.3f}, p-value: {p:.5f}\")\n"
      ],
      "metadata": {
        "id": "7E2PQnadQgfs",
        "colab": {
          "base_uri": "https://localhost:8080/"
        },
        "outputId": "30b3ff93-2fbc-486c-858d-ea3df7ae4094"
      },
      "execution_count": 146,
      "outputs": [
        {
          "output_type": "stream",
          "name": "stdout",
          "text": [
            "Пол: Женский, p-value = 0.00000\n",
            "Пол: Мужской, p-value = 0.00000\n",
            "Пол: Пол не указан, p-value = 0.00107\n",
            "U-статистика: 18162.500, p-value: 0.05565\n"
          ]
        }
      ]
    },
    {
      "cell_type": "markdown",
      "source": [
        "Проверить гипотезу \"Влияет ли возрастная группа на оценку комфорта?\"\n",
        "* Н0: возрастная группа не влияет на оценку комфорта.\n",
        "* Н1: возрастная группа влияет на оценку комфорта\n",
        "\n",
        "Результаты не дают нам оснований отклонять нулевую гипотезу. Следовательно  возрастная группа не влияет на оценку комфорта."
      ],
      "metadata": {
        "id": "QQ_XGnURdZXF"
      }
    },
    {
      "cell_type": "code",
      "source": [
        "column_names = df1.columns.tolist()\n",
        "# тест на нормальность\n",
        "for name, group in df1.groupby('возраст_кат'):\n",
        "    stat, p = stats.shapiro(group['оценка_комфорта'])\n",
        "    print(f\"Возрастная группа: {name}, p-value = {p:.5f}\") # данные не нормальные\n",
        "\n",
        "# разделение на\n",
        "young = df1[df1['возраст_кат'] == 'молодой возраст']['оценка_комфорта']\n",
        "middle = df1[df1['возраст_кат'] == 'средний возраст']['оценка_комфорта']\n",
        "old = df1[df1['возраст_кат'] == 'пожилой возраст']['оценка_комфорта']\n",
        "\n",
        "# Kruskal–Wallis test\n",
        "stat, p = stats.kruskal(young, middle, old)\n",
        "print(f\"Kruskal–Wallis H = {stat:.4f}, p-value = {p:.5f}\")"
      ],
      "metadata": {
        "id": "NUvdTVIDdnvT",
        "collapsed": true,
        "colab": {
          "base_uri": "https://localhost:8080/"
        },
        "outputId": "b6026661-88dc-41f9-b8dc-24bf81a734fb"
      },
      "execution_count": 147,
      "outputs": [
        {
          "output_type": "stream",
          "name": "stdout",
          "text": [
            "Возрастная группа: молодой возраст, p-value = 0.00000\n",
            "Возрастная группа: пожилой возраст, p-value = 0.00000\n",
            "Возрастная группа: средний возраст, p-value = 0.00000\n",
            "Kruskal–Wallis H = 51.8583, p-value = 0.00000\n"
          ]
        }
      ]
    },
    {
      "cell_type": "markdown",
      "source": [
        "Проверить гипотезу \"Проверить гипотезу влияет ли климат на оценку комфорта\"\n",
        "* Н0: климат не влияет на оценку комфорта.\n",
        "* Н1: климат влияет на оценку комфорта\n",
        "\n",
        "Результаты дают основание отклонить нулевую гипотезу и принять альтернативную.\n",
        "Климат влияет на оценку комфорта,"
      ],
      "metadata": {
        "id": "gvOApQDXd4MM"
      }
    },
    {
      "cell_type": "code",
      "source": [
        "# тест на нормальность\n",
        "for name, group in df1.groupby('климат'):\n",
        "    stat, p = stats.shapiro(group['оценка_комфорта'])\n",
        "    print(f\"Климат: {name}, p-value = {p:.5f}\") # данные не нормальные\n",
        "\n",
        "# Применим Kruskil wallis test\n",
        "groups = [group['оценка_комфорта'].values for _, group in df1.groupby('климат')]\n",
        "f_stat, p_value = stats.f_oneway(*groups)\n",
        "print(f\"\\nF-статистика: {f_stat:.3f}, p-value: {p_value:.5f}\" )\n"
      ],
      "metadata": {
        "id": "_0jtM7zkexwu",
        "colab": {
          "base_uri": "https://localhost:8080/"
        },
        "outputId": "85672a91-d9a9-4643-dc88-455954c75b08"
      },
      "execution_count": 148,
      "outputs": [
        {
          "output_type": "stream",
          "name": "stdout",
          "text": [
            "Климат: Cубтроп океанич, p-value = nan\n",
            "Климат: Cубтропический океанический, p-value = 0.00000\n",
            "Климат: Влажный субтропический муссонный, p-value = 0.00001\n",
            "Климат: Жаркий полузасушливый, p-value = 0.00000\n",
            "Климат: Субтропическое высокогорье, p-value = 0.00000\n",
            "Климат: Тропическая влажная саванна, p-value = 0.00000\n",
            "\n",
            "F-статистика: 30.425, p-value: 0.00000\n"
          ]
        },
        {
          "output_type": "stream",
          "name": "stderr",
          "text": [
            "<ipython-input-148-dd36ee489a0c>:3: SmallSampleWarning: One or more sample arguments is too small; all returned values will be NaN. See documentation for sample size requirements.\n",
            "  stat, p = stats.shapiro(group['оценка_комфорта'])\n"
          ]
        }
      ]
    },
    {
      "cell_type": "markdown",
      "source": [
        "Проверить гипотезу \"Проверить гипотезу влияет ли время года на оценку комфорта\"\n",
        "* Н0: время года не влияет на оценку комфорта.\n",
        "* Н1: время года влияет на оценку комфорта\n",
        "\n",
        "Результаты (p-value ≥ 0.05) дают основание принять нулевую гипотезу , и показывают что различия статистически не значимы"
      ],
      "metadata": {
        "id": "YawwfJAGpWAI"
      }
    },
    {
      "cell_type": "code",
      "source": [
        "# тест на нормальность\n",
        "for name, group in df1.groupby('время_года'):\n",
        "    stat, p = stats.shapiro(group['оценка_комфорта'])\n",
        "    print(f\"Время года: {name}, p-value = {p:.5f}\") # данные не нормальные\n",
        "\n",
        "# Применим метод краскела уолиса\n",
        "groups = [group['оценка_комфорта'].values for _, group in df1.groupby('время_года')]\n",
        "stat, p_value = stats.kruskal(*groups)\n",
        "\n",
        "print(f\"\\nKruskal-Wallis H-статистика: {stat:.3f}, p-value: {p_value:.5f}\\n\")\n",
        "\n"
      ],
      "metadata": {
        "id": "sYdYitOGpWGB",
        "colab": {
          "base_uri": "https://localhost:8080/"
        },
        "outputId": "29c1ec20-3c7b-4133-88f1-980f38e568dc"
      },
      "execution_count": 149,
      "outputs": [
        {
          "output_type": "stream",
          "name": "stdout",
          "text": [
            "Время года: Весна, p-value = 1.00000\n",
            "Время года: Зима, p-value = 0.00000\n",
            "Время года: Лето, p-value = 0.00000\n",
            "Время года: Осень, p-value = 1.00000\n",
            "\n",
            "Kruskal-Wallis H-статистика: 32.407, p-value: 0.00000\n",
            "\n"
          ]
        },
        {
          "output_type": "stream",
          "name": "stderr",
          "text": [
            "/usr/local/lib/python3.11/dist-packages/scipy/stats/_axis_nan_policy.py:573: UserWarning: scipy.stats.shapiro: Input data has range zero. The results may not be accurate.\n",
            "  res = hypotest_fun_out(*samples, **kwds)\n"
          ]
        }
      ]
    },
    {
      "cell_type": "markdown",
      "source": [
        "Проверить гипотезу \"Хотят ли мужчины и женщины разного изменения температуры / движения воздуха?\"\n",
        "* Н0: Мужчины и женщины не хотят разного изменения движения воздуха?\n",
        "* Н1: Мужчины и женщины  хотят разного изменения движения воздуха?              \n",
        "Результаты p ≥ 0.05  Нет статистически значимой связи между полом и предпочтениями. Придерживаемся нулевой гипотезы\n"
      ],
      "metadata": {
        "id": "w-JdQpT41EWO"
      }
    },
    {
      "cell_type": "code",
      "source": [
        "contingency_table = pd.crosstab(df['пол'], df['предпочтительное_изменение_движения_воздуха'])\n",
        "print(contingency_table)\n",
        "chi2, p, dof, expected = stats.chi2_contingency(contingency_table)\n",
        "print(f\"X2 = {chi2:.4f}, p-value = {p:.5f}\")"
      ],
      "metadata": {
        "id": "u8-w3PI41D8u",
        "colab": {
          "base_uri": "https://localhost:8080/"
        },
        "outputId": "c4a14cfe-de0f-49df-af4e-29e2da78643a"
      },
      "execution_count": 150,
      "outputs": [
        {
          "output_type": "stream",
          "name": "stdout",
          "text": [
            "предпочтительное_изменение_движения_воздуха  Без изменений  Больше  Меньше\n",
            "пол                                                                       \n",
            "Женский                                                 94      52      12\n",
            "Мужской                                                157      89       8\n",
            "Пол не указан                                           40      20      12\n",
            "X2 = 17.1245, p-value = 0.00183\n"
          ]
        }
      ]
    },
    {
      "cell_type": "markdown",
      "source": [
        "##Выводы\n",
        "* Средняя оценка комфорта  отличается в зависимости от странны. Также можем наблюдать значительно низкое среднее значение в США относительно других стран.\n",
        "* Способ охлаждения влияет на оценку комфорта , но различия минимальны.\n",
        "* Пол не влияет на оценку комфорта.\n",
        "* Возрастная группа не влияет на оценку комфорта.\n",
        "* Климат влияет на оценку комфорта,\n",
        "* Время года не влияет на оценку комфорта.\n",
        "* Мужчины и женщины не хотят разного изменения движения воздуха\n",
        "\n",
        "\n",
        "В США применяется исключительно кондиционированный тип охлаждения, который демонстрирует низкий уровень удовлетворённости  num . Это указывает на необходимость оптимизации данного типа системы в аналогичных регионах с близким климатом.\n",
        "В Индии присутствуют разные типы климатических систем, что позволило провести сравнительный анализ.  \n",
        "Наивысший уровень комфорта был достигнут при использовании кондиционированного тип охлаждения  — 5.6, в то время как   вентиляционный тип показывал 5.15 , а смешанный тип самое низкое число 4.93\n",
        "Это указывает на перспективность инвестиций в кондиционированный тип охлаждения для регионов с похожими климатическими условиями."
      ],
      "metadata": {
        "id": "9pXL1FGSBx-a"
      }
    },
    {
      "cell_type": "markdown",
      "source": [
        "# Регрессионное моделирование Neon\n",
        "Построить регрессионную модель температуры воздуха в помещении в зависимости от типа охлаждения и других значимых факторов. Выбор факторов - на усмотрение исполнителя.                                                                    \n",
        "Выбранные факторы кроме основных:     \n",
        " * время_года\n",
        " * отопление\n",
        " * среднемесячная_температура_на_улице\n",
        " * климат                                                                      \n",
        "  Эти факторы были отобраны потому, что логически должны оказывать влияние на температуру внутри помещения\n",
        "\n",
        "    \n",
        "  Первая версия, с помощью линейной регрессии\n",
        "\n",
        "  "
      ],
      "metadata": {
        "id": "8da0C-nxU4eG"
      }
    },
    {
      "cell_type": "code",
      "source": [
        "# Выбираем признаки и целевую переменную\n",
        "X = df1[['способ_охлаждения', 'время_года','отопление', 'среднемесячная_температура_на_улице', 'климат' ] ]\n",
        "         #'окно', 'двери'\n",
        "y = df1['температура_воздуха_в_помещении']\n",
        "\n",
        "numeric_features = ['среднемесячная_температура_на_улице']\n",
        "categorical_features = [\n",
        "    'время_года',\n",
        "    'способ_охлаждения',\n",
        "    'отопление',\n",
        "    'климат'\n",
        "    # 'окно', 'двери'\n",
        "]\n",
        "\n",
        "\n",
        "\n",
        "# Препроцессор: OneHotEncoder + StandardScaler\n",
        "preprocessor = ColumnTransformer(\n",
        "    transformers=[\n",
        "        ('cat', OneHotEncoder(drop='first'), categorical_features),\n",
        "        # ('num', StandardScaler(), numeric_features)\n",
        "    ]\n",
        ")\n",
        "\n",
        "# Модельный пайплайн: сначала преобразование, потом регрессия\n",
        "pipeline = Pipeline(steps=[\n",
        "    ('preprocessing', preprocessor),\n",
        "    ('regression', LinearRegression())\n",
        "])\n",
        "\n",
        "# Делим на train/test\n",
        "X_train, X_test, y_train, y_test = train_test_split(X, y, test_size=0.2, random_state=42)\n",
        "\n",
        "# Обучение\n",
        "pipeline.fit(X_train, y_train)\n",
        "\n",
        "# Предсказание\n",
        "y_pred = pipeline.predict(X_test)\n",
        "# Метрики\n",
        "print(\"R²:\", r2_score(y_test, y_pred))\n",
        "print(\"RMSE:\", mean_squared_error(y_test, y_pred) ** 0.5)"
      ],
      "metadata": {
        "id": "7VQE1LVjXUrC",
        "colab": {
          "base_uri": "https://localhost:8080/"
        },
        "outputId": "09701c4d-764a-4995-f2a5-f80e210a7434"
      },
      "execution_count": 151,
      "outputs": [
        {
          "output_type": "stream",
          "name": "stdout",
          "text": [
            "R²: 0.8058002656135229\n",
            "RMSE: 4.152511457134157\n"
          ]
        }
      ]
    },
    {
      "cell_type": "markdown",
      "source": [
        "Вторая версия с помощью RandomForestRegressor"
      ],
      "metadata": {
        "id": "c1plBp7ILRP8"
      }
    },
    {
      "cell_type": "code",
      "source": [
        "# Выбираем признаки и целевую переменную\n",
        "X = df1[['способ_охлаждения', 'время_года','отопление', 'среднемесячная_температура_на_улице']]\n",
        "         #'окно', 'двери'\n",
        "y = df1['температура_воздуха_в_помещении']\n",
        "\n",
        "numeric_features = ['среднемесячная_температура_на_улице']\n",
        "categorical_features = [\n",
        "    'время_года',\n",
        "    'способ_охлаждения',\n",
        "    'отопление',\n",
        "    #'окно', 'двери'\n",
        "]\n",
        "\n",
        "# Преобразование признаков\n",
        "preprocessor = ColumnTransformer(transformers=[\n",
        "    ('cat', OneHotEncoder(drop='first'), categorical_features),\n",
        "    # ('num', StandardScaler(), numeric_features)\n",
        "])\n",
        "\n",
        "# Пайплайн с RandomForest\n",
        "pipeline = Pipeline(steps=[\n",
        "    ('preprocessing', preprocessor),\n",
        "    ('regressor', RandomForestRegressor(random_state=42))\n",
        "])\n",
        "\n",
        "# Разделение данных\n",
        "X_train, X_test, y_train, y_test = train_test_split(X, y, test_size=0.2, random_state=42)\n",
        "\n",
        "# Обучение модели\n",
        "pipeline.fit(X_train, y_train)\n",
        "\n",
        "# Предсказание\n",
        "y_pred = pipeline.predict(X_test)\n",
        "\n",
        "# Оценка модели\n",
        "r2 = r2_score(y_test, y_pred)\n",
        "rmse = mean_squared_error(y_test, y_pred) ** 0.5\n",
        "mae = mean_absolute_error(y_test, y_pred)\n",
        "\n",
        "# Вывод результатов\n",
        "print(f\"R²: {r2:.4f}\")\n",
        "print(f\"RMSE: {rmse:.4f}\")\n",
        "print(f\"MAE: {mae:.4f}\")\n"
      ],
      "metadata": {
        "id": "7upMvyA9LRWI",
        "colab": {
          "base_uri": "https://localhost:8080/"
        },
        "outputId": "f4519cb7-e19d-4a2a-efd5-a55d97121b09"
      },
      "execution_count": 152,
      "outputs": [
        {
          "output_type": "stream",
          "name": "stdout",
          "text": [
            "R²: 0.7993\n",
            "RMSE: 4.2210\n",
            "MAE: 2.4288\n"
          ]
        }
      ]
    },
    {
      "cell_type": "code",
      "source": [
        "avg_df = df1.groupby('город', as_index=False)['оценка_комфорта'].mean()\n",
        "top_city = avg_df.loc[avg_df['оценка_комфорта'].idxmax()]\n",
        "print(top_city)"
      ],
      "metadata": {
        "colab": {
          "base_uri": "https://localhost:8080/"
        },
        "id": "Ku8nwFzhobZa",
        "outputId": "6492a6a0-05d7-4895-bb98-ee6b20f2d860"
      },
      "execution_count": 153,
      "outputs": [
        {
          "output_type": "stream",
          "name": "stdout",
          "text": [
            "город                 Сидней\n",
            "оценка_комфорта    30.379157\n",
            "Name: 3, dtype: object\n"
          ]
        }
      ]
    },
    {
      "cell_type": "markdown",
      "source": [
        "### Как итог этого раздела\n",
        "\n",
        "С помощью регрессионого моделирования былы созданы две модели. Метрики показывают  результы предсказания модели плохие , и их пока нельзя использовать в реальных ситуациях , т.к средняя ошибка в 7 градусов ужасно высокая. Это в основном из за малого количества данных , при большом количестве факторов . В будущем после сбора более значительных данных , планируется заного переобучить модели и затем использовать их в реальных ситуациях"
      ],
      "metadata": {
        "id": "lYAnmIDTlKTI"
      }
    }
  ]
}