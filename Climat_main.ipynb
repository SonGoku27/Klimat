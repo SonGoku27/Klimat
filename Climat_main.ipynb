{
  "nbformat": 4,
  "nbformat_minor": 0,
  "metadata": {
    "colab": {
      "provenance": [],
      "mount_file_id": "12ufHx4rWrSxDY1X6Afnw1QFAEzLqztqH",
      "authorship_tag": "ABX9TyOCJ1nG7lvwk3MPzDV7ln0M",
      "include_colab_link": true
    },
    "kernelspec": {
      "name": "python3",
      "display_name": "Python 3"
    },
    "language_info": {
      "name": "python"
    }
  },
  "cells": [
    {
      "cell_type": "markdown",
      "metadata": {
        "id": "view-in-github",
        "colab_type": "text"
      },
      "source": [
        "<a href=\"https://colab.research.google.com/github/SonGoku27/Klimat/blob/main/Climat_main.ipynb\" target=\"_parent\"><img src=\"https://colab.research.google.com/assets/colab-badge.svg\" alt=\"Open In Colab\"/></a>"
      ]
    },
    {
      "cell_type": "markdown",
      "source": [
        "# Анализ удовлетворенности клиентов. Исследование комфорта при работе климатического оборудования.\n",
        "### Описание проекта:\n",
        "Вы работаете аналитиком в международной компании, занимающейся производством и продажами климатического оборудования: систем кондиционирования и вентиляции. На одной из выставок, посвященной климатическому оборудованию, группа инженеров из дружественной компании предоставила результаты своего исследования: данные по использованию климатических систем в офисах разных стран, городов, а также оценочные данные от респондентов по тому, насколько им комфортно было находиться в заданных условиях.                                                \n",
        "  ** Руководство поставило вам задачу проанализировать полученные данные и предоставить выводы о том, в какой тип климатического оборудования стоит инвестировать больше, чтобы повысить удовлетворенность клиентов созданными условиями в зависимости от региона? И на что стоит обратить внимание при развитии бизнеса в разных регионах? **\n"
      ],
      "metadata": {
        "id": "qQkOMWZKuLal"
      }
    },
    {
      "cell_type": "code",
      "source": [
        "\n",
        "import pandas as pd\n",
        "import matplotlib.pyplot as plt\n",
        "import numpy as np\n",
        "import scipy.stats as stats\n",
        "from numpy.linalg import lstsq\n",
        "\n",
        "# импорты для регресионного моделирования\n",
        "from sklearn.model_selection import train_test_split\n",
        "from sklearn.preprocessing import OneHotEncoder, StandardScaler\n",
        "from sklearn.compose import ColumnTransformer\n",
        "from sklearn.linear_model import LinearRegression\n",
        "from sklearn.pipeline import Pipeline\n",
        "from sklearn.metrics import mean_squared_error\n",
        "from sklearn.ensemble import RandomForestRegressor\n",
        "from sklearn.metrics import r2_score, mean_squared_error, mean_absolute_error\n",
        "\n",
        "df = pd.read_csv('/content/drive/MyDrive/yandex_data/data_1.csv', sep=\";\")"
      ],
      "metadata": {
        "id": "25gMlg9Stmj8"
      },
      "execution_count": 5,
      "outputs": []
    },
    {
      "cell_type": "markdown",
      "source": [
        "# Исследование данных на качество и предобработка\n",
        "# Проведение расчётов и исследований Амир (Origami)\n"
      ],
      "metadata": {
        "id": "BYGEiIZTpYbe"
      }
    },
    {
      "cell_type": "markdown",
      "source": [
        "1. Приведение названий столбцов в соответствии с PEP8"
      ],
      "metadata": {
        "id": "eWXrG7JauC6J"
      }
    },
    {
      "cell_type": "code",
      "source": [
        "df.columns = df.columns.str.replace(' ', '_').str.lower()"
      ],
      "metadata": {
        "id": "-Rr5YGeQuCe6"
      },
      "execution_count": 6,
      "outputs": []
    },
    {
      "cell_type": "markdown",
      "source": [
        "2. Перевод данных к правильному типу             \n",
        "Столбец \"год\" является типом float.                \n",
        "Приведем к правильному типу, изменив его на int"
      ],
      "metadata": {
        "id": "B8gvHoOAuL0B"
      }
    },
    {
      "cell_type": "code",
      "source": [
        "print(df['год'].dtypes)\n",
        "df['год'] = df['год'].astype('int')\n",
        "print(df['год'].dtypes)"
      ],
      "metadata": {
        "id": "G7mcI1RKuMDJ",
        "colab": {
          "base_uri": "https://localhost:8080/"
        },
        "outputId": "4b85376e-caf9-4b0c-f816-3bcf524a86b2"
      },
      "execution_count": 7,
      "outputs": [
        {
          "output_type": "stream",
          "name": "stdout",
          "text": [
            "float64\n",
            "int64\n"
          ]
        }
      ]
    },
    {
      "cell_type": "markdown",
      "source": [
        "3. удаление дубликатов(категориальных данных)\n"
      ],
      "metadata": {
        "id": "G0jJWDbGvArZ"
      }
    },
    {
      "cell_type": "code",
      "source": [
        "df_no_duplicates = df.drop_duplicates(\n",
        "    subset=['время_года', 'способ_охлаждения', 'режим_при_смешанном_типе_охлаждения', 'способ_обогрева', 'пол',\n",
        "            'ощущение_температуры_(bool)', 'предпочтительное_изменение_температуры', 'ощущение_движения_воздуха_(bool)',\n",
        "            'предпочтительное_изменение_движения_воздуха', 'занавески', 'вентилятор',\n",
        "            'окно', 'двери', 'отопление'],\n",
        "    keep=False)\n"
      ],
      "metadata": {
        "id": "uPwzGJipvAx5"
      },
      "execution_count": 8,
      "outputs": []
    },
    {
      "cell_type": "markdown",
      "source": [
        " 3. удаление дубликатов(категориальных данных)\n"
      ],
      "metadata": {
        "id": "5hRSBaqivAda"
      }
    },
    {
      "cell_type": "code",
      "source": [
        "df_no_duplicates = df.drop_duplicates(\n",
        "    subset=['время_года', 'способ_охлаждения', 'режим_при_смешанном_типе_охлаждения', 'способ_обогрева', 'пол',\n",
        "            'ощущение_температуры_(bool)', 'предпочтительное_изменение_температуры', 'ощущение_движения_воздуха_(bool)',\n",
        "            'предпочтительное_изменение_движения_воздуха', 'занавески', 'вентилятор',\n",
        "            'окно', 'двери', 'отопление'],\n",
        "    keep=False)"
      ],
      "metadata": {
        "id": "vOgdEiHYvAkB"
      },
      "execution_count": 9,
      "outputs": []
    },
    {
      "cell_type": "markdown",
      "source": [
        " 4.1 Обработка данных на адекватность данных\n",
        "\n",
        " При заполнении данных были совершены опечатки:\n",
        " * В столбце \"климат\" - \"Субтроп океанич\" вместо \"Субтропический океанический\"\n",
        " * В столбце \"способ_охлаждения\" - \"Тепле\" вместо \"Теплее\"\n",
        " * В столбце \"способ_охлаждения\" - \"Холодн\" вместо \"Холоднее\"              \n",
        " Исправим их методом loc"
      ],
      "metadata": {
        "id": "jPDfYirAvA5f"
      }
    },
    {
      "cell_type": "code",
      "source": [
        "df.loc[df['климат'] == 'Субтроп океанич', 'климат'] = 'Субтропический океанический'\n",
        "df.loc[df['способ_охлаждения'] == 'Тепле', 'способ_охлаждения'] = 'Теплее'\n",
        "df.loc[df['способ_охлаждения'] == 'Холодн', 'способ_охлаждения'] = 'Холоднее'"
      ],
      "metadata": {
        "id": "Jasltn08vBA9"
      },
      "execution_count": 10,
      "outputs": []
    },
    {
      "cell_type": "markdown",
      "source": [
        "4.2 Обработка данных на выбросы          \n",
        "Были найдены выбросы в столбцах: утепление, температура_воздуха_в_помещении, скорость_воздуха, рост, среднемесячная_температура_на_улице.\n",
        "Расмотрим их на графиках:\n",
        "Для обработки выбрасов нужно всем пропуски в таблице \"пол\" заменить на \"Пол не указан\"\n",
        "* Создадим функцию emissions, которая будет отчищать данные от выбросов"
      ],
      "metadata": {
        "id": "sFwmsHo1vBGJ"
      }
    },
    {
      "cell_type": "code",
      "source": [
        "def emissions(zxc):\n",
        "    # Методом 3IQR для работы с выбросами.\n",
        "    for i in ['утепление', 'температура_воздуха_в_помещении', 'скорость_воздуха', 'рост',\n",
        "              'среднемесячная_температура_на_улице']:\n",
        "        Q1, Q3 = zxc[i].quantile([0.25, 0.75])\n",
        "        IQR = Q3 - Q1\n",
        "        zxc = zxc[(zxc[i] >= Q1 - 3 * IQR) & (zxc[i] <= Q3 + 3 * IQR)]\n",
        "    return zxc\n",
        "df[['утепление', 'температура_воздуха_в_помещении', 'скорость_воздуха', 'рост',\n",
        "    'среднемесячная_температура_на_улице']] = emissions(df[['утепление', 'температура_воздуха_в_помещении',\n",
        "                                                            'скорость_воздуха', 'рост',\n",
        "                                                            'среднемесячная_температура_на_улице']])"
      ],
      "metadata": {
        "id": "XgmwfFv2vBLp"
      },
      "execution_count": 11,
      "outputs": []
    },
    {
      "cell_type": "markdown",
      "source": [
        "5.обработка пропусков\n",
        " * Заполним пропуски необходимых нам столбцах. Столбцы \"Вес\" и \"Рост\" мы заменим медианным значением, учитывая пол респондента.\n",
        " * Так как у многих респондентов столцеб \"Пол\" полностью отсутствует(пропуски в столбеце \"Пол\" не могут обработаны), мы заполнили его значением \"Пол не указан\".\n",
        " * Респондентов с данным значением в столбце \"Пол\", мы заполним общей медианной столбца.\n",
        " * Столбец \"оценка_комфорта\" мы заменим медианным значением, учитывая способ охлаждения респондента."
      ],
      "metadata": {
        "id": "voJcImkbvBTZ"
      }
    },
    {
      "cell_type": "code",
      "source": [
        "# 1\n",
        "for i in ['Женский', 'Мужской']:\n",
        "    df.loc[df['пол'] == i, 'вес'] = df['вес'].fillna(df['вес'].describe().median())\n",
        "    df.loc[df['пол'] == i, 'рост'] = df['рост'].fillna(df['рост'].describe().median())\n",
        "df.loc[df['пол'] == 'Пол не указан', 'рост'] = df['рост'].fillna(df['рост'].describe().median())\n",
        "\n",
        "# 2\n",
        "for j in [0.0, 1.0]:  # зависит от способа охлаждения\n",
        "    df.loc[df['ощущение_температуры'] == j, 'оценка_комфорта'] = (\n",
        "        df['оценка_комфорта'].fillna(df['оценка_комфорта'].describe().median()))\n",
        "\n",
        "df1 = df  # рабочий момент :) :) :) :)"
      ],
      "metadata": {
        "id": "hXsjS7_GvBal"
      },
      "execution_count": 12,
      "outputs": []
    },
    {
      "cell_type": "markdown",
      "source": [
        "Дополнительный категориальный столбец - количество_рекламаций_категории   \n",
        "Создаем функцию для создания нового столбца \"количество_рекламаций_кат\" (Категириальный тип данных)\n"
      ],
      "metadata": {
        "id": "QnEJQ05mwVAp"
      }
    },
    {
      "cell_type": "code",
      "source": [
        "def qwe(x):\n",
        "    if x <= 1:\n",
        "        return 'мало'\n",
        "    elif x == 2:\n",
        "        return 'средне'\n",
        "    elif x > 2:\n",
        "        return 'много'\n",
        "\n",
        "\n",
        "df1['количество_рекламаций_кат'] = [qwe(i) for i in df1['количество_рекламаций']]"
      ],
      "metadata": {
        "id": "NdYMFxOMiRP1"
      },
      "execution_count": 13,
      "outputs": []
    },
    {
      "cell_type": "markdown",
      "source": [
        "дополнительный категориальный столбец - возраст_категории - отдельная ячейка  \n",
        "\n",
        "Создаем функцию для создания нового столбца \"возраст_кат\" (Категириальный тип данных)"
      ],
      "metadata": {
        "id": "csKsODY7wgBq"
      }
    },
    {
      "cell_type": "code",
      "source": [
        "def zxc(z):\n",
        "    if z <= 44:\n",
        "        return 'молодой возраст'\n",
        "    elif 45 <= z <= 59:\n",
        "        return 'средний возраст'\n",
        "    elif z > 60:\n",
        "        return 'пожилой возраст'\n",
        "\n",
        "\n",
        "df1['возраст_кат'] = [zxc(i) for i in df1['возраст']]\n"
      ],
      "metadata": {
        "id": "LeezKtW4wgWa"
      },
      "execution_count": 14,
      "outputs": []
    },
    {
      "cell_type": "markdown",
      "source": [
        "средний возраст респондентов по полу и стране"
      ],
      "metadata": {
        "id": "SSvJ6V39wrnC"
      }
    },
    {
      "cell_type": "code",
      "source": [
        "df1[['страна', 'пол', 'возраст']].groupby(['страна', 'пол']).mean()"
      ],
      "metadata": {
        "colab": {
          "base_uri": "https://localhost:8080/",
          "height": 206
        },
        "id": "y5h-vIkNwrSK",
        "outputId": "e18cd705-bbca-443c-c80a-92539c4b9eb8"
      },
      "execution_count": 15,
      "outputs": [
        {
          "output_type": "execute_result",
          "data": {
            "text/plain": [
              "                     возраст\n",
              "страна    пол               \n",
              "Австралия Женский  46.348315\n",
              "          Мужской  42.614679\n",
              "Индия     Женский  36.590909\n",
              "          Мужской  38.333333"
            ],
            "text/html": [
              "\n",
              "  <div id=\"df-56821e52-08a6-4ea5-90ab-9780c52af098\" class=\"colab-df-container\">\n",
              "    <div>\n",
              "<style scoped>\n",
              "    .dataframe tbody tr th:only-of-type {\n",
              "        vertical-align: middle;\n",
              "    }\n",
              "\n",
              "    .dataframe tbody tr th {\n",
              "        vertical-align: top;\n",
              "    }\n",
              "\n",
              "    .dataframe thead th {\n",
              "        text-align: right;\n",
              "    }\n",
              "</style>\n",
              "<table border=\"1\" class=\"dataframe\">\n",
              "  <thead>\n",
              "    <tr style=\"text-align: right;\">\n",
              "      <th></th>\n",
              "      <th></th>\n",
              "      <th>возраст</th>\n",
              "    </tr>\n",
              "    <tr>\n",
              "      <th>страна</th>\n",
              "      <th>пол</th>\n",
              "      <th></th>\n",
              "    </tr>\n",
              "  </thead>\n",
              "  <tbody>\n",
              "    <tr>\n",
              "      <th rowspan=\"2\" valign=\"top\">Австралия</th>\n",
              "      <th>Женский</th>\n",
              "      <td>46.348315</td>\n",
              "    </tr>\n",
              "    <tr>\n",
              "      <th>Мужской</th>\n",
              "      <td>42.614679</td>\n",
              "    </tr>\n",
              "    <tr>\n",
              "      <th rowspan=\"2\" valign=\"top\">Индия</th>\n",
              "      <th>Женский</th>\n",
              "      <td>36.590909</td>\n",
              "    </tr>\n",
              "    <tr>\n",
              "      <th>Мужской</th>\n",
              "      <td>38.333333</td>\n",
              "    </tr>\n",
              "  </tbody>\n",
              "</table>\n",
              "</div>\n",
              "    <div class=\"colab-df-buttons\">\n",
              "\n",
              "  <div class=\"colab-df-container\">\n",
              "    <button class=\"colab-df-convert\" onclick=\"convertToInteractive('df-56821e52-08a6-4ea5-90ab-9780c52af098')\"\n",
              "            title=\"Convert this dataframe to an interactive table.\"\n",
              "            style=\"display:none;\">\n",
              "\n",
              "  <svg xmlns=\"http://www.w3.org/2000/svg\" height=\"24px\" viewBox=\"0 -960 960 960\">\n",
              "    <path d=\"M120-120v-720h720v720H120Zm60-500h600v-160H180v160Zm220 220h160v-160H400v160Zm0 220h160v-160H400v160ZM180-400h160v-160H180v160Zm440 0h160v-160H620v160ZM180-180h160v-160H180v160Zm440 0h160v-160H620v160Z\"/>\n",
              "  </svg>\n",
              "    </button>\n",
              "\n",
              "  <style>\n",
              "    .colab-df-container {\n",
              "      display:flex;\n",
              "      gap: 12px;\n",
              "    }\n",
              "\n",
              "    .colab-df-convert {\n",
              "      background-color: #E8F0FE;\n",
              "      border: none;\n",
              "      border-radius: 50%;\n",
              "      cursor: pointer;\n",
              "      display: none;\n",
              "      fill: #1967D2;\n",
              "      height: 32px;\n",
              "      padding: 0 0 0 0;\n",
              "      width: 32px;\n",
              "    }\n",
              "\n",
              "    .colab-df-convert:hover {\n",
              "      background-color: #E2EBFA;\n",
              "      box-shadow: 0px 1px 2px rgba(60, 64, 67, 0.3), 0px 1px 3px 1px rgba(60, 64, 67, 0.15);\n",
              "      fill: #174EA6;\n",
              "    }\n",
              "\n",
              "    .colab-df-buttons div {\n",
              "      margin-bottom: 4px;\n",
              "    }\n",
              "\n",
              "    [theme=dark] .colab-df-convert {\n",
              "      background-color: #3B4455;\n",
              "      fill: #D2E3FC;\n",
              "    }\n",
              "\n",
              "    [theme=dark] .colab-df-convert:hover {\n",
              "      background-color: #434B5C;\n",
              "      box-shadow: 0px 1px 3px 1px rgba(0, 0, 0, 0.15);\n",
              "      filter: drop-shadow(0px 1px 2px rgba(0, 0, 0, 0.3));\n",
              "      fill: #FFFFFF;\n",
              "    }\n",
              "  </style>\n",
              "\n",
              "    <script>\n",
              "      const buttonEl =\n",
              "        document.querySelector('#df-56821e52-08a6-4ea5-90ab-9780c52af098 button.colab-df-convert');\n",
              "      buttonEl.style.display =\n",
              "        google.colab.kernel.accessAllowed ? 'block' : 'none';\n",
              "\n",
              "      async function convertToInteractive(key) {\n",
              "        const element = document.querySelector('#df-56821e52-08a6-4ea5-90ab-9780c52af098');\n",
              "        const dataTable =\n",
              "          await google.colab.kernel.invokeFunction('convertToInteractive',\n",
              "                                                    [key], {});\n",
              "        if (!dataTable) return;\n",
              "\n",
              "        const docLinkHtml = 'Like what you see? Visit the ' +\n",
              "          '<a target=\"_blank\" href=https://colab.research.google.com/notebooks/data_table.ipynb>data table notebook</a>'\n",
              "          + ' to learn more about interactive tables.';\n",
              "        element.innerHTML = '';\n",
              "        dataTable['output_type'] = 'display_data';\n",
              "        await google.colab.output.renderOutput(dataTable, element);\n",
              "        const docLink = document.createElement('div');\n",
              "        docLink.innerHTML = docLinkHtml;\n",
              "        element.appendChild(docLink);\n",
              "      }\n",
              "    </script>\n",
              "  </div>\n",
              "\n",
              "\n",
              "<div id=\"df-ce808429-749b-44c3-9a95-bc6370a8d586\">\n",
              "  <button class=\"colab-df-quickchart\" onclick=\"quickchart('df-ce808429-749b-44c3-9a95-bc6370a8d586')\"\n",
              "            title=\"Suggest charts\"\n",
              "            style=\"display:none;\">\n",
              "\n",
              "<svg xmlns=\"http://www.w3.org/2000/svg\" height=\"24px\"viewBox=\"0 0 24 24\"\n",
              "     width=\"24px\">\n",
              "    <g>\n",
              "        <path d=\"M19 3H5c-1.1 0-2 .9-2 2v14c0 1.1.9 2 2 2h14c1.1 0 2-.9 2-2V5c0-1.1-.9-2-2-2zM9 17H7v-7h2v7zm4 0h-2V7h2v10zm4 0h-2v-4h2v4z\"/>\n",
              "    </g>\n",
              "</svg>\n",
              "  </button>\n",
              "\n",
              "<style>\n",
              "  .colab-df-quickchart {\n",
              "      --bg-color: #E8F0FE;\n",
              "      --fill-color: #1967D2;\n",
              "      --hover-bg-color: #E2EBFA;\n",
              "      --hover-fill-color: #174EA6;\n",
              "      --disabled-fill-color: #AAA;\n",
              "      --disabled-bg-color: #DDD;\n",
              "  }\n",
              "\n",
              "  [theme=dark] .colab-df-quickchart {\n",
              "      --bg-color: #3B4455;\n",
              "      --fill-color: #D2E3FC;\n",
              "      --hover-bg-color: #434B5C;\n",
              "      --hover-fill-color: #FFFFFF;\n",
              "      --disabled-bg-color: #3B4455;\n",
              "      --disabled-fill-color: #666;\n",
              "  }\n",
              "\n",
              "  .colab-df-quickchart {\n",
              "    background-color: var(--bg-color);\n",
              "    border: none;\n",
              "    border-radius: 50%;\n",
              "    cursor: pointer;\n",
              "    display: none;\n",
              "    fill: var(--fill-color);\n",
              "    height: 32px;\n",
              "    padding: 0;\n",
              "    width: 32px;\n",
              "  }\n",
              "\n",
              "  .colab-df-quickchart:hover {\n",
              "    background-color: var(--hover-bg-color);\n",
              "    box-shadow: 0 1px 2px rgba(60, 64, 67, 0.3), 0 1px 3px 1px rgba(60, 64, 67, 0.15);\n",
              "    fill: var(--button-hover-fill-color);\n",
              "  }\n",
              "\n",
              "  .colab-df-quickchart-complete:disabled,\n",
              "  .colab-df-quickchart-complete:disabled:hover {\n",
              "    background-color: var(--disabled-bg-color);\n",
              "    fill: var(--disabled-fill-color);\n",
              "    box-shadow: none;\n",
              "  }\n",
              "\n",
              "  .colab-df-spinner {\n",
              "    border: 2px solid var(--fill-color);\n",
              "    border-color: transparent;\n",
              "    border-bottom-color: var(--fill-color);\n",
              "    animation:\n",
              "      spin 1s steps(1) infinite;\n",
              "  }\n",
              "\n",
              "  @keyframes spin {\n",
              "    0% {\n",
              "      border-color: transparent;\n",
              "      border-bottom-color: var(--fill-color);\n",
              "      border-left-color: var(--fill-color);\n",
              "    }\n",
              "    20% {\n",
              "      border-color: transparent;\n",
              "      border-left-color: var(--fill-color);\n",
              "      border-top-color: var(--fill-color);\n",
              "    }\n",
              "    30% {\n",
              "      border-color: transparent;\n",
              "      border-left-color: var(--fill-color);\n",
              "      border-top-color: var(--fill-color);\n",
              "      border-right-color: var(--fill-color);\n",
              "    }\n",
              "    40% {\n",
              "      border-color: transparent;\n",
              "      border-right-color: var(--fill-color);\n",
              "      border-top-color: var(--fill-color);\n",
              "    }\n",
              "    60% {\n",
              "      border-color: transparent;\n",
              "      border-right-color: var(--fill-color);\n",
              "    }\n",
              "    80% {\n",
              "      border-color: transparent;\n",
              "      border-right-color: var(--fill-color);\n",
              "      border-bottom-color: var(--fill-color);\n",
              "    }\n",
              "    90% {\n",
              "      border-color: transparent;\n",
              "      border-bottom-color: var(--fill-color);\n",
              "    }\n",
              "  }\n",
              "</style>\n",
              "\n",
              "  <script>\n",
              "    async function quickchart(key) {\n",
              "      const quickchartButtonEl =\n",
              "        document.querySelector('#' + key + ' button');\n",
              "      quickchartButtonEl.disabled = true;  // To prevent multiple clicks.\n",
              "      quickchartButtonEl.classList.add('colab-df-spinner');\n",
              "      try {\n",
              "        const charts = await google.colab.kernel.invokeFunction(\n",
              "            'suggestCharts', [key], {});\n",
              "      } catch (error) {\n",
              "        console.error('Error during call to suggestCharts:', error);\n",
              "      }\n",
              "      quickchartButtonEl.classList.remove('colab-df-spinner');\n",
              "      quickchartButtonEl.classList.add('colab-df-quickchart-complete');\n",
              "    }\n",
              "    (() => {\n",
              "      let quickchartButtonEl =\n",
              "        document.querySelector('#df-ce808429-749b-44c3-9a95-bc6370a8d586 button');\n",
              "      quickchartButtonEl.style.display =\n",
              "        google.colab.kernel.accessAllowed ? 'block' : 'none';\n",
              "    })();\n",
              "  </script>\n",
              "</div>\n",
              "\n",
              "    </div>\n",
              "  </div>\n"
            ],
            "application/vnd.google.colaboratory.intrinsic+json": {
              "type": "dataframe",
              "summary": "{\n  \"name\": \"df1[['\\u0441\\u0442\\u0440\\u0430\\u043d\\u0430', '\\u043f\\u043e\\u043b', '\\u0432\\u043e\\u0437\\u0440\\u0430\\u0441\\u0442']]\",\n  \"rows\": 4,\n  \"fields\": [\n    {\n      \"column\": \"\\u0432\\u043e\\u0437\\u0440\\u0430\\u0441\\u0442\",\n      \"properties\": {\n        \"dtype\": \"number\",\n        \"std\": 4.3878495834786,\n        \"min\": 36.59090909090909,\n        \"max\": 46.348314606741575,\n        \"num_unique_values\": 4,\n        \"samples\": [\n          42.61467889908257,\n          38.333333333333336,\n          46.348314606741575\n        ],\n        \"semantic_type\": \"\",\n        \"description\": \"\"\n      }\n    }\n  ]\n}"
            }
          },
          "metadata": {},
          "execution_count": 15
        }
      ]
    },
    {
      "cell_type": "markdown",
      "source": [
        "Рассчитать среднюю комфортную температуру в зависимости от возрастной категории - отдельная ячейка\n",
        "\n",
        "Так как не указано какой комфортной температуры воздуха идет речь, мы возьмем комфортную температуру в помещении\n",
        "\n",
        "Рассчет средней комфортной температуры в зависимости от возрастной категории - отдельная ячейка"
      ],
      "metadata": {
        "id": "dSCJKBU3fN_R"
      }
    },
    {
      "cell_type": "code",
      "source": [
        "df3 = df1[['температура_воздуха_в_помещении', 'оценка_комфорта', 'возраст_кат']]\n",
        "print(df3.dropna().groupby(['возраст_кат', 'оценка_комфорта']).mean())"
      ],
      "metadata": {
        "colab": {
          "base_uri": "https://localhost:8080/"
        },
        "id": "-CdQutWNfVvW",
        "outputId": "fc089489-92ed-4f7d-accd-cc52c526e704"
      },
      "execution_count": 16,
      "outputs": [
        {
          "output_type": "stream",
          "name": "stdout",
          "text": [
            "                                 температура_воздуха_в_помещении\n",
            "возраст_кат     оценка_комфорта                                 \n",
            "молодой возраст 3.0                                    24.940000\n",
            "                4.0                                    25.650000\n",
            "                5.0                                    25.518182\n",
            "                6.0                                    24.720000\n",
            "средний возраст 2.0                                    26.100000\n",
            "                3.0                                    26.000000\n",
            "                4.0                                    24.233333\n",
            "                5.0                                    22.816667\n",
            "                6.0                                    25.023077\n"
          ]
        }
      ]
    },
    {
      "cell_type": "markdown",
      "source": [
        "## **Исследование комфортных условий в офисах в разных странах** Aiman\n",
        "\n",
        "Цель: Определить, в какой тип климатического оборудования стоит инвестировать больше, чтобы повысить удовлетворённость клиентов. Понять климатические особенности разных регионов, оценить комфорт в офисах и найти закономерности."
      ],
      "metadata": {
        "id": "A62wg1aL2SOr"
      }
    },
    {
      "cell_type": "markdown",
      "source": [
        "Мы начинаем с загрузки данных, в которых содержатся измерения условий в офисах в разных странах, включая температуру, влажность, скорость воздуха, а также субъективные оценки комфорта."
      ],
      "metadata": {
        "id": "sP9nYtem4kLt"
      }
    },
    {
      "cell_type": "markdown",
      "source": [
        "**Подготовка данных**"
      ],
      "metadata": {
        "id": "DeM1lp5Q4m9N"
      }
    },
    {
      "cell_type": "code",
      "source": [
        "# Добавляем возрастные группы по заданным интервалам\n",
        "df[\"Возрастная группа\"] = pd.cut(\n",
        "    df[\"Возраст\"],\n",
        "    bins=[0, 18, 30, 45, 60, 120],\n",
        "    labels=[\"<18\", \"18-30\", \"30-45\", \"45-60\", \"60+\"],\n",
        "    right=False\n",
        ")\n",
        "\n",
        "# Разбиваем относительную влажность на категории\n",
        "df[\"RH комфорт\"] = pd.cut(\n",
        "    df[\"RH\"],\n",
        "    bins=[0, 30, 60, 100],\n",
        "    labels=[\"Сухо\", \"Комфорт\", \"Влажно\"],\n",
        "    right=False\n",
        ")\n",
        "\n",
        "# Убираем пробелы в названиях способов охлаждения\n",
        "df[\"Способ охлаждения\"] = df[\"Способ охлаждения\"].astype(str).str.strip()\n",
        "\n",
        "# Создаём папку для сохранения графиков, если её ещё нет\n",
        "os.makedirs(\"plots\", exist_ok=True)"
      ],
      "metadata": {
        "colab": {
          "base_uri": "https://localhost:8080/",
          "height": 547
        },
        "id": "a6Pc6MDs4nDV",
        "outputId": "c8ec2d72-db4c-4bcf-ae53-fd7b8ba05cf2"
      },
      "execution_count": 17,
      "outputs": [
        {
          "output_type": "error",
          "ename": "KeyError",
          "evalue": "'Возраст'",
          "traceback": [
            "\u001b[0;31m---------------------------------------------------------------------------\u001b[0m",
            "\u001b[0;31mKeyError\u001b[0m                                  Traceback (most recent call last)",
            "\u001b[0;32m/usr/local/lib/python3.11/dist-packages/pandas/core/indexes/base.py\u001b[0m in \u001b[0;36mget_loc\u001b[0;34m(self, key)\u001b[0m\n\u001b[1;32m   3804\u001b[0m         \u001b[0;32mtry\u001b[0m\u001b[0;34m:\u001b[0m\u001b[0;34m\u001b[0m\u001b[0;34m\u001b[0m\u001b[0m\n\u001b[0;32m-> 3805\u001b[0;31m             \u001b[0;32mreturn\u001b[0m \u001b[0mself\u001b[0m\u001b[0;34m.\u001b[0m\u001b[0m_engine\u001b[0m\u001b[0;34m.\u001b[0m\u001b[0mget_loc\u001b[0m\u001b[0;34m(\u001b[0m\u001b[0mcasted_key\u001b[0m\u001b[0;34m)\u001b[0m\u001b[0;34m\u001b[0m\u001b[0;34m\u001b[0m\u001b[0m\n\u001b[0m\u001b[1;32m   3806\u001b[0m         \u001b[0;32mexcept\u001b[0m \u001b[0mKeyError\u001b[0m \u001b[0;32mas\u001b[0m \u001b[0merr\u001b[0m\u001b[0;34m:\u001b[0m\u001b[0;34m\u001b[0m\u001b[0;34m\u001b[0m\u001b[0m\n",
            "\u001b[0;32mindex.pyx\u001b[0m in \u001b[0;36mpandas._libs.index.IndexEngine.get_loc\u001b[0;34m()\u001b[0m\n",
            "\u001b[0;32mindex.pyx\u001b[0m in \u001b[0;36mpandas._libs.index.IndexEngine.get_loc\u001b[0;34m()\u001b[0m\n",
            "\u001b[0;32mpandas/_libs/hashtable_class_helper.pxi\u001b[0m in \u001b[0;36mpandas._libs.hashtable.PyObjectHashTable.get_item\u001b[0;34m()\u001b[0m\n",
            "\u001b[0;32mpandas/_libs/hashtable_class_helper.pxi\u001b[0m in \u001b[0;36mpandas._libs.hashtable.PyObjectHashTable.get_item\u001b[0;34m()\u001b[0m\n",
            "\u001b[0;31mKeyError\u001b[0m: 'Возраст'",
            "\nThe above exception was the direct cause of the following exception:\n",
            "\u001b[0;31mKeyError\u001b[0m                                  Traceback (most recent call last)",
            "\u001b[0;32m<ipython-input-17-52b22cd40950>\u001b[0m in \u001b[0;36m<cell line: 0>\u001b[0;34m()\u001b[0m\n\u001b[1;32m      1\u001b[0m \u001b[0;31m# Добавляем возрастные группы по заданным интервалам\u001b[0m\u001b[0;34m\u001b[0m\u001b[0;34m\u001b[0m\u001b[0m\n\u001b[1;32m      2\u001b[0m df[\"Возрастная группа\"] = pd.cut(\n\u001b[0;32m----> 3\u001b[0;31m     \u001b[0mdf\u001b[0m\u001b[0;34m[\u001b[0m\u001b[0;34m\"Возраст\"\u001b[0m\u001b[0;34m]\u001b[0m\u001b[0;34m,\u001b[0m\u001b[0;34m\u001b[0m\u001b[0;34m\u001b[0m\u001b[0m\n\u001b[0m\u001b[1;32m      4\u001b[0m     \u001b[0mbins\u001b[0m\u001b[0;34m=\u001b[0m\u001b[0;34m[\u001b[0m\u001b[0;36m0\u001b[0m\u001b[0;34m,\u001b[0m \u001b[0;36m18\u001b[0m\u001b[0;34m,\u001b[0m \u001b[0;36m30\u001b[0m\u001b[0;34m,\u001b[0m \u001b[0;36m45\u001b[0m\u001b[0;34m,\u001b[0m \u001b[0;36m60\u001b[0m\u001b[0;34m,\u001b[0m \u001b[0;36m120\u001b[0m\u001b[0;34m]\u001b[0m\u001b[0;34m,\u001b[0m\u001b[0;34m\u001b[0m\u001b[0;34m\u001b[0m\u001b[0m\n\u001b[1;32m      5\u001b[0m     \u001b[0mlabels\u001b[0m\u001b[0;34m=\u001b[0m\u001b[0;34m[\u001b[0m\u001b[0;34m\"<18\"\u001b[0m\u001b[0;34m,\u001b[0m \u001b[0;34m\"18-30\"\u001b[0m\u001b[0;34m,\u001b[0m \u001b[0;34m\"30-45\"\u001b[0m\u001b[0;34m,\u001b[0m \u001b[0;34m\"45-60\"\u001b[0m\u001b[0;34m,\u001b[0m \u001b[0;34m\"60+\"\u001b[0m\u001b[0;34m]\u001b[0m\u001b[0;34m,\u001b[0m\u001b[0;34m\u001b[0m\u001b[0;34m\u001b[0m\u001b[0m\n",
            "\u001b[0;32m/usr/local/lib/python3.11/dist-packages/pandas/core/frame.py\u001b[0m in \u001b[0;36m__getitem__\u001b[0;34m(self, key)\u001b[0m\n\u001b[1;32m   4100\u001b[0m             \u001b[0;32mif\u001b[0m \u001b[0mself\u001b[0m\u001b[0;34m.\u001b[0m\u001b[0mcolumns\u001b[0m\u001b[0;34m.\u001b[0m\u001b[0mnlevels\u001b[0m \u001b[0;34m>\u001b[0m \u001b[0;36m1\u001b[0m\u001b[0;34m:\u001b[0m\u001b[0;34m\u001b[0m\u001b[0;34m\u001b[0m\u001b[0m\n\u001b[1;32m   4101\u001b[0m                 \u001b[0;32mreturn\u001b[0m \u001b[0mself\u001b[0m\u001b[0;34m.\u001b[0m\u001b[0m_getitem_multilevel\u001b[0m\u001b[0;34m(\u001b[0m\u001b[0mkey\u001b[0m\u001b[0;34m)\u001b[0m\u001b[0;34m\u001b[0m\u001b[0;34m\u001b[0m\u001b[0m\n\u001b[0;32m-> 4102\u001b[0;31m             \u001b[0mindexer\u001b[0m \u001b[0;34m=\u001b[0m \u001b[0mself\u001b[0m\u001b[0;34m.\u001b[0m\u001b[0mcolumns\u001b[0m\u001b[0;34m.\u001b[0m\u001b[0mget_loc\u001b[0m\u001b[0;34m(\u001b[0m\u001b[0mkey\u001b[0m\u001b[0;34m)\u001b[0m\u001b[0;34m\u001b[0m\u001b[0;34m\u001b[0m\u001b[0m\n\u001b[0m\u001b[1;32m   4103\u001b[0m             \u001b[0;32mif\u001b[0m \u001b[0mis_integer\u001b[0m\u001b[0;34m(\u001b[0m\u001b[0mindexer\u001b[0m\u001b[0;34m)\u001b[0m\u001b[0;34m:\u001b[0m\u001b[0;34m\u001b[0m\u001b[0;34m\u001b[0m\u001b[0m\n\u001b[1;32m   4104\u001b[0m                 \u001b[0mindexer\u001b[0m \u001b[0;34m=\u001b[0m \u001b[0;34m[\u001b[0m\u001b[0mindexer\u001b[0m\u001b[0;34m]\u001b[0m\u001b[0;34m\u001b[0m\u001b[0;34m\u001b[0m\u001b[0m\n",
            "\u001b[0;32m/usr/local/lib/python3.11/dist-packages/pandas/core/indexes/base.py\u001b[0m in \u001b[0;36mget_loc\u001b[0;34m(self, key)\u001b[0m\n\u001b[1;32m   3810\u001b[0m             ):\n\u001b[1;32m   3811\u001b[0m                 \u001b[0;32mraise\u001b[0m \u001b[0mInvalidIndexError\u001b[0m\u001b[0;34m(\u001b[0m\u001b[0mkey\u001b[0m\u001b[0;34m)\u001b[0m\u001b[0;34m\u001b[0m\u001b[0;34m\u001b[0m\u001b[0m\n\u001b[0;32m-> 3812\u001b[0;31m             \u001b[0;32mraise\u001b[0m \u001b[0mKeyError\u001b[0m\u001b[0;34m(\u001b[0m\u001b[0mkey\u001b[0m\u001b[0;34m)\u001b[0m \u001b[0;32mfrom\u001b[0m \u001b[0merr\u001b[0m\u001b[0;34m\u001b[0m\u001b[0;34m\u001b[0m\u001b[0m\n\u001b[0m\u001b[1;32m   3813\u001b[0m         \u001b[0;32mexcept\u001b[0m \u001b[0mTypeError\u001b[0m\u001b[0;34m:\u001b[0m\u001b[0;34m\u001b[0m\u001b[0;34m\u001b[0m\u001b[0m\n\u001b[1;32m   3814\u001b[0m             \u001b[0;31m# If we have a listlike key, _check_indexing_error will raise\u001b[0m\u001b[0;34m\u001b[0m\u001b[0;34m\u001b[0m\u001b[0m\n",
            "\u001b[0;31mKeyError\u001b[0m: 'Возраст'"
          ]
        }
      ]
    },
    {
      "cell_type": "markdown",
      "source": [
        "Эти категории помогут нам анализировать предпочтения и комфорт среди разных возрастов и условий."
      ],
      "metadata": {
        "id": "f8XQxnQK4nHf"
      }
    },
    {
      "cell_type": "markdown",
      "source": [
        "**Группировка по полу и возрасту. Средние значения**"
      ],
      "metadata": {
        "id": "om9nfO_d8yny"
      }
    },
    {
      "cell_type": "code",
      "source": [
        "# Группировка по стране\n",
        "for country in df[\"Страна\"].dropna().unique():\n",
        "    df_country = df[df[\"Страна\"] == country].copy()\n",
        "\n",
        "    summary = (\n",
        "        df_country.dropna(subset=[\"Пол\", \"Возрастная группа\", \"Температура воздуха в помещении\"])\n",
        "        .groupby([\"Пол\", \"Возрастная группа\"], observed=True)\n",
        "        .agg({\n",
        "            \"Температура воздуха в помещении\": \"mean\",\n",
        "            \"Температура воздуха на улице\": \"mean\",\n",
        "            \"RH\": \"mean\"\n",
        "        })\n",
        "        .reset_index()\n",
        "        .rename(columns={\n",
        "            \"Температура воздуха в помещении\": \"Средняя температура в помещении\",\n",
        "            \"Температура воздуха на улице\": \"Средняя температура на улице\",\n",
        "            \"RH\": \"Средняя влажность\"\n",
        "        })\n",
        "    )\n",
        "\n",
        "    display(summary)\n"
      ],
      "metadata": {
        "id": "CvFgKhuJ4nMx"
      },
      "execution_count": null,
      "outputs": []
    },
    {
      "cell_type": "markdown",
      "source": [
        "Эта таблица позволяет увидеть климатический комфорт внутри и снаружи помещения, а также различия между мужчинами и женщинами разных возрастов."
      ],
      "metadata": {
        "id": "HqPv9s0D4nRb"
      }
    },
    {
      "cell_type": "markdown",
      "source": [
        "**Комфортная влажность: соответствие стандарту**\n",
        "\n",
        "Согласно рекомендациям ASHRAE и ГОСТ, оптимальный уровень относительной влажности в помещениях: 30–60%."
      ],
      "metadata": {
        "id": "5nE7SEAM87pE"
      }
    },
    {
      "cell_type": "code",
      "source": [
        "# Оцениваем, соответствует ли RH стандарту комфорта\n",
        "df[\"RH_стандарт\"] = df[\"RH\"].apply(lambda x: \"В норме\" if 30 <= x <= 60 else \"Отклонение\")"
      ],
      "metadata": {
        "id": "2kg5FMQz4nWU"
      },
      "execution_count": null,
      "outputs": []
    },
    {
      "cell_type": "markdown",
      "source": [
        "**Корреляционный анализ**"
      ],
      "metadata": {
        "id": "HpA9imXG9Cnm"
      }
    },
    {
      "cell_type": "code",
      "source": [
        "corr_cols = [\n",
        "    \"Температура воздуха в помещении\",\n",
        "    \"Температура воздуха на улице\",\n",
        "    \"RH\",\n",
        "    \"Скорость воздуха\",\n",
        "    \"Оценка комфорта\",\n",
        "    \"Среднемесячная температура на улице\"\n",
        "]\n",
        "\n",
        "for country in df[\"Страна\"].dropna().unique():\n",
        "    df_country = df[df[\"Страна\"] == country].copy()\n",
        "    corr_df = df_country[corr_cols].dropna()\n",
        "\n",
        "    if not corr_df.empty:\n",
        "        corr = corr_df.corr()\n",
        "        plt.figure(figsize=(8, 6))\n",
        "        sns.heatmap(corr, annot=True, cmap=\"coolwarm\", fmt=\".2f\")\n",
        "        plt.title(f\"Корреляция ({country})\")\n",
        "        plt.tight_layout()\n",
        "        plt.savefig(f\"plots/correlation_{country}.png\")\n",
        "        plt.close()\n"
      ],
      "metadata": {
        "id": "NG_HC65i9DAl"
      },
      "execution_count": null,
      "outputs": []
    },
    {
      "cell_type": "markdown",
      "source": [
        "В большинстве стран наблюдается сильная положительная корреляция между температурой на улице и внутри офиса. Это означает, что системы охлаждения не всегда компенсируют внешний климат."
      ],
      "metadata": {
        "id": "WNDfXtpk9MSB"
      }
    },
    {
      "cell_type": "markdown",
      "source": [
        "**Регрессионная модель: что влияет на внутреннюю температуру?**"
      ],
      "metadata": {
        "id": "93TWJrhA9Rep"
      }
    },
    {
      "cell_type": "code",
      "source": [
        "for country in df[\"Страна\"].dropna().unique():\n",
        "    df_country = df[df[\"Страна\"] == country].copy()\n",
        "\n",
        "    model_cols = [\n",
        "        \"Температура воздуха в помещении\",\n",
        "        \"Температура воздуха на улице\",\n",
        "        \"RH\",\n",
        "        \"Скорость воздуха\",\n",
        "        \"Оценка комфорта\",\n",
        "        \"Способ охлаждения\"\n",
        "    ]\n",
        "    df_model = df_country[model_cols].dropna()\n",
        "\n",
        "    if not df_model.empty:\n",
        "        X = pd.concat([\n",
        "            df_model[[\"Температура воздуха на улице\", \"RH\", \"Скорость воздуха\", \"Оценка комфорта\"]],\n",
        "            pd.get_dummies(df_model[\"Способ охлаждения\"], prefix=\"Охлаждение\", dtype=float)\n",
        "        ], axis=1)\n",
        "\n",
        "        X = X.astype(float)\n",
        "        y = df_model[\"Температура воздуха в помещении\"].astype(float)\n",
        "        X.insert(0, \"Intercept\", 1.0)\n",
        "\n",
        "        beta = lstsq(X.values, y.values, rcond=None)[0]\n",
        "        y_pred = X @ beta\n",
        "        r2 = 1 - np.sum((y - y_pred) ** 2) / np.sum((y - np.mean(y)) ** 2)\n",
        "        rmse = np.sqrt(np.mean((y - y_pred) ** 2))\n",
        "\n",
        "        print(f\"=== {country} ===\")\n",
        "        print(\"Коэффициенты регрессии:\")\n",
        "        for name, coef in zip(X.columns, beta):\n",
        "            print(f\"{name}: {coef:.3f}\")\n",
        "        print(f\"R2: {r2:.4f}\")\n",
        "        print(f\"RMSE: {rmse:.4f}\")"
      ],
      "metadata": {
        "id": "XfZI1Sxe9Mhd"
      },
      "execution_count": null,
      "outputs": []
    },
    {
      "cell_type": "markdown",
      "source": [
        "Интерпретация:\n",
        "\n",
        "Большие значения R² (близкие к 1) говорят о хорошем качестве модели.\n",
        "Значимые коэффициенты у переменных типа охлаждения могут показать, какие методы наиболее эффективны в конкретных климатических условиях."
      ],
      "metadata": {
        "id": "z3wcDLi59pAD"
      }
    },
    {
      "cell_type": "markdown",
      "source": [
        "**Выводы**"
      ],
      "metadata": {
        "id": "sxtzn9iX90KQ"
      }
    },
    {
      "cell_type": "markdown",
      "source": [
        "1. Температура в офисе часто зависит от температуры на улице, особенно в странах с жарким климатом.\n",
        "2. Влажность во многих случаях отклоняется от рекомендованной — важно инвестировать в увлажнители/осушители воздуха.\n",
        "3. Тип охлаждения (например, центральный кондиционер, вентиляция и т.д.) имеет разный эффект в зависимости от региона.\n",
        "4. Рекомендация: Инвестировать больше в региональные решения, например, мощное кондиционирование в жарких странах и системы вентиляции с контролем влажности в странах с колебаниями влажности."
      ],
      "metadata": {
        "id": "-b1y0Hqd94FC"
      }
    },
    {
      "cell_type": "markdown",
      "source": [
        "# Проверка гипотез Neon\n",
        "\n",
        "### Есть ли взаимосвязь между количеством рекламаций и оценкой комфорта?\n",
        "-  Н0: Взаимосвязь между количеством рекламаций и оценкой комфорта нет.\n",
        "-  Н1: Взаимосвязи между количеством рекламаций и оценкой комфорта есть.\n",
        "\n",
        "Есть отрицательная корреляция и она точно не случайна так как p-value = 0.     \n",
        "Так как взаимосвязь есть отклоняем нулевую гипотезу."
      ],
      "metadata": {
        "id": "OXFkLED2iXDc"
      }
    },
    {
      "cell_type": "code",
      "source": [
        "# тест на нормальность\n",
        "stat, p_value = stats.shapiro(df1['количество_рекламаций'])\n",
        "print(f\"p-value: {p_value:.5f} \")  # данные не нормальные\n",
        "stat, p_value = stats.shapiro(df1['оценка_комфорта'])\n",
        "print(f\"p-value: {p_value:.5f} \") # данные не нормальные\n",
        "\n",
        "# Коэффициент корреляции Спирмена\n",
        "corr, p_value = stats.spearmanr( df1['количество_рекламаций'], df1['оценка_комфорта'])\n",
        "print(f'Корреляция: {round(corr, 3)}, p-value: {round(p_value, 5)}')\n"
      ],
      "metadata": {
        "id": "2oYWkuql2Tng"
      },
      "execution_count": null,
      "outputs": []
    },
    {
      "cell_type": "markdown",
      "source": [
        "### Проверить гипотезу о том, что средняя оценка комфорта отличается в зависимости от страны\n",
        "- Н0: Средняя оценка комфорта не отличается в зависимости от страны.\n",
        "- Н1: Средняя оценка комфорта отличается в зависимости от страны.\n",
        "  Исходя из этих данных можем отклонить вторую гипотезу и принять первую. Т.е,\n",
        "  Средняя оценка комфорта действительно отличается в зависимости от странны. Также можем наблюдать значительно низкое среднее значение в США относительно других стран."
      ],
      "metadata": {
        "id": "zyTgX2NDjdnb"
      }
    },
    {
      "cell_type": "code",
      "source": [
        "print(df1.groupby('страна')['оценка_комфорта'].mean())\n",
        "\n",
        "\n",
        "groups = [group['оценка_комфорта'].values for name, group in df1.groupby('страна')]\n",
        "# Применим Kruskel Wallis\n",
        "f_stat, p_value = stats.kruskal(*groups)\n",
        "print(f\"\\n H-число: {round(f_stat,3)}, p-value: {round(p_value, 5)}\")\n"
      ],
      "metadata": {
        "id": "Cb_U5tdNqyMO"
      },
      "execution_count": null,
      "outputs": []
    },
    {
      "cell_type": "markdown",
      "source": [
        "Проверить гипотезу \"Влияет ли способ охлаждения на оценку комфорта?\"\n",
        "* Н0: способ охлаждения не влияет на оценку комфорта.\n",
        "* Н1: способ охлаждения влияет на оценку комфорта\n",
        "\n",
        "Результаты отклоняют нулевую гипотезу , способ охлаждения влияет на оценку комфорта, но различия минимальны ."
      ],
      "metadata": {
        "id": "x9SVBYtFK1ze"
      }
    },
    {
      "cell_type": "code",
      "source": [
        "# тест на нормальность\n",
        "for name, group in df1.groupby('способ_охлаждения'):\n",
        "    stat, p = stats.shapiro(group['оценка_комфорта'])\n",
        "    print(f\"Способ охлаждения: {name}, p-value = {p:.5f}\") # данные не нормальные\n",
        "\n",
        "# Применим Краскел Уолис\n",
        "groups = [group['оценка_комфорта'].values for name, group in df.groupby('способ_охлаждения')]\n",
        "h_stat, p_value = stats.kruskal(*groups)\n",
        "print(f\"\\nH-статистика: {f_stat:.3f}, p-value: {p_value:.5f}\")"
      ],
      "metadata": {
        "id": "DtFMomOXkdKV"
      },
      "execution_count": null,
      "outputs": []
    },
    {
      "cell_type": "markdown",
      "source": [
        "Проверить гипотезу \"Влияет ли пол на оценку комфорта?\"\n",
        "* Н0: пол не влияет на оценку комфорта.\n",
        "* Н1: пол влияет на оценку комфорта\n",
        "\n",
        "Результаты не дают нам оснований отклонять нулевую гипотезу. Следовательно пол не влияет на оценку комфорта."
      ],
      "metadata": {
        "id": "qlZeCkBNQUgX"
      }
    },
    {
      "cell_type": "code",
      "source": [
        "# тест на нормальность\n",
        "for name, group in df1.groupby('пол'):\n",
        "    stat, p = stats.shapiro(group['оценка_комфорта'])\n",
        "    print(f\"Пол: {name}, p-value = {p:.5f}\") # данные не нормальные\n",
        "\n",
        "# Применим метод Манна Уитни\n",
        "group_male = df1[df1['пол'] == 'Мужской']['оценка_комфорта'].values\n",
        "group_female = df1[df1['пол'] == 'Женский']['оценка_комфорта'].values\n",
        "stat, p = stats.mannwhitneyu(group_male, group_female, alternative='two-sided')\n",
        "print(f\"U-статистика: {stat:.3f}, p-value: {p:.5f}\")\n"
      ],
      "metadata": {
        "id": "7E2PQnadQgfs"
      },
      "execution_count": null,
      "outputs": []
    },
    {
      "cell_type": "markdown",
      "source": [
        "Проверить гипотезу \"Влияет ли возрастная группа на оценку комфорта?\"\n",
        "* Н0: возрастная группа не влияет на оценку комфорта.\n",
        "* Н1: возрастная группа влияет на оценку комфорта\n",
        "\n",
        "Результаты не дают нам оснований отклонять нулевую гипотезу. Следовательно  возрастная группа не влияет на оценку комфорта."
      ],
      "metadata": {
        "id": "QQ_XGnURdZXF"
      }
    },
    {
      "cell_type": "code",
      "source": [
        "column_names = df1.columns.tolist()\n",
        "# тест на нормальность\n",
        "for name, group in df1.groupby('возраст_кат'):\n",
        "    stat, p = stats.shapiro(group['оценка_комфорта'])\n",
        "    print(f\"Возрастная группа: {name}, p-value = {p:.5f}\") # данные не нормальные\n",
        "\n",
        "# разделение на\n",
        "young = df1[df1['возраст_кат'] == 'молодой возраст']['оценка_комфорта']\n",
        "middle = df1[df1['возраст_кат'] == 'средний возраст']['оценка_комфорта']\n",
        "old = df1[df1['возраст_кат'] == 'пожилой возраст']['оценка_комфорта']\n",
        "\n",
        "# Kruskal–Wallis test\n",
        "stat, p = stats.kruskal(young, middle, old)\n",
        "print(f\"Kruskal–Wallis H = {stat:.4f}, p-value = {p:.5f}\")"
      ],
      "metadata": {
        "id": "NUvdTVIDdnvT",
        "collapsed": true
      },
      "execution_count": null,
      "outputs": []
    },
    {
      "cell_type": "markdown",
      "source": [
        "Проверить гипотезу \"Проверить гипотезу влияет ли климат на оценку комфорта\"\n",
        "* Н0: климат не влияет на оценку комфорта.\n",
        "* Н1: климат влияет на оценку комфорта\n",
        "\n",
        "Результаты дают основание отклонить нулевую гипотезу и принять альтернативную.\n",
        "Климат влияет на оценку комфорта,"
      ],
      "metadata": {
        "id": "gvOApQDXd4MM"
      }
    },
    {
      "cell_type": "code",
      "source": [
        "# тест на нормальность\n",
        "for name, group in df1.groupby('климат'):\n",
        "    stat, p = stats.shapiro(group['оценка_комфорта'])\n",
        "    print(f\"Климат: {name}, p-value = {p:.5f}\") # данные не нормальные\n",
        "\n",
        "# Применим Kruskil wallis test\n",
        "groups = [group['оценка_комфорта'].values for _, group in df1.groupby('климат')]\n",
        "f_stat, p_value = stats.f_oneway(*groups)\n",
        "print(f\"\\nF-статистика: {f_stat:.3f}, p-value: {p_value:.5f}\" )\n"
      ],
      "metadata": {
        "id": "_0jtM7zkexwu"
      },
      "execution_count": null,
      "outputs": []
    },
    {
      "cell_type": "markdown",
      "source": [
        "Проверить гипотезу \"Проверить гипотезу влияет ли время года на оценку комфорта\"\n",
        "* Н0: время года не влияет на оценку комфорта.\n",
        "* Н1: время года влияет на оценку комфорта\n",
        "\n",
        "Результаты (p-value ≥ 0.05) дают основание принять нулевую гипотезу , и показывают что различия статистически не значимы"
      ],
      "metadata": {
        "id": "YawwfJAGpWAI"
      }
    },
    {
      "cell_type": "code",
      "source": [
        "# тест на нормальность\n",
        "for name, group in df1.groupby('время_года'):\n",
        "    stat, p = stats.shapiro(group['оценка_комфорта'])\n",
        "    print(f\"Время года: {name}, p-value = {p:.5f}\") # данные не нормальные\n",
        "\n",
        "# Применим метод краскела уолиса\n",
        "groups = [group['оценка_комфорта'].values for _, group in df1.groupby('время_года')]\n",
        "stat, p_value = stats.kruskal(*groups)\n",
        "\n",
        "print(f\"\\nKruskal-Wallis H-статистика: {stat:.3f}, p-value: {p_value:.5f}\\n\")\n",
        "\n"
      ],
      "metadata": {
        "id": "sYdYitOGpWGB"
      },
      "execution_count": null,
      "outputs": []
    },
    {
      "cell_type": "markdown",
      "source": [
        "Проверить гипотезу \"Хотят ли мужчины и женщины разного изменения температуры / движения воздуха?\"\n",
        "* Н0: Мужчины и женщины не хотят разного изменения движения воздуха?\n",
        "* Н1: Мужчины и женщины  хотят разного изменения движения воздуха?              \n",
        "Результаты p ≥ 0.05  Нет статистически значимой связи между полом и предпочтениями. Придерживаемся нулевой гипотезы\n"
      ],
      "metadata": {
        "id": "w-JdQpT41EWO"
      }
    },
    {
      "cell_type": "code",
      "source": [
        "contingency_table = pd.crosstab(df['пол'], df['предпочтительное_изменение_движения_воздуха'])\n",
        "print(contingency_table)\n",
        "chi2, p, dof, expected = stats.chi2_contingency(contingency_table)\n",
        "print(f\"X2 = {chi2:.4f}, p-value = {p:.5f}\")"
      ],
      "metadata": {
        "id": "u8-w3PI41D8u"
      },
      "execution_count": null,
      "outputs": []
    },
    {
      "cell_type": "markdown",
      "source": [
        "##Выводы\n",
        "* Средняя оценка комфорта  отличается в зависимости от странны. Также можем наблюдать значительно низкое среднее значение в США относительно других стран.\n",
        "* Способ охлаждения влияет на оценку комфорта , но различия минимальны.\n",
        "* Пол не влияет на оценку комфорта.\n",
        "* Возрастная группа не влияет на оценку комфорта.\n",
        "* Климат влияет на оценку комфорта,\n",
        "* Время года не влияет на оценку комфорта.\n",
        "* Мужчины и женщины не хотят разного изменения движения воздуха\n",
        "\n",
        "\n",
        "В США применяется исключительно кондиционированный тип охлаждения, который демонстрирует низкий уровень удовлетворённости  num . Это указывает на необходимость оптимизации данного типа системы в аналогичных регионах с близким климатом.\n",
        "В Индии присутствуют разные типы климатических систем, что позволило провести сравнительный анализ.  \n",
        "Наивысший уровень комфорта был достигнут при использовании кондиционированного тип охлаждения  — 5.6, в то время как   вентиляционный тип показывал 5.15 , а смешанный тип самое низкое число 4.93\n",
        "Это указывает на перспективность инвестиций в кондиционированный тип охлаждения для регионов с похожими климатическими условиями."
      ],
      "metadata": {
        "id": "9pXL1FGSBx-a"
      }
    },
    {
      "cell_type": "markdown",
      "source": [
        "# Регрессионное моделирование Neon\n",
        "Построить регрессионную модель температуры воздуха в помещении в зависимости от типа охлаждения и других значимых факторов. Выбор факторов - на усмотрение исполнителя.                                                                    \n",
        "Выбранные факторы кроме основных:     \n",
        " * время_года\n",
        " * отопление\n",
        " * среднемесячная_температура_на_улице\n",
        " * климат                                                                      \n",
        "  Эти факторы были отобраны потому, что логически должны оказывать влияние на температуру внутри помещения\n",
        "\n",
        "    \n",
        "  Первая версия, с помощью линейной регрессии\n",
        "\n",
        "  "
      ],
      "metadata": {
        "id": "8da0C-nxU4eG"
      }
    },
    {
      "cell_type": "code",
      "source": [
        "# Выбираем признаки и целевую переменную\n",
        "X = df1[['способ_охлаждения', 'время_года','отопление', 'среднемесячная_температура_на_улице', 'климат' ] ]\n",
        "         #'окно', 'двери'\n",
        "y = df1['температура_воздуха_в_помещении']\n",
        "\n",
        "numeric_features = ['среднемесячная_температура_на_улице']\n",
        "categorical_features = [\n",
        "    'время_года',\n",
        "    'способ_охлаждения',\n",
        "    'отопление',\n",
        "    'климат'\n",
        "    # 'окно', 'двери'\n",
        "]\n",
        "\n",
        "\n",
        "\n",
        "# Препроцессор: OneHotEncoder + StandardScaler\n",
        "preprocessor = ColumnTransformer(\n",
        "    transformers=[\n",
        "        ('cat', OneHotEncoder(drop='first'), categorical_features),\n",
        "        # ('num', StandardScaler(), numeric_features)\n",
        "    ]\n",
        ")\n",
        "\n",
        "# Модельный пайплайн: сначала преобразование, потом регрессия\n",
        "pipeline = Pipeline(steps=[\n",
        "    ('preprocessing', preprocessor),\n",
        "    ('regression', LinearRegression())\n",
        "])\n",
        "\n",
        "# Делим на train/test\n",
        "X_train, X_test, y_train, y_test = train_test_split(X, y, test_size=0.2, random_state=42)\n",
        "\n",
        "# Обучение\n",
        "pipeline.fit(X_train, y_train)\n",
        "\n",
        "# Предсказание\n",
        "y_pred = pipeline.predict(X_test)\n",
        "# Метрики\n",
        "print(\"R²:\", r2_score(y_test, y_pred))\n",
        "print(\"RMSE:\", mean_squared_error(y_test, y_pred) ** 0.5)"
      ],
      "metadata": {
        "id": "7VQE1LVjXUrC"
      },
      "execution_count": null,
      "outputs": []
    },
    {
      "cell_type": "markdown",
      "source": [
        "Вторая версия с помощью RandomForestRegressor"
      ],
      "metadata": {
        "id": "c1plBp7ILRP8"
      }
    },
    {
      "cell_type": "code",
      "source": [
        "# Выбираем признаки и целевую переменную\n",
        "X = df1[['способ_охлаждения', 'время_года','отопление', 'среднемесячная_температура_на_улице']]\n",
        "         #'окно', 'двери'\n",
        "y = df1['температура_воздуха_в_помещении']\n",
        "\n",
        "numeric_features = ['среднемесячная_температура_на_улице']\n",
        "categorical_features = [\n",
        "    'время_года',\n",
        "    'способ_охлаждения',\n",
        "    'отопление',\n",
        "    #'окно', 'двери'\n",
        "]\n",
        "\n",
        "# Преобразование признаков\n",
        "preprocessor = ColumnTransformer(transformers=[\n",
        "    ('cat', OneHotEncoder(drop='first'), categorical_features),\n",
        "    # ('num', StandardScaler(), numeric_features)\n",
        "])\n",
        "\n",
        "# Пайплайн с RandomForest\n",
        "pipeline = Pipeline(steps=[\n",
        "    ('preprocessing', preprocessor),\n",
        "    ('regressor', RandomForestRegressor(random_state=42))\n",
        "])\n",
        "\n",
        "# Разделение данных\n",
        "X_train, X_test, y_train, y_test = train_test_split(X, y, test_size=0.2, random_state=42)\n",
        "\n",
        "# Обучение модели\n",
        "pipeline.fit(X_train, y_train)\n",
        "\n",
        "# Предсказание\n",
        "y_pred = pipeline.predict(X_test)\n",
        "\n",
        "# Оценка модели\n",
        "r2 = r2_score(y_test, y_pred)\n",
        "rmse = mean_squared_error(y_test, y_pred) ** 0.5\n",
        "mae = mean_absolute_error(y_test, y_pred)\n",
        "\n",
        "# Вывод результатов\n",
        "print(f\"R²: {r2:.4f}\")\n",
        "print(f\"RMSE: {rmse:.4f}\")\n",
        "print(f\"MAE: {mae:.4f}\")\n"
      ],
      "metadata": {
        "id": "7upMvyA9LRWI"
      },
      "execution_count": null,
      "outputs": []
    },
    {
      "cell_type": "markdown",
      "source": [
        "### Как итог этого раздела\n",
        "\n",
        "С помощью регрессионого моделирования былы созданы две модели. Метрики показывают  результы предсказания модели плохие , и их пока нельзя использовать в реальных ситуациях , т.к средняя ошибка в 7 градусов ужасно высокая. Это в основном из за малого количества данных , при большом количестве факторов . В будущем после сбора более значительных данных , планируется заного переобучить модели и затем использовать их в реальных ситуациях"
      ],
      "metadata": {
        "id": "lYAnmIDTlKTI"
      }
    }
  ]
}